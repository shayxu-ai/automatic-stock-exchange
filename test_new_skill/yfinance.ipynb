{
 "cells": [
  {
   "cell_type": "code",
   "execution_count": 1,
   "metadata": {},
   "outputs": [],
   "source": [
    "import pandas as pd\r\n",
    "import datetime\r\n",
    "from tqdm import tqdm\r\n",
    "\r\n",
    "import yfinance as yf\r\n",
    "\r\n"
   ]
  },
  {
   "cell_type": "code",
   "execution_count": 51,
   "metadata": {},
   "outputs": [
    {
     "name": "stdout",
     "output_type": "stream",
     "text": [
      "- YUII: No data found for this date range, symbol may be delisted\n"
     ]
    }
   ],
   "source": [
    "data_df = yf.Ticker('YUII').history(start='2021-07-06', end='2021-07-07')"
   ]
  }
 ],
 "metadata": {
  "interpreter": {
   "hash": "87e4668eb327ab3c4ab758a072c7ead37fffe33bf1bf61467c1b402e157a0e55"
  },
  "kernelspec": {
   "display_name": "Python 3.7.8 64-bit",
   "name": "python3"
  },
  "language_info": {
   "codemirror_mode": {
    "name": "ipython",
    "version": 3
   },
   "file_extension": ".py",
   "mimetype": "text/x-python",
   "name": "python",
   "nbconvert_exporter": "python",
   "pygments_lexer": "ipython3",
   "version": "3.7.8"
  },
  "orig_nbformat": 4
 },
 "nbformat": 4,
 "nbformat_minor": 2
}