{
 "metadata": {
  "language_info": {
   "codemirror_mode": {
    "name": "ipython",
    "version": 3
   },
   "file_extension": ".py",
   "mimetype": "text/x-python",
   "name": "python",
   "nbconvert_exporter": "python",
   "pygments_lexer": "ipython3",
   "version": "3.8.8-final"
  },
  "orig_nbformat": 2,
  "kernelspec": {
   "name": "python3",
   "display_name": "Python 3.8.8 64-bit",
   "metadata": {
    "interpreter": {
     "hash": "082e9a3bcad0a290d0001e938aa60b99250c6c2ef33a923c00b70f9826caf4b7"
    }
   }
  }
 },
 "nbformat": 4,
 "nbformat_minor": 2,
 "cells": [
  {
   "cell_type": "code",
   "execution_count": 1,
   "metadata": {},
   "outputs": [],
   "source": [
    "import baostock as bs\n",
    "import numpy as np\n",
    "import pandas as pd\n",
    "\n",
    "import tensorflow as tf\n",
    "from tensorflow import keras"
   ]
  },
  {
   "cell_type": "code",
   "execution_count": 11,
   "metadata": {},
   "outputs": [
    {
     "output_type": "stream",
     "name": "stdout",
     "text": [
      "login success!\nlogin respond error_code:0\nlogin respond  error_msg:success\nquery_history_k_data respond error_code:0\nquery_history_k_data respond  error_msg:success\n"
     ]
    }
   ],
   "source": [
    "# 下载数据\n",
    "lg = bs.login()\n",
    "# 显示登陆返回信息\n",
    "print('login respond error_code:'+ lg.error_code)\n",
    "print('login respond  error_msg:'+ lg.error_msg)\n",
    "\n",
    "stock_code = \"300721.SZ\"\n",
    "rs = bs.query_history_k_data(stock_code, \"date,code,open,high,low,close,preclose,volume,amount,adjustflag,turn,tradestatus,pctChg,peTTM,pbMRQ,psTTM,pcfNcfTTM,isST\", start_date='2010-01-01', end_date='2021-03-09', frequency=\"d\", adjustflag=\"3\")\n",
    "print('query_history_k_data respond error_code:'+rs.error_code)\n",
    "print('query_history_k_data respond  error_msg:'+rs.error_msg)\n",
    "\n",
    "#### 打印结果集 ####\n",
    "data_list = []\n",
    "while (rs.error_code == '0') & rs.next():  # 获取一条记录，将记录合并在一起\n",
    "    data_list.append(rs.get_row_data())\n",
    "result = pd.DataFrame(data_list, columns=rs.fields)\n",
    "result.to_csv(stock_code + \".csv\", encoding=\"gbk\", index=False)"
   ]
  },
  {
   "cell_type": "code",
   "execution_count": 10,
   "metadata": {},
   "outputs": [
    {
     "output_type": "execute_result",
     "data": {
      "text/plain": [
       "date           object\n",
       "code           object\n",
       "open           object\n",
       "high           object\n",
       "low            object\n",
       "close          object\n",
       "preclose       object\n",
       "volume         object\n",
       "amount         object\n",
       "adjustflag     object\n",
       "turn           object\n",
       "tradestatus    object\n",
       "pctChg         object\n",
       "peTTM          object\n",
       "pbMRQ          object\n",
       "psTTM          object\n",
       "pcfNcfTTM      object\n",
       "isST           object\n",
       "dtype: object"
      ]
     },
     "metadata": {},
     "execution_count": 10
    }
   ],
   "source": [
    "result.dtypes"
   ]
  },
  {
   "cell_type": "code",
   "execution_count": 7,
   "metadata": {},
   "outputs": [
    {
     "output_type": "execute_result",
     "data": {
      "text/plain": [
       "         date       code     open     high      low    close preclose volume  \\\n",
       "0  2017-11-15  sz.300721  20.0500  24.0600  20.0500  24.0600  16.7100   8575   \n",
       "1  2017-11-16  sz.300721  26.4700  26.4700  26.4700  26.4700  24.0600   2640   \n",
       "2  2017-11-17  sz.300721  29.1200  29.1200  29.1200  29.1200  26.4700   3200   \n",
       "3  2017-11-20  sz.300721  32.0300  32.0300  32.0300  32.0300  29.1200   6625   \n",
       "4  2017-11-21  sz.300721  35.2300  35.2300  35.2300  35.2300  32.0300  22158   \n",
       "\n",
       "        amount adjustflag      turn tradestatus     pctChg      peTTM  \\\n",
       "0  205713.5000          3  0.042768           1  43.985640  30.657271   \n",
       "1   69880.8000          3  0.013167           1  10.016620  33.728095   \n",
       "2   93184.0000          3  0.015960           1  10.011340  37.104728   \n",
       "3  212198.7500          3  0.033042           1   9.993125  40.812652   \n",
       "4  780626.3400          3  0.110514           1   9.990636  44.890095   \n",
       "\n",
       "      pbMRQ     psTTM   pcfNcfTTM isST  \n",
       "0  3.573392  1.658425  -15.129562    0  \n",
       "1  3.931326  1.824543  -16.645034    0  \n",
       "2  4.324904  2.007204  -18.311424    0  \n",
       "3  4.757097  2.207786  -20.141308    0  \n",
       "4  5.232361  2.428358  -22.153553    0  "
      ],
      "text/html": "<div>\n<style scoped>\n    .dataframe tbody tr th:only-of-type {\n        vertical-align: middle;\n    }\n\n    .dataframe tbody tr th {\n        vertical-align: top;\n    }\n\n    .dataframe thead th {\n        text-align: right;\n    }\n</style>\n<table border=\"1\" class=\"dataframe\">\n  <thead>\n    <tr style=\"text-align: right;\">\n      <th></th>\n      <th>date</th>\n      <th>code</th>\n      <th>open</th>\n      <th>high</th>\n      <th>low</th>\n      <th>close</th>\n      <th>preclose</th>\n      <th>volume</th>\n      <th>amount</th>\n      <th>adjustflag</th>\n      <th>turn</th>\n      <th>tradestatus</th>\n      <th>pctChg</th>\n      <th>peTTM</th>\n      <th>pbMRQ</th>\n      <th>psTTM</th>\n      <th>pcfNcfTTM</th>\n      <th>isST</th>\n    </tr>\n  </thead>\n  <tbody>\n    <tr>\n      <th>0</th>\n      <td>2017-11-15</td>\n      <td>sz.300721</td>\n      <td>20.0500</td>\n      <td>24.0600</td>\n      <td>20.0500</td>\n      <td>24.0600</td>\n      <td>16.7100</td>\n      <td>8575</td>\n      <td>205713.5000</td>\n      <td>3</td>\n      <td>0.042768</td>\n      <td>1</td>\n      <td>43.985640</td>\n      <td>30.657271</td>\n      <td>3.573392</td>\n      <td>1.658425</td>\n      <td>-15.129562</td>\n      <td>0</td>\n    </tr>\n    <tr>\n      <th>1</th>\n      <td>2017-11-16</td>\n      <td>sz.300721</td>\n      <td>26.4700</td>\n      <td>26.4700</td>\n      <td>26.4700</td>\n      <td>26.4700</td>\n      <td>24.0600</td>\n      <td>2640</td>\n      <td>69880.8000</td>\n      <td>3</td>\n      <td>0.013167</td>\n      <td>1</td>\n      <td>10.016620</td>\n      <td>33.728095</td>\n      <td>3.931326</td>\n      <td>1.824543</td>\n      <td>-16.645034</td>\n      <td>0</td>\n    </tr>\n    <tr>\n      <th>2</th>\n      <td>2017-11-17</td>\n      <td>sz.300721</td>\n      <td>29.1200</td>\n      <td>29.1200</td>\n      <td>29.1200</td>\n      <td>29.1200</td>\n      <td>26.4700</td>\n      <td>3200</td>\n      <td>93184.0000</td>\n      <td>3</td>\n      <td>0.015960</td>\n      <td>1</td>\n      <td>10.011340</td>\n      <td>37.104728</td>\n      <td>4.324904</td>\n      <td>2.007204</td>\n      <td>-18.311424</td>\n      <td>0</td>\n    </tr>\n    <tr>\n      <th>3</th>\n      <td>2017-11-20</td>\n      <td>sz.300721</td>\n      <td>32.0300</td>\n      <td>32.0300</td>\n      <td>32.0300</td>\n      <td>32.0300</td>\n      <td>29.1200</td>\n      <td>6625</td>\n      <td>212198.7500</td>\n      <td>3</td>\n      <td>0.033042</td>\n      <td>1</td>\n      <td>9.993125</td>\n      <td>40.812652</td>\n      <td>4.757097</td>\n      <td>2.207786</td>\n      <td>-20.141308</td>\n      <td>0</td>\n    </tr>\n    <tr>\n      <th>4</th>\n      <td>2017-11-21</td>\n      <td>sz.300721</td>\n      <td>35.2300</td>\n      <td>35.2300</td>\n      <td>35.2300</td>\n      <td>35.2300</td>\n      <td>32.0300</td>\n      <td>22158</td>\n      <td>780626.3400</td>\n      <td>3</td>\n      <td>0.110514</td>\n      <td>1</td>\n      <td>9.990636</td>\n      <td>44.890095</td>\n      <td>5.232361</td>\n      <td>2.428358</td>\n      <td>-22.153553</td>\n      <td>0</td>\n    </tr>\n  </tbody>\n</table>\n</div>"
     },
     "metadata": {},
     "execution_count": 7
    }
   ],
   "source": [
    "result[0:5]"
   ]
  },
  {
   "cell_type": "code",
   "execution_count": 6,
   "metadata": {},
   "outputs": [
    {
     "output_type": "execute_result",
     "data": {
      "text/plain": [
       "         date    close\n",
       "0  2017-11-15  24.0600\n",
       "1  2017-11-16  26.4700\n",
       "2  2017-11-17  29.1200\n",
       "3  2017-11-20  32.0300\n",
       "4  2017-11-21  35.2300"
      ],
      "text/html": "<div>\n<style scoped>\n    .dataframe tbody tr th:only-of-type {\n        vertical-align: middle;\n    }\n\n    .dataframe tbody tr th {\n        vertical-align: top;\n    }\n\n    .dataframe thead th {\n        text-align: right;\n    }\n</style>\n<table border=\"1\" class=\"dataframe\">\n  <thead>\n    <tr style=\"text-align: right;\">\n      <th></th>\n      <th>date</th>\n      <th>close</th>\n    </tr>\n  </thead>\n  <tbody>\n    <tr>\n      <th>0</th>\n      <td>2017-11-15</td>\n      <td>24.0600</td>\n    </tr>\n    <tr>\n      <th>1</th>\n      <td>2017-11-16</td>\n      <td>26.4700</td>\n    </tr>\n    <tr>\n      <th>2</th>\n      <td>2017-11-17</td>\n      <td>29.1200</td>\n    </tr>\n    <tr>\n      <th>3</th>\n      <td>2017-11-20</td>\n      <td>32.0300</td>\n    </tr>\n    <tr>\n      <th>4</th>\n      <td>2017-11-21</td>\n      <td>35.2300</td>\n    </tr>\n  </tbody>\n</table>\n</div>"
     },
     "metadata": {},
     "execution_count": 6
    }
   ],
   "source": [
    "i = 0\n",
    "result[['date', 'close']][i:i+5]"
   ]
  },
  {
   "cell_type": "code",
   "execution_count": 75,
   "metadata": {},
   "outputs": [],
   "source": [
    "# 读取csv文件\n",
    "stock = pd.read_csv(stock_code + \".csv\")"
   ]
  },
  {
   "cell_type": "code",
   "execution_count": 16,
   "metadata": {},
   "outputs": [
    {
     "output_type": "execute_result",
     "data": {
      "text/plain": [
       "date            object\n",
       "code            object\n",
       "open           float64\n",
       "high           float64\n",
       "low            float64\n",
       "close          float64\n",
       "preclose       float64\n",
       "volume           int64\n",
       "amount         float64\n",
       "adjustflag       int64\n",
       "turn           float64\n",
       "tradestatus      int64\n",
       "pctChg         float64\n",
       "peTTM          float64\n",
       "pbMRQ          float64\n",
       "psTTM          float64\n",
       "pcfNcfTTM      float64\n",
       "isST             int64\n",
       "dtype: object"
      ]
     },
     "metadata": {},
     "execution_count": 16
    }
   ],
   "source": [
    "stock.dtypes"
   ]
  },
  {
   "cell_type": "code",
   "execution_count": 85,
   "metadata": {},
   "outputs": [
    {
     "output_type": "execute_result",
     "data": {
      "text/plain": [
       "0            NaN\n",
       "1      10.016625\n",
       "2      10.011334\n",
       "3       9.993132\n",
       "4       9.990634\n",
       "         ...    \n",
       "800    -0.377054\n",
       "801    -1.865369\n",
       "802    -0.055096\n",
       "803    -1.626240\n",
       "804    -6.976744\n",
       "Name: variation, Length: 805, dtype: float64"
      ]
     },
     "metadata": {},
     "execution_count": 85
    }
   ],
   "source": [
    "stock['variation'] = (stock['close'] - stock['close'].shift(1))/stock['close'].shift(1) * 100\n",
    "stock['variation'] "
   ]
  },
  {
   "cell_type": "code",
   "execution_count": 82,
   "metadata": {},
   "outputs": [],
   "source": [
    "# https://blog.csdn.net/qq_41892229/article/details/109702038\n",
    "stock_bins = [-10,-5,-3,0,3,5,10]\n",
    "stock_GEM_bins      # \n",
    "a = pd.cut(x=stock['variation'],bins=stock_bins,right=True)"
   ]
  },
  {
   "cell_type": "code",
   "execution_count": 83,
   "metadata": {},
   "outputs": [
    {
     "output_type": "execute_result",
     "data": {
      "text/plain": [
       "0                NaN\n",
       "1                NaN\n",
       "2                NaN\n",
       "3        (5.0, 10.0]\n",
       "4        (5.0, 10.0]\n",
       "           ...      \n",
       "800      (-3.0, 0.0]\n",
       "801      (-3.0, 0.0]\n",
       "802      (-3.0, 0.0]\n",
       "803      (-3.0, 0.0]\n",
       "804    (-10.0, -5.0]\n",
       "Name: variation, Length: 805, dtype: category\n",
       "Categories (6, interval[int64]): [(-10, -5] < (-5, -3] < (-3, 0] < (0, 3] < (3, 5] < (5, 10]]"
      ]
     },
     "metadata": {},
     "execution_count": 83
    }
   ],
   "source": [
    "a"
   ]
  },
  {
   "cell_type": "code",
   "execution_count": 81,
   "metadata": {},
   "outputs": [
    {
     "output_type": "execute_result",
     "data": {
      "text/plain": [
       "array([-10,  -5,  -3,   0,   3,   5,  10])"
      ]
     },
     "metadata": {},
     "execution_count": 81
    }
   ],
   "source": [
    "b"
   ]
  },
  {
   "cell_type": "code",
   "execution_count": null,
   "metadata": {},
   "outputs": [],
   "source": []
  }
 ]
}