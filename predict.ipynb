{
 "metadata": {
  "language_info": {
   "codemirror_mode": {
    "name": "ipython",
    "version": 3
   },
   "file_extension": ".py",
   "mimetype": "text/x-python",
   "name": "python",
   "nbconvert_exporter": "python",
   "pygments_lexer": "ipython3",
   "version": "3.7.8-final"
  },
  "orig_nbformat": 2,
  "kernelspec": {
   "name": "python3",
   "display_name": "Python 3",
   "language": "python"
  }
 },
 "nbformat": 4,
 "nbformat_minor": 2,
 "cells": [
  {
   "source": [
    "# 通过CNN分析价格曲线，预测涨跌  \n",
    "短， 中， 长线  \n",
    "20 x 20  20个月 80个礼拜  => if 未来1个月的股价 > 当前股价\n"
   ],
   "cell_type": "markdown",
   "metadata": {}
  },
  {
   "cell_type": "code",
   "execution_count": 54,
   "metadata": {},
   "outputs": [],
   "source": [
    "import baostock as bs\n",
    "import numpy as np\n",
    "import pandas as pd\n",
    "\n",
    "import tensorflow as tf\n",
    "from tensorflow import keras\n",
    "import matplotlib. pyplot as plt \n",
    "\n",
    "from tensorflow.keras.models import Sequential\n",
    "from tensorflow.keras.layers import Dense,Flatten,Reshape,Dropout,Activation\n",
    "from tensorflow.keras.layers import Conv2D,MaxPooling2D\n",
    "from tensorflow.keras.layers import Conv1D,MaxPooling1D\n",
    "from tensorflow.keras.optimizers import SGD\n",
    "from sklearn.model_selection import train_test_split"
   ]
  },
  {
   "cell_type": "code",
   "execution_count": 3,
   "metadata": {},
   "outputs": [],
   "source": [
    "# 读取csv文件\n",
    "stock_code = \"300721.SZ\"\n",
    "stock = pd.read_csv(stock_code + \".csv\")"
   ]
  },
  {
   "cell_type": "code",
   "execution_count": 26,
   "metadata": {},
   "outputs": [],
   "source": [
    "predict_period = 20 \n",
    "history_period = 400"
   ]
  },
  {
   "cell_type": "code",
   "execution_count": 17,
   "metadata": {},
   "outputs": [],
   "source": [
    "stock['future_price'] = stock['close'].rolling(predict_period).mean()"
   ]
  },
  {
   "cell_type": "code",
   "execution_count": 18,
   "metadata": {},
   "outputs": [
    {
     "output_type": "execute_result",
     "data": {
      "text/plain": [
       "           date       code   open   high    low  close  preclose   volume  \\\n",
       "0    2017-11-15  sz.300721  20.05  24.06  20.05  24.06     16.71     8575   \n",
       "1    2017-11-16  sz.300721  26.47  26.47  26.47  26.47     24.06     2640   \n",
       "2    2017-11-17  sz.300721  29.12  29.12  29.12  29.12     26.47     3200   \n",
       "3    2017-11-20  sz.300721  32.03  32.03  32.03  32.03     29.12     6625   \n",
       "4    2017-11-21  sz.300721  35.23  35.23  35.23  35.23     32.03    22158   \n",
       "..          ...        ...    ...    ...    ...    ...       ...      ...   \n",
       "800  2021-03-03  sz.300721  36.85  37.23  36.30  36.99     37.13  1185380   \n",
       "801  2021-03-04  sz.300721  36.90  37.36  36.10  36.30     36.99  1243800   \n",
       "802  2021-03-05  sz.300721  35.96  36.75  35.90  36.28     36.30   926368   \n",
       "803  2021-03-08  sz.300721  36.50  37.26  35.69  35.69     36.28  1316400   \n",
       "804  2021-03-09  sz.300721  35.50  36.38  33.19  33.20     35.69  2618300   \n",
       "\n",
       "          amount  adjustflag      turn  tradestatus     pctChg       peTTM  \\\n",
       "0      205713.50           3  0.042768            1  43.985640   30.657271   \n",
       "1       69880.80           3  0.013167            1  10.016620   33.728095   \n",
       "2       93184.00           3  0.015960            1  10.011340   37.104728   \n",
       "3      212198.75           3  0.033042            1   9.993125   40.812652   \n",
       "4      780626.34           3  0.110514            1   9.990636   44.890095   \n",
       "..           ...         ...       ...          ...        ...         ...   \n",
       "800  43522407.60           3  1.493900            1  -0.377100 -404.037624   \n",
       "801  45556710.72           3  1.567500            1  -1.865400 -396.500831   \n",
       "802  33786622.04           3  1.167400            1  -0.055100 -396.282373   \n",
       "803  48238437.00           3  1.659000            1  -1.626200 -389.837870   \n",
       "804  90946127.00           3  3.299700            1  -6.976700 -362.639879   \n",
       "\n",
       "        pbMRQ     psTTM  pcfNcfTTM  isST  future_price  \n",
       "0    3.573392  1.658425 -15.129562     0           NaN  \n",
       "1    3.931326  1.824543 -16.645034     0           NaN  \n",
       "2    4.324904  2.007204 -18.311424     0           NaN  \n",
       "3    4.757097  2.207786 -20.141308     0           NaN  \n",
       "4    5.232361  2.428358 -22.153553     0           NaN  \n",
       "..        ...       ...        ...   ...           ...  \n",
       "800  3.806287  3.251413  56.558233     0       33.0705  \n",
       "801  3.735286  3.190762  55.503213     0       33.3240  \n",
       "802  3.733228  3.189004  55.472633     0       33.5690  \n",
       "803  3.672517  3.137143  54.570515     0       33.7480  \n",
       "804  3.416294  2.918273  50.763270     0       33.8280  \n",
       "\n",
       "[805 rows x 19 columns]"
      ],
      "text/html": "<div>\n<style scoped>\n    .dataframe tbody tr th:only-of-type {\n        vertical-align: middle;\n    }\n\n    .dataframe tbody tr th {\n        vertical-align: top;\n    }\n\n    .dataframe thead th {\n        text-align: right;\n    }\n</style>\n<table border=\"1\" class=\"dataframe\">\n  <thead>\n    <tr style=\"text-align: right;\">\n      <th></th>\n      <th>date</th>\n      <th>code</th>\n      <th>open</th>\n      <th>high</th>\n      <th>low</th>\n      <th>close</th>\n      <th>preclose</th>\n      <th>volume</th>\n      <th>amount</th>\n      <th>adjustflag</th>\n      <th>turn</th>\n      <th>tradestatus</th>\n      <th>pctChg</th>\n      <th>peTTM</th>\n      <th>pbMRQ</th>\n      <th>psTTM</th>\n      <th>pcfNcfTTM</th>\n      <th>isST</th>\n      <th>future_price</th>\n    </tr>\n  </thead>\n  <tbody>\n    <tr>\n      <th>0</th>\n      <td>2017-11-15</td>\n      <td>sz.300721</td>\n      <td>20.05</td>\n      <td>24.06</td>\n      <td>20.05</td>\n      <td>24.06</td>\n      <td>16.71</td>\n      <td>8575</td>\n      <td>205713.50</td>\n      <td>3</td>\n      <td>0.042768</td>\n      <td>1</td>\n      <td>43.985640</td>\n      <td>30.657271</td>\n      <td>3.573392</td>\n      <td>1.658425</td>\n      <td>-15.129562</td>\n      <td>0</td>\n      <td>NaN</td>\n    </tr>\n    <tr>\n      <th>1</th>\n      <td>2017-11-16</td>\n      <td>sz.300721</td>\n      <td>26.47</td>\n      <td>26.47</td>\n      <td>26.47</td>\n      <td>26.47</td>\n      <td>24.06</td>\n      <td>2640</td>\n      <td>69880.80</td>\n      <td>3</td>\n      <td>0.013167</td>\n      <td>1</td>\n      <td>10.016620</td>\n      <td>33.728095</td>\n      <td>3.931326</td>\n      <td>1.824543</td>\n      <td>-16.645034</td>\n      <td>0</td>\n      <td>NaN</td>\n    </tr>\n    <tr>\n      <th>2</th>\n      <td>2017-11-17</td>\n      <td>sz.300721</td>\n      <td>29.12</td>\n      <td>29.12</td>\n      <td>29.12</td>\n      <td>29.12</td>\n      <td>26.47</td>\n      <td>3200</td>\n      <td>93184.00</td>\n      <td>3</td>\n      <td>0.015960</td>\n      <td>1</td>\n      <td>10.011340</td>\n      <td>37.104728</td>\n      <td>4.324904</td>\n      <td>2.007204</td>\n      <td>-18.311424</td>\n      <td>0</td>\n      <td>NaN</td>\n    </tr>\n    <tr>\n      <th>3</th>\n      <td>2017-11-20</td>\n      <td>sz.300721</td>\n      <td>32.03</td>\n      <td>32.03</td>\n      <td>32.03</td>\n      <td>32.03</td>\n      <td>29.12</td>\n      <td>6625</td>\n      <td>212198.75</td>\n      <td>3</td>\n      <td>0.033042</td>\n      <td>1</td>\n      <td>9.993125</td>\n      <td>40.812652</td>\n      <td>4.757097</td>\n      <td>2.207786</td>\n      <td>-20.141308</td>\n      <td>0</td>\n      <td>NaN</td>\n    </tr>\n    <tr>\n      <th>4</th>\n      <td>2017-11-21</td>\n      <td>sz.300721</td>\n      <td>35.23</td>\n      <td>35.23</td>\n      <td>35.23</td>\n      <td>35.23</td>\n      <td>32.03</td>\n      <td>22158</td>\n      <td>780626.34</td>\n      <td>3</td>\n      <td>0.110514</td>\n      <td>1</td>\n      <td>9.990636</td>\n      <td>44.890095</td>\n      <td>5.232361</td>\n      <td>2.428358</td>\n      <td>-22.153553</td>\n      <td>0</td>\n      <td>NaN</td>\n    </tr>\n    <tr>\n      <th>...</th>\n      <td>...</td>\n      <td>...</td>\n      <td>...</td>\n      <td>...</td>\n      <td>...</td>\n      <td>...</td>\n      <td>...</td>\n      <td>...</td>\n      <td>...</td>\n      <td>...</td>\n      <td>...</td>\n      <td>...</td>\n      <td>...</td>\n      <td>...</td>\n      <td>...</td>\n      <td>...</td>\n      <td>...</td>\n      <td>...</td>\n      <td>...</td>\n    </tr>\n    <tr>\n      <th>800</th>\n      <td>2021-03-03</td>\n      <td>sz.300721</td>\n      <td>36.85</td>\n      <td>37.23</td>\n      <td>36.30</td>\n      <td>36.99</td>\n      <td>37.13</td>\n      <td>1185380</td>\n      <td>43522407.60</td>\n      <td>3</td>\n      <td>1.493900</td>\n      <td>1</td>\n      <td>-0.377100</td>\n      <td>-404.037624</td>\n      <td>3.806287</td>\n      <td>3.251413</td>\n      <td>56.558233</td>\n      <td>0</td>\n      <td>33.0705</td>\n    </tr>\n    <tr>\n      <th>801</th>\n      <td>2021-03-04</td>\n      <td>sz.300721</td>\n      <td>36.90</td>\n      <td>37.36</td>\n      <td>36.10</td>\n      <td>36.30</td>\n      <td>36.99</td>\n      <td>1243800</td>\n      <td>45556710.72</td>\n      <td>3</td>\n      <td>1.567500</td>\n      <td>1</td>\n      <td>-1.865400</td>\n      <td>-396.500831</td>\n      <td>3.735286</td>\n      <td>3.190762</td>\n      <td>55.503213</td>\n      <td>0</td>\n      <td>33.3240</td>\n    </tr>\n    <tr>\n      <th>802</th>\n      <td>2021-03-05</td>\n      <td>sz.300721</td>\n      <td>35.96</td>\n      <td>36.75</td>\n      <td>35.90</td>\n      <td>36.28</td>\n      <td>36.30</td>\n      <td>926368</td>\n      <td>33786622.04</td>\n      <td>3</td>\n      <td>1.167400</td>\n      <td>1</td>\n      <td>-0.055100</td>\n      <td>-396.282373</td>\n      <td>3.733228</td>\n      <td>3.189004</td>\n      <td>55.472633</td>\n      <td>0</td>\n      <td>33.5690</td>\n    </tr>\n    <tr>\n      <th>803</th>\n      <td>2021-03-08</td>\n      <td>sz.300721</td>\n      <td>36.50</td>\n      <td>37.26</td>\n      <td>35.69</td>\n      <td>35.69</td>\n      <td>36.28</td>\n      <td>1316400</td>\n      <td>48238437.00</td>\n      <td>3</td>\n      <td>1.659000</td>\n      <td>1</td>\n      <td>-1.626200</td>\n      <td>-389.837870</td>\n      <td>3.672517</td>\n      <td>3.137143</td>\n      <td>54.570515</td>\n      <td>0</td>\n      <td>33.7480</td>\n    </tr>\n    <tr>\n      <th>804</th>\n      <td>2021-03-09</td>\n      <td>sz.300721</td>\n      <td>35.50</td>\n      <td>36.38</td>\n      <td>33.19</td>\n      <td>33.20</td>\n      <td>35.69</td>\n      <td>2618300</td>\n      <td>90946127.00</td>\n      <td>3</td>\n      <td>3.299700</td>\n      <td>1</td>\n      <td>-6.976700</td>\n      <td>-362.639879</td>\n      <td>3.416294</td>\n      <td>2.918273</td>\n      <td>50.763270</td>\n      <td>0</td>\n      <td>33.8280</td>\n    </tr>\n  </tbody>\n</table>\n<p>805 rows × 19 columns</p>\n</div>"
     },
     "metadata": {},
     "execution_count": 18
    }
   ],
   "source": [
    "stock"
   ]
  },
  {
   "cell_type": "code",
   "execution_count": 51,
   "metadata": {},
   "outputs": [],
   "source": [
    "# rolling 是向上卷的。 \n",
    "y = stock['future_price'][history_period-1:].values[:-predict_period]"
   ]
  },
  {
   "cell_type": "code",
   "execution_count": 62,
   "metadata": {},
   "outputs": [],
   "source": [
    "n = len(stock)\n",
    "x = np.array([stock['close'][i:i+history_period] for i in range(n-history_period+1)])[20:].reshape([386, 20, 20])[0]"
   ]
  },
  {
   "cell_type": "code",
   "execution_count": 63,
   "metadata": {},
   "outputs": [
    {
     "output_type": "execute_result",
     "data": {
      "text/plain": [
       "(805, (20, 20), (386,))"
      ]
     },
     "metadata": {},
     "execution_count": 63
    }
   ],
   "source": [
    "n, x.shape, y.shape"
   ]
  },
  {
   "cell_type": "code",
   "execution_count": 64,
   "metadata": {},
   "outputs": [
    {
     "output_type": "error",
     "ename": "ValueError",
     "evalue": "Found input variables with inconsistent numbers of samples: [20, 386]",
     "traceback": [
      "\u001b[1;31m---------------------------------------------------------------------------\u001b[0m",
      "\u001b[1;31mValueError\u001b[0m                                Traceback (most recent call last)",
      "\u001b[1;32m<ipython-input-64-31e3634f778e>\u001b[0m in \u001b[0;36m<module>\u001b[1;34m\u001b[0m\n\u001b[1;32m----> 1\u001b[1;33m \u001b[0mx_train\u001b[0m\u001b[1;33m,\u001b[0m \u001b[0mx_test\u001b[0m\u001b[1;33m,\u001b[0m \u001b[0my_train\u001b[0m\u001b[1;33m,\u001b[0m \u001b[0my_test\u001b[0m \u001b[1;33m=\u001b[0m \u001b[0mtrain_test_split\u001b[0m\u001b[1;33m(\u001b[0m\u001b[0mx\u001b[0m\u001b[1;33m,\u001b[0m\u001b[0my\u001b[0m\u001b[1;33m,\u001b[0m\u001b[0mtest_size\u001b[0m\u001b[1;33m=\u001b[0m\u001b[1;36m0.2\u001b[0m\u001b[1;33m,\u001b[0m\u001b[0mshuffle\u001b[0m\u001b[1;33m=\u001b[0m\u001b[1;32mFalse\u001b[0m\u001b[1;33m)\u001b[0m  \u001b[1;31m#拆分数据集，将test集为0.2，参数不同\u001b[0m\u001b[1;33m\u001b[0m\u001b[1;33m\u001b[0m\u001b[0m\n\u001b[0m\u001b[0;32m      2\u001b[0m \u001b[0mprint\u001b[0m\u001b[1;33m(\u001b[0m\u001b[0mx_train\u001b[0m\u001b[1;33m.\u001b[0m\u001b[0mshape\u001b[0m\u001b[1;33m)\u001b[0m\u001b[1;33m\u001b[0m\u001b[1;33m\u001b[0m\u001b[0m\n\u001b[0;32m      3\u001b[0m \u001b[1;33m\u001b[0m\u001b[0m\n\u001b[0;32m      4\u001b[0m \u001b[0mplt\u001b[0m\u001b[1;33m.\u001b[0m\u001b[0mplot\u001b[0m\u001b[1;33m(\u001b[0m\u001b[0my\u001b[0m\u001b[1;33m)\u001b[0m\u001b[1;33m\u001b[0m\u001b[1;33m\u001b[0m\u001b[0m\n\u001b[0;32m      5\u001b[0m \u001b[0mplt\u001b[0m\u001b[1;33m.\u001b[0m\u001b[0mplot\u001b[0m\u001b[1;33m(\u001b[0m\u001b[0my_train\u001b[0m\u001b[1;33m)\u001b[0m\u001b[1;33m\u001b[0m\u001b[1;33m\u001b[0m\u001b[0m\n",
      "\u001b[1;32m~\\AppData\\Local\\Programs\\Python\\Python37\\lib\\site-packages\\sklearn\\model_selection\\_split.py\u001b[0m in \u001b[0;36mtrain_test_split\u001b[1;34m(*arrays, **options)\u001b[0m\n\u001b[0;32m   2125\u001b[0m         \u001b[1;32mraise\u001b[0m \u001b[0mTypeError\u001b[0m\u001b[1;33m(\u001b[0m\u001b[1;34m\"Invalid parameters passed: %s\"\u001b[0m \u001b[1;33m%\u001b[0m \u001b[0mstr\u001b[0m\u001b[1;33m(\u001b[0m\u001b[0moptions\u001b[0m\u001b[1;33m)\u001b[0m\u001b[1;33m)\u001b[0m\u001b[1;33m\u001b[0m\u001b[1;33m\u001b[0m\u001b[0m\n\u001b[0;32m   2126\u001b[0m \u001b[1;33m\u001b[0m\u001b[0m\n\u001b[1;32m-> 2127\u001b[1;33m     \u001b[0marrays\u001b[0m \u001b[1;33m=\u001b[0m \u001b[0mindexable\u001b[0m\u001b[1;33m(\u001b[0m\u001b[1;33m*\u001b[0m\u001b[0marrays\u001b[0m\u001b[1;33m)\u001b[0m\u001b[1;33m\u001b[0m\u001b[1;33m\u001b[0m\u001b[0m\n\u001b[0m\u001b[0;32m   2128\u001b[0m \u001b[1;33m\u001b[0m\u001b[0m\n\u001b[0;32m   2129\u001b[0m     \u001b[0mn_samples\u001b[0m \u001b[1;33m=\u001b[0m \u001b[0m_num_samples\u001b[0m\u001b[1;33m(\u001b[0m\u001b[0marrays\u001b[0m\u001b[1;33m[\u001b[0m\u001b[1;36m0\u001b[0m\u001b[1;33m]\u001b[0m\u001b[1;33m)\u001b[0m\u001b[1;33m\u001b[0m\u001b[1;33m\u001b[0m\u001b[0m\n",
      "\u001b[1;32m~\\AppData\\Local\\Programs\\Python\\Python37\\lib\\site-packages\\sklearn\\utils\\validation.py\u001b[0m in \u001b[0;36mindexable\u001b[1;34m(*iterables)\u001b[0m\n\u001b[0;32m    291\u001b[0m     \"\"\"\n\u001b[0;32m    292\u001b[0m     \u001b[0mresult\u001b[0m \u001b[1;33m=\u001b[0m \u001b[1;33m[\u001b[0m\u001b[0m_make_indexable\u001b[0m\u001b[1;33m(\u001b[0m\u001b[0mX\u001b[0m\u001b[1;33m)\u001b[0m \u001b[1;32mfor\u001b[0m \u001b[0mX\u001b[0m \u001b[1;32min\u001b[0m \u001b[0miterables\u001b[0m\u001b[1;33m]\u001b[0m\u001b[1;33m\u001b[0m\u001b[1;33m\u001b[0m\u001b[0m\n\u001b[1;32m--> 293\u001b[1;33m     \u001b[0mcheck_consistent_length\u001b[0m\u001b[1;33m(\u001b[0m\u001b[1;33m*\u001b[0m\u001b[0mresult\u001b[0m\u001b[1;33m)\u001b[0m\u001b[1;33m\u001b[0m\u001b[1;33m\u001b[0m\u001b[0m\n\u001b[0m\u001b[0;32m    294\u001b[0m     \u001b[1;32mreturn\u001b[0m \u001b[0mresult\u001b[0m\u001b[1;33m\u001b[0m\u001b[1;33m\u001b[0m\u001b[0m\n\u001b[0;32m    295\u001b[0m \u001b[1;33m\u001b[0m\u001b[0m\n",
      "\u001b[1;32m~\\AppData\\Local\\Programs\\Python\\Python37\\lib\\site-packages\\sklearn\\utils\\validation.py\u001b[0m in \u001b[0;36mcheck_consistent_length\u001b[1;34m(*arrays)\u001b[0m\n\u001b[0;32m    255\u001b[0m     \u001b[1;32mif\u001b[0m \u001b[0mlen\u001b[0m\u001b[1;33m(\u001b[0m\u001b[0muniques\u001b[0m\u001b[1;33m)\u001b[0m \u001b[1;33m>\u001b[0m \u001b[1;36m1\u001b[0m\u001b[1;33m:\u001b[0m\u001b[1;33m\u001b[0m\u001b[1;33m\u001b[0m\u001b[0m\n\u001b[0;32m    256\u001b[0m         raise ValueError(\"Found input variables with inconsistent numbers of\"\n\u001b[1;32m--> 257\u001b[1;33m                          \" samples: %r\" % [int(l) for l in lengths])\n\u001b[0m\u001b[0;32m    258\u001b[0m \u001b[1;33m\u001b[0m\u001b[0m\n\u001b[0;32m    259\u001b[0m \u001b[1;33m\u001b[0m\u001b[0m\n",
      "\u001b[1;31mValueError\u001b[0m: Found input variables with inconsistent numbers of samples: [20, 386]"
     ]
    }
   ],
   "source": [
    "x_train, x_test, y_train, y_test = train_test_split(x,y,test_size=0.2,shuffle=False)  #拆分数据集，将test集为0.2，参数不同\n",
    "print(x_train.shape)\n",
    "\n",
    "plt.plot(y)\n",
    "plt.plot(y_train)\n",
    "plt.plot(y_test)"
   ]
  },
  {
   "cell_type": "code",
   "execution_count": null,
   "metadata": {},
   "outputs": [],
   "source": [
    "model = keras.models.Sequential()\n",
    "model.add(keras.layers.Conv2D(32, (3, 3), activation='relu', input_shape=(20, 20, 1)))\n",
    "model.add(keras.layers.MaxPooling2D((2, 2)))\n",
    "model.add(keras.layers.Conv2D(64, (3, 3), activation='relu'))\n",
    "model.add(keras.layers.MaxPooling2D((2, 2)))\n",
    "model.add(keras.layers.Conv2D(64, (3, 3), activation='relu'))\n",
    "\n",
    "model.add(keras.layers.Flatten())\n",
    "model.add(keras.layers.Dense(64, activation='relu'))\n",
    "model.add(keras.layers.Dense(len(train_ds.class_names)))\n",
    "\n",
    "# model.summary()\n",
    "\n",
    "model.compile(optimizer='adam', \n",
    "            loss=tf.keras.losses.SparseCategoricalCrossentropy(from_logits=True),\n",
    "            metrics=['accuracy'])\n",
    "\n",
    "model.fit(train_ds, validation_data=val_ds, epochs=1)\n",
    "tf.saved_model.save(model, 'saved_model/')"
   ]
  }
 ]
}