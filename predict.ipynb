{
 "metadata": {
  "language_info": {
   "codemirror_mode": {
    "name": "ipython",
    "version": 3
   },
   "file_extension": ".py",
   "mimetype": "text/x-python",
   "name": "python",
   "nbconvert_exporter": "python",
   "pygments_lexer": "ipython3",
   "version": "3.7.8-final"
  },
  "orig_nbformat": 2,
  "kernelspec": {
   "name": "python378jvsc74a57bd087e4668eb327ab3c4ab758a072c7ead37fffe33bf1bf61467c1b402e157a0e55",
   "display_name": "Python 3.7.8 64-bit"
  },
  "metadata": {
   "interpreter": {
    "hash": "082e9a3bcad0a290d0001e938aa60b99250c6c2ef33a923c00b70f9826caf4b7"
   }
  }
 },
 "nbformat": 4,
 "nbformat_minor": 2,
 "cells": [
  {
   "source": [
    "# 通过CNN分析价格曲线，预测涨跌  \n",
    " \n",
    "20 x 20=400个工作日  20个月 80个礼拜  => if 未来20个工作日的平均股价 > 当前股价\n"
   ],
   "cell_type": "markdown",
   "metadata": {}
  },
  {
   "cell_type": "code",
   "execution_count": 2,
   "metadata": {},
   "outputs": [],
   "source": [
    "import baostock as bs\n",
    "import numpy as np\n",
    "import pandas as pd\n",
    "\n",
    "import tensorflow as tf\n",
    "from tensorflow import keras\n",
    "import matplotlib. pyplot as plt \n",
    "\n",
    "from tensorflow.keras.models import Sequential\n",
    "from tensorflow.keras.layers import Dense,Flatten,Reshape,Dropout,Activation\n",
    "from tensorflow.keras.layers import Conv2D,MaxPooling2D\n",
    "from tensorflow.keras.layers import Conv1D,MaxPooling1D\n",
    "from tensorflow.keras.optimizers import SGD\n",
    "from sklearn.model_selection import train_test_split"
   ]
  },
  {
   "cell_type": "code",
   "execution_count": 3,
   "metadata": {},
   "outputs": [],
   "source": [
    "import datetime\n",
    "import baostock as bs"
   ]
  },
  {
   "cell_type": "code",
   "execution_count": 2,
   "metadata": {},
   "outputs": [
    {
     "output_type": "stream",
     "name": "stdout",
     "text": [
      "login success!\n"
     ]
    },
    {
     "output_type": "execute_result",
     "data": {
      "text/plain": [
       "<baostock.data.resultset.ResultData at 0x1b7fdfc1e48>"
      ]
     },
     "metadata": {},
     "execution_count": 2
    }
   ],
   "source": [
    "bs.login()\n"
   ]
  },
  {
   "cell_type": "code",
   "execution_count": 3,
   "metadata": {},
   "outputs": [],
   "source": [
    "stock_rs = bs.query_all_stock(\"2021-04-02\")\n",
    "stock_df = stock_rs.get_data()\n",
    "stock_df['code'].to_csv('stock_codes.csv')"
   ]
  },
  {
   "cell_type": "code",
   "execution_count": 14,
   "metadata": {},
   "outputs": [
    {
     "output_type": "execute_result",
     "data": {
      "text/plain": [
       "          code tradeStatus       code_name\n",
       "160  sh.000852           1        中证1000指数\n",
       "161  sh.000853           1  中证申万一带一路主题投资指数\n",
       "162  sh.000854           1      中证500原材料指数\n",
       "163  sh.000855           1       央视财经500指数\n",
       "164  sh.000856           1       中证500工业指数\n",
       "165  sh.000857           1     中证500医药卫生指数\n",
       "166  sh.000858           1     中证500信息技术指数"
      ],
      "text/html": "<div>\n<style scoped>\n    .dataframe tbody tr th:only-of-type {\n        vertical-align: middle;\n    }\n\n    .dataframe tbody tr th {\n        vertical-align: top;\n    }\n\n    .dataframe thead th {\n        text-align: right;\n    }\n</style>\n<table border=\"1\" class=\"dataframe\">\n  <thead>\n    <tr style=\"text-align: right;\">\n      <th></th>\n      <th>code</th>\n      <th>tradeStatus</th>\n      <th>code_name</th>\n    </tr>\n  </thead>\n  <tbody>\n    <tr>\n      <th>160</th>\n      <td>sh.000852</td>\n      <td>1</td>\n      <td>中证1000指数</td>\n    </tr>\n    <tr>\n      <th>161</th>\n      <td>sh.000853</td>\n      <td>1</td>\n      <td>中证申万一带一路主题投资指数</td>\n    </tr>\n    <tr>\n      <th>162</th>\n      <td>sh.000854</td>\n      <td>1</td>\n      <td>中证500原材料指数</td>\n    </tr>\n    <tr>\n      <th>163</th>\n      <td>sh.000855</td>\n      <td>1</td>\n      <td>央视财经500指数</td>\n    </tr>\n    <tr>\n      <th>164</th>\n      <td>sh.000856</td>\n      <td>1</td>\n      <td>中证500工业指数</td>\n    </tr>\n    <tr>\n      <th>165</th>\n      <td>sh.000857</td>\n      <td>1</td>\n      <td>中证500医药卫生指数</td>\n    </tr>\n    <tr>\n      <th>166</th>\n      <td>sh.000858</td>\n      <td>1</td>\n      <td>中证500信息技术指数</td>\n    </tr>\n  </tbody>\n</table>\n</div>"
     },
     "metadata": {},
     "execution_count": 14
    }
   ],
   "source": [
    "stock_df[160:167:]"
   ]
  },
  {
   "cell_type": "code",
   "execution_count": 21,
   "metadata": {},
   "outputs": [],
   "source": [
    "with open(\"stock_codes.txt\", \"r\") as f:\n",
    "    stock_code_list = [line.strip() for line in f.readlines()]\n",
    "\n"
   ]
  },
  {
   "cell_type": "code",
   "execution_count": 3,
   "metadata": {},
   "outputs": [],
   "source": [
    "stock_code_list = pd.read_csv('stock_codes.csv')['code']"
   ]
  },
  {
   "cell_type": "code",
   "execution_count": 4,
   "metadata": {},
   "outputs": [
    {
     "output_type": "execute_result",
     "data": {
      "text/plain": [
       "0    sz.000858\n",
       "Name: code, dtype: object"
      ]
     },
     "metadata": {},
     "execution_count": 4
    }
   ],
   "source": [
    "stock_code_list"
   ]
  },
  {
   "cell_type": "code",
   "execution_count": 29,
   "metadata": {},
   "outputs": [
    {
     "output_type": "execute_result",
     "data": {
      "text/plain": [
       "           date   close    volume        amount      turn\n",
       "0    2010-01-04   31.45  26409039  8.363519e+08  0.695795\n",
       "1    2010-01-05   31.78  29098216  9.237874e+08  0.766646\n",
       "2    2010-01-06   30.94  42822040  1.340543e+09  1.128226\n",
       "3    2010-01-07   30.00  61705156  1.850036e+09  1.625736\n",
       "4    2010-01-08   29.94  36477184  1.075206e+09  0.961059\n",
       "...         ...     ...       ...           ...       ...\n",
       "2726 2021-03-24  260.80  17942151  4.728182e+09  0.472700\n",
       "2727 2021-03-25  255.98  18625855  4.750886e+09  0.490700\n",
       "2728 2021-03-26  265.95  23020269  6.054732e+09  0.606500\n",
       "2729 2021-03-29  272.09  28199481  7.712654e+09  0.742900\n",
       "2730 2021-03-30  273.46  16870779  4.624076e+09  0.444500\n",
       "\n",
       "[2731 rows x 5 columns]"
      ],
      "text/html": "<div>\n<style scoped>\n    .dataframe tbody tr th:only-of-type {\n        vertical-align: middle;\n    }\n\n    .dataframe tbody tr th {\n        vertical-align: top;\n    }\n\n    .dataframe thead th {\n        text-align: right;\n    }\n</style>\n<table border=\"1\" class=\"dataframe\">\n  <thead>\n    <tr style=\"text-align: right;\">\n      <th></th>\n      <th>date</th>\n      <th>close</th>\n      <th>volume</th>\n      <th>amount</th>\n      <th>turn</th>\n    </tr>\n  </thead>\n  <tbody>\n    <tr>\n      <th>0</th>\n      <td>2010-01-04</td>\n      <td>31.45</td>\n      <td>26409039</td>\n      <td>8.363519e+08</td>\n      <td>0.695795</td>\n    </tr>\n    <tr>\n      <th>1</th>\n      <td>2010-01-05</td>\n      <td>31.78</td>\n      <td>29098216</td>\n      <td>9.237874e+08</td>\n      <td>0.766646</td>\n    </tr>\n    <tr>\n      <th>2</th>\n      <td>2010-01-06</td>\n      <td>30.94</td>\n      <td>42822040</td>\n      <td>1.340543e+09</td>\n      <td>1.128226</td>\n    </tr>\n    <tr>\n      <th>3</th>\n      <td>2010-01-07</td>\n      <td>30.00</td>\n      <td>61705156</td>\n      <td>1.850036e+09</td>\n      <td>1.625736</td>\n    </tr>\n    <tr>\n      <th>4</th>\n      <td>2010-01-08</td>\n      <td>29.94</td>\n      <td>36477184</td>\n      <td>1.075206e+09</td>\n      <td>0.961059</td>\n    </tr>\n    <tr>\n      <th>...</th>\n      <td>...</td>\n      <td>...</td>\n      <td>...</td>\n      <td>...</td>\n      <td>...</td>\n    </tr>\n    <tr>\n      <th>2726</th>\n      <td>2021-03-24</td>\n      <td>260.80</td>\n      <td>17942151</td>\n      <td>4.728182e+09</td>\n      <td>0.472700</td>\n    </tr>\n    <tr>\n      <th>2727</th>\n      <td>2021-03-25</td>\n      <td>255.98</td>\n      <td>18625855</td>\n      <td>4.750886e+09</td>\n      <td>0.490700</td>\n    </tr>\n    <tr>\n      <th>2728</th>\n      <td>2021-03-26</td>\n      <td>265.95</td>\n      <td>23020269</td>\n      <td>6.054732e+09</td>\n      <td>0.606500</td>\n    </tr>\n    <tr>\n      <th>2729</th>\n      <td>2021-03-29</td>\n      <td>272.09</td>\n      <td>28199481</td>\n      <td>7.712654e+09</td>\n      <td>0.742900</td>\n    </tr>\n    <tr>\n      <th>2730</th>\n      <td>2021-03-30</td>\n      <td>273.46</td>\n      <td>16870779</td>\n      <td>4.624076e+09</td>\n      <td>0.444500</td>\n    </tr>\n  </tbody>\n</table>\n<p>2731 rows × 5 columns</p>\n</div>"
     },
     "metadata": {},
     "execution_count": 29
    }
   ],
   "source": [
    "stock_code = \"sz.000858\"\n",
    "stock_info_path = \"stock_info/\" + stock_code + \".csv\"\n",
    "stock = pd.read_csv(stock_info_path, parse_dates=['date'])\n",
    "stock = stock[stock['date'] < datetime.datetime.now()- datetime.timedelta(days=20)]\n",
    "stock"
   ]
  },
  {
   "cell_type": "code",
   "execution_count": 51,
   "metadata": {},
   "outputs": [
    {
     "output_type": "execute_result",
     "data": {
      "text/plain": [
       "           date   close    volume        amount      turn\n",
       "0    2010-01-04   31.45  26409039  8.363519e+08  0.695795\n",
       "1    2010-01-05   31.78  29098216  9.237874e+08  0.766646\n",
       "2    2010-01-06   30.94  42822040  1.340543e+09  1.128226\n",
       "3    2010-01-07   30.00  61705156  1.850036e+09  1.625736\n",
       "4    2010-01-08   29.94  36477184  1.075206e+09  0.961059\n",
       "...         ...     ...       ...           ...       ...\n",
       "2725 2021-03-23  262.25  12695157  3.309793e+09  0.334500\n",
       "2726 2021-03-24  260.80  17942151  4.728182e+09  0.472700\n",
       "2727 2021-03-25  255.98  18625855  4.750886e+09  0.490700\n",
       "2728 2021-03-26  265.95  23020269  6.054732e+09  0.606500\n",
       "2729 2021-03-29  272.09  28199481  7.712654e+09  0.742900\n",
       "\n",
       "[2730 rows x 5 columns]"
      ],
      "text/html": "<div>\n<style scoped>\n    .dataframe tbody tr th:only-of-type {\n        vertical-align: middle;\n    }\n\n    .dataframe tbody tr th {\n        vertical-align: top;\n    }\n\n    .dataframe thead th {\n        text-align: right;\n    }\n</style>\n<table border=\"1\" class=\"dataframe\">\n  <thead>\n    <tr style=\"text-align: right;\">\n      <th></th>\n      <th>date</th>\n      <th>close</th>\n      <th>volume</th>\n      <th>amount</th>\n      <th>turn</th>\n    </tr>\n  </thead>\n  <tbody>\n    <tr>\n      <th>0</th>\n      <td>2010-01-04</td>\n      <td>31.45</td>\n      <td>26409039</td>\n      <td>8.363519e+08</td>\n      <td>0.695795</td>\n    </tr>\n    <tr>\n      <th>1</th>\n      <td>2010-01-05</td>\n      <td>31.78</td>\n      <td>29098216</td>\n      <td>9.237874e+08</td>\n      <td>0.766646</td>\n    </tr>\n    <tr>\n      <th>2</th>\n      <td>2010-01-06</td>\n      <td>30.94</td>\n      <td>42822040</td>\n      <td>1.340543e+09</td>\n      <td>1.128226</td>\n    </tr>\n    <tr>\n      <th>3</th>\n      <td>2010-01-07</td>\n      <td>30.00</td>\n      <td>61705156</td>\n      <td>1.850036e+09</td>\n      <td>1.625736</td>\n    </tr>\n    <tr>\n      <th>4</th>\n      <td>2010-01-08</td>\n      <td>29.94</td>\n      <td>36477184</td>\n      <td>1.075206e+09</td>\n      <td>0.961059</td>\n    </tr>\n    <tr>\n      <th>...</th>\n      <td>...</td>\n      <td>...</td>\n      <td>...</td>\n      <td>...</td>\n      <td>...</td>\n    </tr>\n    <tr>\n      <th>2725</th>\n      <td>2021-03-23</td>\n      <td>262.25</td>\n      <td>12695157</td>\n      <td>3.309793e+09</td>\n      <td>0.334500</td>\n    </tr>\n    <tr>\n      <th>2726</th>\n      <td>2021-03-24</td>\n      <td>260.80</td>\n      <td>17942151</td>\n      <td>4.728182e+09</td>\n      <td>0.472700</td>\n    </tr>\n    <tr>\n      <th>2727</th>\n      <td>2021-03-25</td>\n      <td>255.98</td>\n      <td>18625855</td>\n      <td>4.750886e+09</td>\n      <td>0.490700</td>\n    </tr>\n    <tr>\n      <th>2728</th>\n      <td>2021-03-26</td>\n      <td>265.95</td>\n      <td>23020269</td>\n      <td>6.054732e+09</td>\n      <td>0.606500</td>\n    </tr>\n    <tr>\n      <th>2729</th>\n      <td>2021-03-29</td>\n      <td>272.09</td>\n      <td>28199481</td>\n      <td>7.712654e+09</td>\n      <td>0.742900</td>\n    </tr>\n  </tbody>\n</table>\n<p>2730 rows × 5 columns</p>\n</div>"
     },
     "metadata": {},
     "execution_count": 51
    }
   ],
   "source": [
    "stock[0:-1]"
   ]
  },
  {
   "cell_type": "code",
   "execution_count": 55,
   "metadata": {},
   "outputs": [
    {
     "output_type": "stream",
     "name": "stdout",
     "text": [
      "20\n19\n18\n17\n16\n15\n14\n13\n12\n11\n10\n9\n8\n7\n6\n5\n4\n3\n2\n1\n"
     ]
    }
   ],
   "source": [
    "for i in range(20, 0, -1):\n",
    "    print(i)"
   ]
  },
  {
   "cell_type": "code",
   "execution_count": 11,
   "metadata": {},
   "outputs": [
    {
     "output_type": "stream",
     "name": "stdout",
     "text": [
      "login success!\n"
     ]
    }
   ],
   "source": [
    "bs.login()\n",
    "\n",
    "stock_code = \"sz.000858\"\n",
    "stock_info_path = \"stock_info/\" + stock_code + \".csv\"\n",
    "\n",
    "to_date = datetime.datetime.now().strftime(\"%Y-%m-%d\")\n",
    "# to_date = '2021-04-18'          # 今日日期\n",
    "re_download = True              # 重新下载\n",
    "re_train = True                # 是否训练\n",
    "predict_period = 20             # 预测天数\n",
    "history_period = 400            # 分析天数\n",
    "epoch = 200\n",
    "start_date = '2010-01-01'\n",
    "rs = bs.query_history_k_data(stock_code, \"date, close, volume, amount, turn\", start_date=start_date, end_date=to_date, frequency=\"d\", adjustflag=\"3\")\n",
    "data_list = []\n",
    "while (rs.error_code == '0') & rs.next():  # 获取一条记录，将记录合并在一起\n",
    "    data_list.append(rs.get_row_data())\n",
    "result = pd.DataFrame(data_list, columns=rs.fields)\n",
    "result.to_csv(stock_info_path, index=False)"
   ]
  },
  {
   "cell_type": "code",
   "execution_count": 5,
   "metadata": {},
   "outputs": [],
   "source": [
    "stock_info_path = \"stock_info/sz.000858.csv\"\n",
    "stock = pd.read_csv(stock_info_path, parse_dates=['date'])"
   ]
  },
  {
   "cell_type": "code",
   "execution_count": 38,
   "metadata": {},
   "outputs": [],
   "source": [
    "predict_period = 5\n",
    "history_period = 400"
   ]
  },
  {
   "cell_type": "code",
   "execution_count": 98,
   "metadata": {},
   "outputs": [],
   "source": [
    "stock['close_nomalized'] = (stock['close']-stock['close'].min())/(stock['close'].max()-stock['close'].min())\n",
    "stock['future_price'] = stock['close'].rolling(predict_period).mean().shift(-predict_period)"
   ]
  },
  {
   "cell_type": "code",
   "execution_count": 99,
   "metadata": {},
   "outputs": [
    {
     "output_type": "execute_result",
     "data": {
      "text/plain": [
       "0       30.464\n",
       "1       30.210\n",
       "2       30.076\n",
       "3       30.364\n",
       "4       30.688\n",
       "         ...  \n",
       "2739       NaN\n",
       "2740       NaN\n",
       "2741       NaN\n",
       "2742       NaN\n",
       "2743       NaN\n",
       "Name: future_price, Length: 2744, dtype: float64"
      ]
     },
     "metadata": {},
     "execution_count": 99
    }
   ],
   "source": [
    "stock['future_price']"
   ]
  },
  {
   "cell_type": "code",
   "execution_count": 115,
   "metadata": {},
   "outputs": [],
   "source": [
    "def flat_or_not(x):\n",
    "    if x >= threshold_flat:\n",
    "        return 2\n",
    "    elif x <= -threshold_flat:\n",
    "        return 1\n",
    "    else:\n",
    "        return 0\n",
    "\n",
    "stock['label'] = ((stock['future_price'] - stock['close']) / stock['close']).apply(flat_or_not)"
   ]
  },
  {
   "cell_type": "code",
   "execution_count": 116,
   "metadata": {},
   "outputs": [
    {
     "output_type": "execute_result",
     "data": {
      "text/plain": [
       "2    1073\n",
       "1     896\n",
       "0     775\n",
       "Name: label, dtype: int64"
      ]
     },
     "metadata": {},
     "execution_count": 116
    }
   ],
   "source": [
    "stock['label'].value_counts()"
   ]
  },
  {
   "cell_type": "code",
   "execution_count": 107,
   "metadata": {},
   "outputs": [],
   "source": [
    "n = len(stock)\n",
    "x = np.array([stock['close_nomalized'][i:i+history_period] for i in range(n-history_period-predict_period+1)]).reshape(-1, 20, 20) # 输入 400天\n",
    "x = x[:, :, :, np.newaxis]\n",
    "y = stock['label'][history_period-1:].values[:-predict_period]  "
   ]
  },
  {
   "cell_type": "code",
   "execution_count": 108,
   "metadata": {},
   "outputs": [
    {
     "output_type": "execute_result",
     "data": {
      "text/plain": [
       "(2340, 2340)"
      ]
     },
     "metadata": {},
     "execution_count": 108
    }
   ],
   "source": [
    "len(y), len(x)"
   ]
  },
  {
   "cell_type": "code",
   "execution_count": 117,
   "metadata": {},
   "outputs": [
    {
     "output_type": "execute_result",
     "data": {
      "text/plain": [
       "0.01"
      ]
     },
     "metadata": {},
     "execution_count": 117
    }
   ],
   "source": [
    "threshold_flat"
   ]
  },
  {
   "cell_type": "code",
   "execution_count": 118,
   "metadata": {},
   "outputs": [
    {
     "output_type": "execute_result",
     "data": {
      "text/plain": [
       "array([[[0.33895069],\n",
       "        [0.3438002 ],\n",
       "        [0.3489225 ],\n",
       "        [0.34364865],\n",
       "        [0.35168066],\n",
       "        [0.35046828],\n",
       "        [0.34234535],\n",
       "        [0.35737884],\n",
       "        [0.36204649],\n",
       "        [0.37138181],\n",
       "        [0.38502107],\n",
       "        [0.38620313],\n",
       "        [0.38502107],\n",
       "        [0.37535235],\n",
       "        [0.37714061],\n",
       "        [0.38050496],\n",
       "        [0.37804989],\n",
       "        [0.37213954],\n",
       "        [0.34792229],\n",
       "        [0.35486315]],\n",
       "\n",
       "       [[0.35295366],\n",
       "        [0.35483284],\n",
       "        [0.36701725],\n",
       "        [0.36507744],\n",
       "        [0.37089686],\n",
       "        [0.36486527],\n",
       "        [0.36989664],\n",
       "        [0.36998757],\n",
       "        [0.36259206],\n",
       "        [0.36168278],\n",
       "        [0.349559  ],\n",
       "        [0.3585306 ],\n",
       "        [0.3556512 ],\n",
       "        [0.35316582],\n",
       "        [0.35395387],\n",
       "        [0.3527718 ],\n",
       "        [0.35831843],\n",
       "        [0.35055921],\n",
       "        [0.35107447],\n",
       "        [0.34198163]],\n",
       "\n",
       "       [[0.34446701],\n",
       "        [0.34713424],\n",
       "        [0.34204225],\n",
       "        [0.33358591],\n",
       "        [0.34470948],\n",
       "        [0.35031673],\n",
       "        [0.35471161],\n",
       "        [0.35304459],\n",
       "        [0.35646955],\n",
       "        [0.36137969],\n",
       "        [0.36225866],\n",
       "        [0.36313764],\n",
       "        [0.35813657],\n",
       "        [0.35977329],\n",
       "        [0.36407723],\n",
       "        [0.35840936],\n",
       "        [0.36037947],\n",
       "        [0.36416816],\n",
       "        [0.36395599],\n",
       "        [0.36025824]],\n",
       "\n",
       "       [[0.35925802],\n",
       "        [0.3607735 ],\n",
       "        [0.36228897],\n",
       "        [0.36125845],\n",
       "        [0.34704331],\n",
       "        [0.34622496],\n",
       "        [0.35234747],\n",
       "        [0.3546813 ],\n",
       "        [0.35262025],\n",
       "        [0.34273937],\n",
       "        [0.34107235],\n",
       "        [0.33816264],\n",
       "        [0.34546722],\n",
       "        [0.34458825],\n",
       "        [0.35313551],\n",
       "        [0.35165035],\n",
       "        [0.3527718 ],\n",
       "        [0.34658867],\n",
       "        [0.34343649],\n",
       "        [0.34871033]],\n",
       "\n",
       "       [[0.34661898],\n",
       "        [0.35092292],\n",
       "        [0.35301428],\n",
       "        [0.34974085],\n",
       "        [0.34743734],\n",
       "        [0.34452763],\n",
       "        [0.34622496],\n",
       "        [0.34440639],\n",
       "        [0.34455794],\n",
       "        [0.34713424],\n",
       "        [0.35871245],\n",
       "        [0.35928833],\n",
       "        [0.35646955],\n",
       "        [0.35183221],\n",
       "        [0.34774043],\n",
       "        [0.34825569],\n",
       "        [0.34680084],\n",
       "        [0.35249901],\n",
       "        [0.36113721],\n",
       "        [0.37944412]],\n",
       "\n",
       "       [[0.37611008],\n",
       "        [0.3828994 ],\n",
       "        [0.38247507],\n",
       "        [0.37607977],\n",
       "        [0.37307914],\n",
       "        [0.35810626],\n",
       "        [0.35531779],\n",
       "        [0.33852635],\n",
       "        [0.30027582],\n",
       "        [0.30318552],\n",
       "        [0.31230867],\n",
       "        [0.31727942],\n",
       "        [0.32161368],\n",
       "        [0.3232807 ],\n",
       "        [0.33437396],\n",
       "        [0.33346467],\n",
       "        [0.33240384],\n",
       "        [0.33025187],\n",
       "        [0.33288879],\n",
       "        [0.33013063]],\n",
       "\n",
       "       [[0.3380414 ],\n",
       "        [0.35061983],\n",
       "        [0.35016519],\n",
       "        [0.34137544],\n",
       "        [0.33591974],\n",
       "        [0.33228261],\n",
       "        [0.33895069],\n",
       "        [0.32167429],\n",
       "        [0.32788773],\n",
       "        [0.33310096],\n",
       "        [0.33582881],\n",
       "        [0.35986421],\n",
       "        [0.35037735],\n",
       "        [0.33895069],\n",
       "        [0.35234747],\n",
       "        [0.34986209],\n",
       "        [0.33816264],\n",
       "        [0.32773619],\n",
       "        [0.30621647],\n",
       "        [0.2966993 ]],\n",
       "\n",
       "       [[0.28224169],\n",
       "        [0.2656321 ],\n",
       "        [0.28503016],\n",
       "        [0.27290637],\n",
       "        [0.28666687],\n",
       "        [0.30167005],\n",
       "        [0.30133665],\n",
       "        [0.30715606],\n",
       "        [0.29933622],\n",
       "        [0.30530719],\n",
       "        [0.304701  ],\n",
       "        [0.31133877],\n",
       "        [0.31233898],\n",
       "        [0.33240384],\n",
       "        [0.33585912],\n",
       "        [0.33494984],\n",
       "        [0.33961749],\n",
       "        [0.33501046],\n",
       "        [0.34546722],\n",
       "        [0.34383051]],\n",
       "\n",
       "       [[0.3383445 ],\n",
       "        [0.34658867],\n",
       "        [0.34807383],\n",
       "        [0.33946595],\n",
       "        [0.35107447],\n",
       "        [0.35346892],\n",
       "        [0.35440851],\n",
       "        [0.35834874],\n",
       "        [0.3774437 ],\n",
       "        [0.36683539],\n",
       "        [0.36765374],\n",
       "        [0.37504925],\n",
       "        [0.38626375],\n",
       "        [0.38926439],\n",
       "        [0.3860819 ],\n",
       "        [0.38926439],\n",
       "        [0.39866032],\n",
       "        [0.39956961],\n",
       "        [0.39629618],\n",
       "        [0.41439093]],\n",
       "\n",
       "       [[0.41508805],\n",
       "        [0.41336041],\n",
       "        [0.41587609],\n",
       "        [0.39335617],\n",
       "        [0.4017822 ],\n",
       "        [0.40414633],\n",
       "        [0.39914527],\n",
       "        [0.39914527],\n",
       "        [0.4053284 ],\n",
       "        [0.43681993],\n",
       "        [0.4373655 ],\n",
       "        [0.4357591 ],\n",
       "        [0.43760798],\n",
       "        [0.44136635],\n",
       "        [0.44294244],\n",
       "        [0.44900433],\n",
       "        [0.44879217],\n",
       "        [0.44130573],\n",
       "        [0.44563998],\n",
       "        [0.43200073]],\n",
       "\n",
       "       [[0.43406177],\n",
       "        [0.42860607],\n",
       "        [0.43612281],\n",
       "        [0.45797593],\n",
       "        [0.4501864 ],\n",
       "        [0.46528051],\n",
       "        [0.46719001],\n",
       "        [0.46382566],\n",
       "        [0.47479768],\n",
       "        [0.50771376],\n",
       "        [0.53047616],\n",
       "        [0.52814233],\n",
       "        [0.54056921],\n",
       "        [0.56805989],\n",
       "        [0.57251538],\n",
       "        [0.57360652],\n",
       "        [0.58354803],\n",
       "        [0.61749462],\n",
       "        [0.62567817],\n",
       "        [0.63492256]],\n",
       "\n",
       "       [[0.56705968],\n",
       "        [0.5786682 ],\n",
       "        [0.56742339],\n",
       "        [0.57924408],\n",
       "        [0.58930682],\n",
       "        [0.59285303],\n",
       "        [0.56654442],\n",
       "        [0.57475828],\n",
       "        [0.60476465],\n",
       "        [0.60773497],\n",
       "        [0.61179644],\n",
       "        [0.61537296],\n",
       "        [0.61603977],\n",
       "        [0.61022035],\n",
       "        [0.61531234],\n",
       "        [0.59573243],\n",
       "        [0.58433607],\n",
       "        [0.58033522],\n",
       "        [0.58960992],\n",
       "        [0.58194162]],\n",
       "\n",
       "       [[0.58324493],\n",
       "        [0.60143061],\n",
       "        [0.62292001],\n",
       "        [0.62467796],\n",
       "        [0.6296184 ],\n",
       "        [0.61216016],\n",
       "        [0.61810081],\n",
       "        [0.63810505],\n",
       "        [0.67023308],\n",
       "        [0.67341557],\n",
       "        [0.67774983],\n",
       "        [0.68508471],\n",
       "        [0.68356924],\n",
       "        [0.67217289],\n",
       "        [0.66841451],\n",
       "        [0.67944716],\n",
       "        [0.65392659],\n",
       "        [0.64383354],\n",
       "        [0.62880005],\n",
       "        [0.61385748]],\n",
       "\n",
       "       [[0.63264935],\n",
       "        [0.64683418],\n",
       "        [0.65350226],\n",
       "        [0.65425999],\n",
       "        [0.64119662],\n",
       "        [0.63098233],\n",
       "        [0.65180493],\n",
       "        [0.63780196],\n",
       "        [0.63174007],\n",
       "        [0.62088928],\n",
       "        [0.61173582],\n",
       "        [0.61446367],\n",
       "        [0.62334435],\n",
       "        [0.62213197],\n",
       "        [0.62598127],\n",
       "        [0.64589458],\n",
       "        [0.6888734 ],\n",
       "        [0.69044949],\n",
       "        [0.68175067],\n",
       "        [0.68026551]],\n",
       "\n",
       "       [[0.67411269],\n",
       "        [0.67199103],\n",
       "        [0.68653957],\n",
       "        [0.68893402],\n",
       "        [0.68884309],\n",
       "        [0.67335495],\n",
       "        [0.66117055],\n",
       "        [0.66386809],\n",
       "        [0.68350862],\n",
       "        [0.7138787 ],\n",
       "        [0.69675386],\n",
       "        [0.70084563],\n",
       "        [0.71509108],\n",
       "        [0.72297154],\n",
       "        [0.7423999 ],\n",
       "        [0.7420665 ],\n",
       "        [0.77449762],\n",
       "        [0.78298427],\n",
       "        [0.77116358],\n",
       "        [0.7673749 ]],\n",
       "\n",
       "       [[0.75934289],\n",
       "        [0.78359046],\n",
       "        [0.77176977],\n",
       "        [0.75546328],\n",
       "        [0.75843361],\n",
       "        [0.76986027],\n",
       "        [0.78231746],\n",
       "        [0.77992301],\n",
       "        [0.75319007],\n",
       "        [0.74594611],\n",
       "        [0.75115934],\n",
       "        [0.72600249],\n",
       "        [0.73809596],\n",
       "        [0.74585518],\n",
       "        [0.7491286 ],\n",
       "        [0.76598066],\n",
       "        [0.77522505],\n",
       "        [0.78055951],\n",
       "        [0.77364896],\n",
       "        [0.76743552]],\n",
       "\n",
       "       [[0.76698087],\n",
       "        [0.7840451 ],\n",
       "        [0.77692238],\n",
       "        [0.78762162],\n",
       "        [0.79816931],\n",
       "        [0.79528991],\n",
       "        [0.81059619],\n",
       "        [0.81202073],\n",
       "        [0.79962416],\n",
       "        [0.79062225],\n",
       "        [0.79244082],\n",
       "        [0.82284121],\n",
       "        [0.80783803],\n",
       "        [0.82565999],\n",
       "        [0.84072379],\n",
       "        [0.85951565],\n",
       "        [0.9259843 ],\n",
       "        [0.95120177],\n",
       "        [0.95635438],\n",
       "        [0.91695208]],\n",
       "\n",
       "       [[0.86906313],\n",
       "        [0.89573546],\n",
       "        [0.88158094],\n",
       "        [0.83329797],\n",
       "        [0.82814536],\n",
       "        [0.81859788],\n",
       "        [0.8093535 ],\n",
       "        [0.81950717],\n",
       "        [0.85618161],\n",
       "        [0.8519686 ],\n",
       "        [0.91298154],\n",
       "        [0.88294487],\n",
       "        [0.84293638],\n",
       "        [0.82299276],\n",
       "        [0.83857182],\n",
       "        [0.84205741],\n",
       "        [0.8779135 ],\n",
       "        [0.89194678],\n",
       "        [0.90664686],\n",
       "        [0.92531749]],\n",
       "\n",
       "       [[0.92604492],\n",
       "        [0.95483891],\n",
       "        [0.99469584],\n",
       "        [0.96696269],\n",
       "        [1.        ],\n",
       "        [0.90501015],\n",
       "        [0.91089019],\n",
       "        [0.84445185],\n",
       "        [0.8317825 ],\n",
       "        [0.80480708],\n",
       "        [0.83214621],\n",
       "        [0.80692874],\n",
       "        [0.82087109],\n",
       "        [0.76331343],\n",
       "        [0.76388931],\n",
       "        [0.6972085 ],\n",
       "        [0.69114661],\n",
       "        [0.72175916],\n",
       "        [0.75946413],\n",
       "        [0.75767587]],\n",
       "\n",
       "       [[0.71693996],\n",
       "        [0.75149274],\n",
       "        [0.75725154],\n",
       "        [0.77567969],\n",
       "        [0.74658261],\n",
       "        [0.74267269],\n",
       "        [0.75100779],\n",
       "        [0.74661292],\n",
       "        [0.73200376],\n",
       "        [0.76222229],\n",
       "        [0.7808323 ],\n",
       "        [0.78498469],\n",
       "        [0.76837511],\n",
       "        [0.78383293],\n",
       "        [0.81862819],\n",
       "        [0.81923438],\n",
       "        [0.77707392],\n",
       "        [0.78383293],\n",
       "        [0.76025217],\n",
       "        [0.7471888 ]]])"
      ]
     },
     "metadata": {},
     "execution_count": 118
    }
   ],
   "source": [
    "x[]"
   ]
  }
 ]
}