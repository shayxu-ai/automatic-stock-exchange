{
 "metadata": {
  "language_info": {
   "codemirror_mode": {
    "name": "ipython",
    "version": 3
   },
   "file_extension": ".py",
   "mimetype": "text/x-python",
   "name": "python",
   "nbconvert_exporter": "python",
   "pygments_lexer": "ipython3",
   "version": "3.7.8-final"
  },
  "orig_nbformat": 2,
  "kernelspec": {
   "name": "python378jvsc74a57bd087e4668eb327ab3c4ab758a072c7ead37fffe33bf1bf61467c1b402e157a0e55",
   "display_name": "Python 3.7.8 64-bit"
  },
  "metadata": {
   "interpreter": {
    "hash": "082e9a3bcad0a290d0001e938aa60b99250c6c2ef33a923c00b70f9826caf4b7"
   }
  }
 },
 "nbformat": 4,
 "nbformat_minor": 2,
 "cells": [
  {
   "source": [
    "# 通过CNN分析价格曲线，预测涨跌  \n",
    " \n",
    "20 x 20=400个工作日  20个月 80个礼拜  => if 未来20个工作日的平均股价 > 当前股价\n"
   ],
   "cell_type": "markdown",
   "metadata": {}
  },
  {
   "cell_type": "code",
   "execution_count": 2,
   "metadata": {},
   "outputs": [],
   "source": [
    "import baostock as bs\n",
    "import numpy as np\n",
    "import pandas as pd\n",
    "\n",
    "import tensorflow as tf\n",
    "from tensorflow import keras\n",
    "import matplotlib. pyplot as plt \n",
    "\n",
    "from tensorflow.keras.models import Sequential\n",
    "from tensorflow.keras.layers import Dense,Flatten,Reshape,Dropout,Activation\n",
    "from tensorflow.keras.layers import Conv2D,MaxPooling2D\n",
    "from tensorflow.keras.layers import Conv1D,MaxPooling1D\n",
    "from tensorflow.keras.optimizers import SGD\n",
    "from sklearn.model_selection import train_test_split"
   ]
  },
  {
   "cell_type": "code",
   "execution_count": 8,
   "metadata": {},
   "outputs": [],
   "source": [
    "import datetime\n",
    "import baostock as bs"
   ]
  },
  {
   "cell_type": "code",
   "execution_count": 2,
   "metadata": {},
   "outputs": [
    {
     "output_type": "stream",
     "name": "stdout",
     "text": [
      "login success!\n"
     ]
    },
    {
     "output_type": "execute_result",
     "data": {
      "text/plain": [
       "<baostock.data.resultset.ResultData at 0x1b7fdfc1e48>"
      ]
     },
     "metadata": {},
     "execution_count": 2
    }
   ],
   "source": [
    "bs.login()\n"
   ]
  },
  {
   "cell_type": "code",
   "execution_count": 3,
   "metadata": {},
   "outputs": [],
   "source": [
    "stock_rs = bs.query_all_stock(\"2021-04-02\")\n",
    "stock_df = stock_rs.get_data()\n",
    "stock_df['code'].to_csv('stock_codes.csv')"
   ]
  },
  {
   "cell_type": "code",
   "execution_count": 14,
   "metadata": {},
   "outputs": [
    {
     "output_type": "execute_result",
     "data": {
      "text/plain": [
       "          code tradeStatus       code_name\n",
       "160  sh.000852           1        中证1000指数\n",
       "161  sh.000853           1  中证申万一带一路主题投资指数\n",
       "162  sh.000854           1      中证500原材料指数\n",
       "163  sh.000855           1       央视财经500指数\n",
       "164  sh.000856           1       中证500工业指数\n",
       "165  sh.000857           1     中证500医药卫生指数\n",
       "166  sh.000858           1     中证500信息技术指数"
      ],
      "text/html": "<div>\n<style scoped>\n    .dataframe tbody tr th:only-of-type {\n        vertical-align: middle;\n    }\n\n    .dataframe tbody tr th {\n        vertical-align: top;\n    }\n\n    .dataframe thead th {\n        text-align: right;\n    }\n</style>\n<table border=\"1\" class=\"dataframe\">\n  <thead>\n    <tr style=\"text-align: right;\">\n      <th></th>\n      <th>code</th>\n      <th>tradeStatus</th>\n      <th>code_name</th>\n    </tr>\n  </thead>\n  <tbody>\n    <tr>\n      <th>160</th>\n      <td>sh.000852</td>\n      <td>1</td>\n      <td>中证1000指数</td>\n    </tr>\n    <tr>\n      <th>161</th>\n      <td>sh.000853</td>\n      <td>1</td>\n      <td>中证申万一带一路主题投资指数</td>\n    </tr>\n    <tr>\n      <th>162</th>\n      <td>sh.000854</td>\n      <td>1</td>\n      <td>中证500原材料指数</td>\n    </tr>\n    <tr>\n      <th>163</th>\n      <td>sh.000855</td>\n      <td>1</td>\n      <td>央视财经500指数</td>\n    </tr>\n    <tr>\n      <th>164</th>\n      <td>sh.000856</td>\n      <td>1</td>\n      <td>中证500工业指数</td>\n    </tr>\n    <tr>\n      <th>165</th>\n      <td>sh.000857</td>\n      <td>1</td>\n      <td>中证500医药卫生指数</td>\n    </tr>\n    <tr>\n      <th>166</th>\n      <td>sh.000858</td>\n      <td>1</td>\n      <td>中证500信息技术指数</td>\n    </tr>\n  </tbody>\n</table>\n</div>"
     },
     "metadata": {},
     "execution_count": 14
    }
   ],
   "source": [
    "stock_df[160:167:]"
   ]
  },
  {
   "cell_type": "code",
   "execution_count": 21,
   "metadata": {},
   "outputs": [],
   "source": [
    "with open(\"stock_codes.txt\", \"r\") as f:\n",
    "    stock_code_list = [line.strip() for line in f.readlines()]\n",
    "\n"
   ]
  },
  {
   "cell_type": "code",
   "execution_count": 3,
   "metadata": {},
   "outputs": [],
   "source": [
    "stock_code_list = pd.read_csv('stock_codes.csv')['code']"
   ]
  },
  {
   "cell_type": "code",
   "execution_count": 4,
   "metadata": {},
   "outputs": [
    {
     "output_type": "execute_result",
     "data": {
      "text/plain": [
       "0    sz.000858\n",
       "Name: code, dtype: object"
      ]
     },
     "metadata": {},
     "execution_count": 4
    }
   ],
   "source": [
    "stock_code_list"
   ]
  },
  {
   "cell_type": "code",
   "execution_count": 29,
   "metadata": {},
   "outputs": [
    {
     "output_type": "execute_result",
     "data": {
      "text/plain": [
       "           date   close    volume        amount      turn\n",
       "0    2010-01-04   31.45  26409039  8.363519e+08  0.695795\n",
       "1    2010-01-05   31.78  29098216  9.237874e+08  0.766646\n",
       "2    2010-01-06   30.94  42822040  1.340543e+09  1.128226\n",
       "3    2010-01-07   30.00  61705156  1.850036e+09  1.625736\n",
       "4    2010-01-08   29.94  36477184  1.075206e+09  0.961059\n",
       "...         ...     ...       ...           ...       ...\n",
       "2726 2021-03-24  260.80  17942151  4.728182e+09  0.472700\n",
       "2727 2021-03-25  255.98  18625855  4.750886e+09  0.490700\n",
       "2728 2021-03-26  265.95  23020269  6.054732e+09  0.606500\n",
       "2729 2021-03-29  272.09  28199481  7.712654e+09  0.742900\n",
       "2730 2021-03-30  273.46  16870779  4.624076e+09  0.444500\n",
       "\n",
       "[2731 rows x 5 columns]"
      ],
      "text/html": "<div>\n<style scoped>\n    .dataframe tbody tr th:only-of-type {\n        vertical-align: middle;\n    }\n\n    .dataframe tbody tr th {\n        vertical-align: top;\n    }\n\n    .dataframe thead th {\n        text-align: right;\n    }\n</style>\n<table border=\"1\" class=\"dataframe\">\n  <thead>\n    <tr style=\"text-align: right;\">\n      <th></th>\n      <th>date</th>\n      <th>close</th>\n      <th>volume</th>\n      <th>amount</th>\n      <th>turn</th>\n    </tr>\n  </thead>\n  <tbody>\n    <tr>\n      <th>0</th>\n      <td>2010-01-04</td>\n      <td>31.45</td>\n      <td>26409039</td>\n      <td>8.363519e+08</td>\n      <td>0.695795</td>\n    </tr>\n    <tr>\n      <th>1</th>\n      <td>2010-01-05</td>\n      <td>31.78</td>\n      <td>29098216</td>\n      <td>9.237874e+08</td>\n      <td>0.766646</td>\n    </tr>\n    <tr>\n      <th>2</th>\n      <td>2010-01-06</td>\n      <td>30.94</td>\n      <td>42822040</td>\n      <td>1.340543e+09</td>\n      <td>1.128226</td>\n    </tr>\n    <tr>\n      <th>3</th>\n      <td>2010-01-07</td>\n      <td>30.00</td>\n      <td>61705156</td>\n      <td>1.850036e+09</td>\n      <td>1.625736</td>\n    </tr>\n    <tr>\n      <th>4</th>\n      <td>2010-01-08</td>\n      <td>29.94</td>\n      <td>36477184</td>\n      <td>1.075206e+09</td>\n      <td>0.961059</td>\n    </tr>\n    <tr>\n      <th>...</th>\n      <td>...</td>\n      <td>...</td>\n      <td>...</td>\n      <td>...</td>\n      <td>...</td>\n    </tr>\n    <tr>\n      <th>2726</th>\n      <td>2021-03-24</td>\n      <td>260.80</td>\n      <td>17942151</td>\n      <td>4.728182e+09</td>\n      <td>0.472700</td>\n    </tr>\n    <tr>\n      <th>2727</th>\n      <td>2021-03-25</td>\n      <td>255.98</td>\n      <td>18625855</td>\n      <td>4.750886e+09</td>\n      <td>0.490700</td>\n    </tr>\n    <tr>\n      <th>2728</th>\n      <td>2021-03-26</td>\n      <td>265.95</td>\n      <td>23020269</td>\n      <td>6.054732e+09</td>\n      <td>0.606500</td>\n    </tr>\n    <tr>\n      <th>2729</th>\n      <td>2021-03-29</td>\n      <td>272.09</td>\n      <td>28199481</td>\n      <td>7.712654e+09</td>\n      <td>0.742900</td>\n    </tr>\n    <tr>\n      <th>2730</th>\n      <td>2021-03-30</td>\n      <td>273.46</td>\n      <td>16870779</td>\n      <td>4.624076e+09</td>\n      <td>0.444500</td>\n    </tr>\n  </tbody>\n</table>\n<p>2731 rows × 5 columns</p>\n</div>"
     },
     "metadata": {},
     "execution_count": 29
    }
   ],
   "source": [
    "stock_code = \"sz.000858\"\n",
    "stock_info_path = \"stock_info/\" + stock_code + \".csv\"\n",
    "stock = pd.read_csv(stock_info_path, parse_dates=['date'])\n",
    "stock = stock[stock['date'] < datetime.datetime.now()- datetime.timedelta(days=20)]\n",
    "stock"
   ]
  },
  {
   "cell_type": "code",
   "execution_count": 51,
   "metadata": {},
   "outputs": [
    {
     "output_type": "execute_result",
     "data": {
      "text/plain": [
       "           date   close    volume        amount      turn\n",
       "0    2010-01-04   31.45  26409039  8.363519e+08  0.695795\n",
       "1    2010-01-05   31.78  29098216  9.237874e+08  0.766646\n",
       "2    2010-01-06   30.94  42822040  1.340543e+09  1.128226\n",
       "3    2010-01-07   30.00  61705156  1.850036e+09  1.625736\n",
       "4    2010-01-08   29.94  36477184  1.075206e+09  0.961059\n",
       "...         ...     ...       ...           ...       ...\n",
       "2725 2021-03-23  262.25  12695157  3.309793e+09  0.334500\n",
       "2726 2021-03-24  260.80  17942151  4.728182e+09  0.472700\n",
       "2727 2021-03-25  255.98  18625855  4.750886e+09  0.490700\n",
       "2728 2021-03-26  265.95  23020269  6.054732e+09  0.606500\n",
       "2729 2021-03-29  272.09  28199481  7.712654e+09  0.742900\n",
       "\n",
       "[2730 rows x 5 columns]"
      ],
      "text/html": "<div>\n<style scoped>\n    .dataframe tbody tr th:only-of-type {\n        vertical-align: middle;\n    }\n\n    .dataframe tbody tr th {\n        vertical-align: top;\n    }\n\n    .dataframe thead th {\n        text-align: right;\n    }\n</style>\n<table border=\"1\" class=\"dataframe\">\n  <thead>\n    <tr style=\"text-align: right;\">\n      <th></th>\n      <th>date</th>\n      <th>close</th>\n      <th>volume</th>\n      <th>amount</th>\n      <th>turn</th>\n    </tr>\n  </thead>\n  <tbody>\n    <tr>\n      <th>0</th>\n      <td>2010-01-04</td>\n      <td>31.45</td>\n      <td>26409039</td>\n      <td>8.363519e+08</td>\n      <td>0.695795</td>\n    </tr>\n    <tr>\n      <th>1</th>\n      <td>2010-01-05</td>\n      <td>31.78</td>\n      <td>29098216</td>\n      <td>9.237874e+08</td>\n      <td>0.766646</td>\n    </tr>\n    <tr>\n      <th>2</th>\n      <td>2010-01-06</td>\n      <td>30.94</td>\n      <td>42822040</td>\n      <td>1.340543e+09</td>\n      <td>1.128226</td>\n    </tr>\n    <tr>\n      <th>3</th>\n      <td>2010-01-07</td>\n      <td>30.00</td>\n      <td>61705156</td>\n      <td>1.850036e+09</td>\n      <td>1.625736</td>\n    </tr>\n    <tr>\n      <th>4</th>\n      <td>2010-01-08</td>\n      <td>29.94</td>\n      <td>36477184</td>\n      <td>1.075206e+09</td>\n      <td>0.961059</td>\n    </tr>\n    <tr>\n      <th>...</th>\n      <td>...</td>\n      <td>...</td>\n      <td>...</td>\n      <td>...</td>\n      <td>...</td>\n    </tr>\n    <tr>\n      <th>2725</th>\n      <td>2021-03-23</td>\n      <td>262.25</td>\n      <td>12695157</td>\n      <td>3.309793e+09</td>\n      <td>0.334500</td>\n    </tr>\n    <tr>\n      <th>2726</th>\n      <td>2021-03-24</td>\n      <td>260.80</td>\n      <td>17942151</td>\n      <td>4.728182e+09</td>\n      <td>0.472700</td>\n    </tr>\n    <tr>\n      <th>2727</th>\n      <td>2021-03-25</td>\n      <td>255.98</td>\n      <td>18625855</td>\n      <td>4.750886e+09</td>\n      <td>0.490700</td>\n    </tr>\n    <tr>\n      <th>2728</th>\n      <td>2021-03-26</td>\n      <td>265.95</td>\n      <td>23020269</td>\n      <td>6.054732e+09</td>\n      <td>0.606500</td>\n    </tr>\n    <tr>\n      <th>2729</th>\n      <td>2021-03-29</td>\n      <td>272.09</td>\n      <td>28199481</td>\n      <td>7.712654e+09</td>\n      <td>0.742900</td>\n    </tr>\n  </tbody>\n</table>\n<p>2730 rows × 5 columns</p>\n</div>"
     },
     "metadata": {},
     "execution_count": 51
    }
   ],
   "source": [
    "stock[0:-1]"
   ]
  },
  {
   "cell_type": "code",
   "execution_count": 55,
   "metadata": {},
   "outputs": [
    {
     "output_type": "stream",
     "name": "stdout",
     "text": [
      "20\n19\n18\n17\n16\n15\n14\n13\n12\n11\n10\n9\n8\n7\n6\n5\n4\n3\n2\n1\n"
     ]
    }
   ],
   "source": [
    "for i in range(20, 0, -1):\n",
    "    print(i)"
   ]
  },
  {
   "cell_type": "code",
   "execution_count": 11,
   "metadata": {},
   "outputs": [
    {
     "output_type": "stream",
     "name": "stdout",
     "text": [
      "login success!\n"
     ]
    }
   ],
   "source": [
    "bs.login()\n",
    "\n",
    "stock_code = \"sz.000858\"\n",
    "stock_info_path = \"stock_info/\" + stock_code + \".csv\"\n",
    "\n",
    "to_date = datetime.datetime.now().strftime(\"%Y-%m-%d\")\n",
    "# to_date = '2021-04-18'          # 今日日期\n",
    "re_download = True              # 重新下载\n",
    "re_train = True                # 是否训练\n",
    "predict_period = 20             # 预测天数\n",
    "history_period = 400            # 分析天数\n",
    "epoch = 200\n",
    "start_date = '2010-01-01'\n",
    "rs = bs.query_history_k_data(stock_code, \"date, close, volume, amount, turn\", start_date=start_date, end_date=to_date, frequency=\"d\", adjustflag=\"3\")\n",
    "data_list = []\n",
    "while (rs.error_code == '0') & rs.next():  # 获取一条记录，将记录合并在一起\n",
    "    data_list.append(rs.get_row_data())\n",
    "result = pd.DataFrame(data_list, columns=rs.fields)\n",
    "result.to_csv(stock_info_path, index=False)"
   ]
  },
  {
   "cell_type": "code",
   "execution_count": 19,
   "metadata": {},
   "outputs": [
    {
     "output_type": "execute_result",
     "data": {
      "text/plain": [
       "<baostock.data.resultset.ResultData at 0x190885ecd88>"
      ]
     },
     "metadata": {},
     "execution_count": 19
    }
   ],
   "source": [
    "rs"
   ]
  }
 ]
}