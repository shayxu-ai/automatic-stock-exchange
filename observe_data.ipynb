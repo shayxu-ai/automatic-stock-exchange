{
 "metadata": {
  "language_info": {
   "codemirror_mode": {
    "name": "ipython",
    "version": 3
   },
   "file_extension": ".py",
   "mimetype": "text/x-python",
   "name": "python",
   "nbconvert_exporter": "python",
   "pygments_lexer": "ipython3",
   "version": "3.7.8"
  },
  "orig_nbformat": 2,
  "kernelspec": {
   "name": "python378jvsc74a57bd087e4668eb327ab3c4ab758a072c7ead37fffe33bf1bf61467c1b402e157a0e55",
   "display_name": "Python 3.7.8 64-bit"
  },
  "metadata": {
   "interpreter": {
    "hash": "aee8b7b246df8f9039afb4144a1f6fd8d2ca17a180786b69acc140d282b71a49"
   }
  }
 },
 "nbformat": 4,
 "nbformat_minor": 2,
 "cells": [
  {
   "cell_type": "code",
   "execution_count": 1,
   "metadata": {},
   "outputs": [],
   "source": [
    "import baostock as bs\n",
    "import numpy as np\n",
    "import pandas as pd\n",
    "\n",
    "import datetime\n",
    "# import tensorflow as tf\n",
    "# from tensorflow import keras\n",
    "import matplotlib. pyplot as plt \n",
    "from tqdm import tqdm"
   ]
  },
  {
   "cell_type": "code",
   "execution_count": 2,
   "metadata": {},
   "outputs": [
    {
     "output_type": "stream",
     "name": "stdout",
     "text": [
      "2020-12-31 2021-04-30\n",
      "login success!\n",
      "4749it [01:37, 48.82it/s]\n",
      "logout success!\n"
     ]
    }
   ],
   "source": [
    "#!/usr/bin/env python3\n",
    "# -*- coding: utf-8 -*-\n",
    "# @Date: 2021/05/27 Thu\n",
    "# @Author: ShayXU\n",
    "# @Filename: 60日均线策略.py\n",
    "\n",
    "\n",
    "\"\"\"\n",
    "    运行时间: ~01:20, min\n",
    "\"\"\"\n",
    "\n",
    "import baostock as bs\n",
    "import pandas as pd\n",
    "\n",
    "import datetime\n",
    "from tqdm import tqdm\n",
    "\n",
    "# 参数\n",
    "history_days = 120    # 历史股票天数\n",
    "mean_days = 60        # x日均线\n",
    "set_date = \"2021-04-30\"         # 设置日期\n",
    "\n",
    "# 计算日期\n",
    "if not set_date:\n",
    "    now = datetime.datetime.now()\n",
    "    if now.hour <= 15:\n",
    "        now -= datetime.timedelta(days=1)\n",
    "else:\n",
    "    now = datetime.datetime.strptime(set_date, '%Y-%m-%d')\n",
    "\n",
    "\n",
    "end_date = now.strftime('%Y-%m-%d')\n",
    "start_date = (now - datetime.timedelta(days=history_days)).strftime('%Y-%m-%d')\n",
    "print(start_date, end_date)\n",
    "\n",
    "# 登陆系统\n",
    "lg = bs.login()\n",
    "if lg.error_code != '0':\n",
    "    print(\"错误信息:\", lg.error_code, lg.error_msg)\n",
    "\n",
    "# 查询\n",
    "data_list = []\n",
    "stock_rs = bs.query_all_stock(end_date)     # 查询全量股票，含指数\n",
    "stock_df  = stock_rs.get_data()\n",
    "stock_df  =  stock_df [stock_df ['tradeStatus'] == '1'].reset_index(drop =  True)\n",
    "\n",
    "data_df = pd.DataFrame()\n",
    "variance = []       # 计算方差。\n",
    "for row in tqdm(stock_df.itertuples()):\n",
    "    code = row[1]\n",
    "    code_name = row[3]\n",
    "\n",
    "    # 检测是否收盘超过3个点\n",
    "    k_rs = bs.query_history_k_data_plus(code, \"close,pctChg\", end_date, end_date)\n",
    "    \n",
    "    pct_chg = float(k_rs.get_row_data()[1])    # percentage change\n",
    "    if  pct_chg >= 3:\n",
    "        # print(code, pct_chg)\n",
    "        k_rs = bs.query_history_k_data_plus(code, \"close\", start_date, end_date)\n",
    "        data_df = k_rs.get_data()\n",
    "        var_tmp = data_df['close'].rolling(mean_days).mean().dropna().var()\n",
    "        close = float(data_df['close'].iloc[-1])\n",
    "        variance.append([code, code_name, end_date, pct_chg, var_tmp, close])\n",
    "        \n",
    "bs.logout()\n",
    "result = pd.DataFrame(variance, columns=['code', 'code_name', 'date', 'pct_chg', 'var', 'close'])\n",
    "result = result.dropna().sort_values(by=['var']).reset_index(drop=True)\n",
    "result.to_csv(str(mean_days) + \"日均线策略.csv\", index=False)"
   ]
  },
  {
   "cell_type": "code",
   "execution_count": null,
   "metadata": {},
   "outputs": [],
   "source": []
  },
  {
   "cell_type": "code",
   "execution_count": 85,
   "metadata": {},
   "outputs": [
    {
     "output_type": "stream",
     "name": "stdout",
     "text": [
      "2021-01-26 2021-05-26\n"
     ]
    }
   ],
   "source": [
    "# 计算日期\n",
    "\n",
    "now = datetime.datetime.now()\n",
    "if now.hour <= 15:\n",
    "    now -= datetime.timedelta(days=1)\n",
    "end_date = now.strftime('%Y-%m-%d')\n",
    "start_date = (now - datetime.timedelta(days=120)).strftime('%Y-%m-%d')\n",
    "print(start_date, end_date)"
   ]
  },
  {
   "cell_type": "code",
   "execution_count": 125,
   "metadata": {
    "tags": []
   },
   "outputs": [
    {
     "output_type": "stream",
     "name": "stdout",
     "text": [
      "login success!\n",
      "错误信息: 0 success\n",
      "255it [00:10, 23.60it/s]logout success!\n",
      "\n"
     ]
    }
   ],
   "source": [
    "\"\"\"运行时间: ~4 min\"\"\"\n",
    "\n",
    "# 登陆系统\n",
    "lg = bs.login()\n",
    "if lg.error_code != '0':\n",
    "    print(\"错误信息:\", lg.error_code, lg.error_msg)\n",
    "\n",
    "# 查询\n",
    "data_list = []\n",
    "stock_rs = bs.query_all_stock(end_date)     # 查询全量股票，含指数\n",
    "stock_df  = stock_rs.get_data()\n",
    "stock_df  =  stock_df [stock_df ['tradeStatus'] == '1'].reset_index(drop =  True)\n",
    "\n",
    "data_df = pd.DataFrame()\n",
    "variance = []       # 计算方差。\n",
    "for row in tqdm(stock_df.itertuples()):\n",
    "    # code, tradeStatus, code_name\n",
    "    code = row[1]\n",
    "    code_name = row[3]\n",
    "\n",
    "    # 检测是否收盘超过3个点\n",
    "    k_rs = bs.query_history_k_data_plus(code, \"close,pctChg\", end_date, end_date)\n",
    "    \n",
    "    pct_chg = float(k_rs.get_row_data()[1])    # percentage change\n",
    "    if  pct_chg >= 3:\n",
    "        # print(code, pct_chg)\n",
    "        k_rs = bs.query_history_k_data_plus(code, \"close\", start_date, end_date)\n",
    "        data_df = k_rs.get_data()\n",
    "        var_tmp = data_df['close'].rolling(60).mean().dropna().var()\n",
    "        variance.append([code, code_name, pct_chg, var_tmp])\n",
    "        \n",
    "bs.logout()\n",
    "result = pd.DataFrame(variance, columns=['code', 'code_name', 'pct_chg', 'var'])\n",
    "result = result.dropna().sort_values(by=['var']).reset_index(drop=True)\n",
    "result.to_csv(\"60日均线策略.csv\", index=False)"
   ]
  },
  {
   "cell_type": "code",
   "execution_count": 176,
   "metadata": {},
   "outputs": [
    {
     "output_type": "execute_result",
     "data": {
      "text/plain": [
       "(0.030880299999807903, 2.279095700000653, 2.248215400000845)"
      ]
     },
     "metadata": {},
     "execution_count": 176
    }
   ],
   "source": [
    "import timeit\n",
    "def s1():\n",
    "    for item in stock_df.itertuples():\n",
    "        a = item[0]\n",
    "\n",
    "def s2():\n",
    "    for item in stock_df[['code', 'code_name']].iterrows():\n",
    "        a = item[0]\n",
    "\n",
    "t1 = timeit.timeit(s1, number=10)\n",
    "t2 = timeit.timeit(s2, number=10)\n",
    "t1, t2, t2 - t1"
   ]
  },
  {
   "cell_type": "code",
   "execution_count": 188,
   "metadata": {
    "tags": [
     "outputPrepend"
    ]
   },
   "outputs": [
    {
     "output_type": "stream",
     "name": "stderr",
     "text": [
      "e_name='马钢股份', pct_chg=7.3604, var=0.01147358492063495)\n",
      "Pandas(Index=122, code='sz.002566', code_name='益盛药业', pct_chg=3.9189, var=0.012189444179894295)\n",
      "Pandas(Index=123, code='sz.002169', code_name='智光电气', pct_chg=6.4858, var=0.012770750925925941)\n",
      "Pandas(Index=124, code='sz.300938', code_name='信测标准', pct_chg=4.0578, var=0.013089194444444377)\n",
      "Pandas(Index=125, code='sh.688379', code_name='华光新材', pct_chg=3.0572, var=0.013217821957672193)\n",
      "Pandas(Index=126, code='sh.600789', code_name='鲁抗医药', pct_chg=3.9216, var=0.013662095767195792)\n",
      "Pandas(Index=127, code='sz.000155', code_name='川能动力', pct_chg=6.0016, var=0.013716937698412713)\n",
      "Pandas(Index=128, code='sz.002390', code_name='信邦制药', pct_chg=10.0, var=0.013944880291005202)\n",
      "Pandas(Index=129, code='sz.000796', code_name='凯撒旅业', pct_chg=3.272, var=0.014446513624338422)\n",
      "Pandas(Index=130, code='sz.002174', code_name='游族网络', pct_chg=4.6102, var=0.014493961904761809)\n",
      "Pandas(Index=131, code='sz.000762', code_name='西藏矿业', pct_chg=4.0721, var=0.014924527513227509)\n",
      "Pandas(Index=132, code='sz.300255', code_name='常山药业', pct_chg=5.0894, var=0.015492021164021257)\n",
      "Pandas(Index=133, code='sh.600200', code_name='江苏吴中', pct_chg=10.0282, var=0.015791203174603027)\n",
      "Pandas(Index=134, code='sz.300761', code_name='立华股份', pct_chg=3.5068, var=0.016764890476191563)\n",
      "Pandas(Index=135, code='sh.600540', code_name='新赛股份', pct_chg=3.7175, var=0.017124645767195804)\n",
      "Pandas(Index=136, code='sh.600149', code_name='廊坊发展', pct_chg=3.7906, var=0.017512901719576802)\n",
      "Pandas(Index=137, code='sh.600338', code_name='西藏珠峰', pct_chg=8.1897, var=0.018172200925925967)\n",
      "Pandas(Index=138, code='sh.600814', code_name='杭州解百', pct_chg=4.2151, var=0.01828034060846565)\n",
      "Pandas(Index=139, code='sh.603996', code_name='*ST中新', pct_chg=3.0822, var=0.01857241706349201)\n",
      "Pandas(Index=140, code='sz.000519', code_name='中兵红箭', pct_chg=7.724, var=0.018621778571428497)\n",
      "Pandas(Index=141, code='sh.600694', code_name='大商股份', pct_chg=5.6197, var=0.01904779973545036)\n",
      "Pandas(Index=142, code='sz.300697', code_name='电工合金', pct_chg=7.6541, var=0.01922819576719576)\n",
      "Pandas(Index=143, code='sz.300239', code_name='东宝生物', pct_chg=5.5319, var=0.019537048544973658)\n",
      "Pandas(Index=144, code='sz.300030', code_name='阳普医疗', pct_chg=4.2254, var=0.019632003174602803)\n",
      "Pandas(Index=145, code='sh.688077', code_name='大地熊', pct_chg=4.0707, var=0.02012569894179948)\n",
      "Pandas(Index=146, code='sz.000908', code_name='景峰医药', pct_chg=10.08, var=0.02012904880952389)\n",
      "Pandas(Index=147, code='sz.002875', code_name='安奈儿', pct_chg=3.575, var=0.0213000230158728)\n",
      "Pandas(Index=148, code='sz.300225', code_name='金力泰', pct_chg=4.2051, var=0.021550726719576575)\n",
      "Pandas(Index=149, code='sh.600012', code_name='皖通高速', pct_chg=4.3357, var=0.021672830291005155)\n",
      "Pandas(Index=150, code='sz.300503', code_name='昊志机电', pct_chg=3.9134, var=0.023154359656083902)\n",
      "Pandas(Index=151, code='sh.600499', code_name='科达制造', pct_chg=10.0, var=0.02339576838624353)\n",
      "Pandas(Index=152, code='sz.300434', code_name='金石亚药', pct_chg=5.7823, var=0.02381157949735459)\n",
      "Pandas(Index=153, code='sh.600381', code_name='青海春天', pct_chg=3.5354, var=0.02607657076719589)\n",
      "Pandas(Index=154, code='sz.000820', code_name='*ST节能', pct_chg=5.0704, var=0.026138370767195652)\n",
      "Pandas(Index=155, code='sz.002355', code_name='兴民智通', pct_chg=6.9492, var=0.026344926587301545)\n",
      "Pandas(Index=156, code='sz.002173', code_name='创新医疗', pct_chg=6.3889, var=0.026999506878307045)\n",
      "Pandas(Index=157, code='sh.603010', code_name='万盛股份', pct_chg=5.9905, var=0.02766690171957672)\n",
      "Pandas(Index=158, code='sz.000650', code_name='仁和药业', pct_chg=10.0242, var=0.028136618386243355)\n",
      "Pandas(Index=159, code='sz.300396', code_name='迪瑞医疗', pct_chg=5.6437, var=0.02897630873015828)\n",
      "Pandas(Index=160, code='sz.300683', code_name='海特生物', pct_chg=15.7136, var=0.030044381349203737)\n",
      "Pandas(Index=161, code='sh.600319', code_name='*ST亚星', pct_chg=5.0773, var=0.03131679259259285)\n",
      "Pandas(Index=162, code='sz.300453', code_name='三鑫医疗', pct_chg=3.8558, var=0.03218201759259285)\n",
      "Pandas(Index=163, code='sz.002152', code_name='广电运通', pct_chg=5.3834, var=0.03227017671957656)\n",
      "Pandas(Index=164, code='sh.600143', code_name='金发科技', pct_chg=5.0254, var=0.032787265211640125)\n",
      "Pandas(Index=165, code='sz.000425', code_name='徐工机械', pct_chg=3.9437, var=0.033811564814815336)\n",
      "Pandas(Index=166, code='sh.688013', code_name='天臣医疗', pct_chg=20.0, var=0.03429671084655948)\n",
      "Pandas(Index=167, code='sh.603100', code_name='川仪股份', pct_chg=3.9402, var=0.03457040634920585)\n",
      "Pandas(Index=168, code='sz.002176', code_name='江特电机', pct_chg=10.0601, var=0.03499012473544978)\n",
      "Pandas(Index=169, code='sz.002172', code_name='澳洋健康', pct_chg=6.6922, var=0.03711365965608462)\n",
      "Pandas(Index=170, code='sz.300486', code_name='东杰智能', pct_chg=3.377, var=0.03729468505290984)\n",
      "Pandas(Index=171, code='sz.300485', code_name='赛升药业', pct_chg=5.4444, var=0.038542094179894335)\n",
      "Pandas(Index=172, code='sz.002667', code_name='鞍重股份', pct_chg=3.5429, var=0.03916993465608449)\n",
      "Pandas(Index=173, code='sz.300461', code_name='田中精机', pct_chg=4.0314, var=0.04018828187830741)\n",
      "Pandas(Index=174, code='sh.600735', code_name='新华锦', pct_chg=3.6036, var=0.04082375251322784)\n",
      "Pandas(Index=175, code='sz.002351', code_name='漫步者', pct_chg=3.0619, var=0.04110784021164007)\n",
      "Pandas(Index=176, code='sz.300069', code_name='金利华电', pct_chg=4.835, var=0.0411654972222216)\n",
      "Pandas(Index=177, code='sh.600332', code_name='白云山', pct_chg=3.7939999999999996, var=0.0418799802910064)\n",
      "Pandas(Index=178, code='sz.002870', code_name='香山股份', pct_chg=4.8811, var=0.04247148783068815)\n",
      "Pandas(Index=179, code='sh.600827', code_name='百联股份', pct_chg=4.1704, var=0.04262773981481642)\n",
      "Pandas(Index=180, code='sz.002852', code_name='道道全', pct_chg=3.0345, var=0.044844637830687616)\n",
      "Pandas(Index=181, code='sh.601015', code_name='陕西黑猫', pct_chg=5.6164, var=0.047633020370370496)\n",
      "Pandas(Index=182, code='sh.605388', code_name='均瑶健康', pct_chg=5.9402, var=0.04861386190476179)\n",
      "Pandas(Index=183, code='sz.000534', code_name='万泽股份', pct_chg=3.4677, var=0.04864718306878378)\n",
      "Pandas(Index=184, code='sh.603085', code_name='天成自控', pct_chg=6.2865, var=0.04944265529100537)\n",
      "Pandas(Index=185, code='sz.300432', code_name='富临精工', pct_chg=4.6433, var=0.05150658187830663)\n",
      "Pandas(Index=186, code='sz.002126', code_name='银轮股份', pct_chg=3.1219, var=0.05290932671957695)\n",
      "Pandas(Index=187, code='sh.600460', code_name='士兰微', pct_chg=5.8806, var=0.053139415476189285)\n",
      "Pandas(Index=188, code='sz.002585', code_name='双星新材', pct_chg=3.3052, var=0.053333457275132064)\n",
      "Pandas(Index=189, code='sz.300238', code_name='冠昊生物', pct_chg=9.5051, var=0.05396665158730109)\n",
      "Pandas(Index=190, code='sz.002677', code_name='浙江美大', pct_chg=3.1, var=0.05414175171957621)\n",
      "Pandas(Index=191, code='sz.002603', code_name='以岭药业', pct_chg=3.582, var=0.05487154523809519)\n",
      "Pandas(Index=192, code='sz.002893', code_name='华通热力', pct_chg=3.2017, var=0.056990565608465465)\n",
      "Pandas(Index=193, code='sh.600884', code_name='杉杉股份', pct_chg=7.867999999999999, var=0.057489129100529286)\n",
      "Pandas(Index=194, code='sz.002223', code_name='鱼跃医疗', pct_chg=5.2283, var=0.05763465727513245)\n",
      "Pandas(Index=195, code='sz.002385', code_name='大北农', pct_chg=3.9541, var=0.059380103174603086)\n",
      "Pandas(Index=196, code='sz.300169', code_name='天晟新材', pct_chg=4.9618, var=0.05966624854497385)\n",
      "Pandas(Index=197, code='sz.300705', code_name='九典制药', pct_chg=7.6226, var=0.06645184814814872)\n",
      "Pandas(Index=198, code='sz.000980', code_name='*ST众泰', pct_chg=5.0808, var=0.06806536759259299)\n",
      "Pandas(Index=199, code='sz.002203', code_name='海亮股份', pct_chg=4.9275, var=0.06843752261904787)\n",
      "Pandas(Index=200, code='sz.300632', code_name='光莆股份', pct_chg=3.4530000000000003, var=0.06852799854497234)\n",
      "Pandas(Index=201, code='sz.300853', code_name='申昊科技', pct_chg=6.7886, var=0.06921149761904608)\n",
      "Pandas(Index=202, code='sz.300023', code_name='*ST宝德', pct_chg=5.9122, var=0.06985325132275022)\n",
      "Pandas(Index=203, code='sh.600576', code_name='祥源文化', pct_chg=3.4146, var=0.07332133968253984)\n",
      "Pandas(Index=204, code='sh.603518', code_name='锦泓集团', pct_chg=10.0, var=0.07466765449735432)\n",
      "Pandas(Index=205, code='sz.300795', code_name='*ST米奥', pct_chg=3.6818, var=0.08091016547619254)\n",
      "Pandas(Index=206, code='sz.002177', code_name='御银股份', pct_chg=3.1395, var=0.0867247376984129)\n",
      "Pandas(Index=207, code='sz.000610', code_name='西安旅游', pct_chg=3.2124, var=0.09038455806878357)\n",
      "Pandas(Index=208, code='sh.603538', code_name='美诺华', pct_chg=9.2227, var=0.09232252671957598)\n",
      "Pandas(Index=209, code='sh.603721', code_name='中广天择', pct_chg=3.3022, var=0.0948634476190475)\n",
      "Pandas(Index=210, code='sz.300692', code_name='中环环保', pct_chg=3.5398, var=0.09620988029100436)\n",
      "Pandas(Index=211, code='sh.688180', code_name='君实生物', pct_chg=9.186, var=0.09973415806877957)\n",
      "Pandas(Index=212, code='sz.300861', code_name='美畅股份', pct_chg=4.459, var=0.10596449695767264)\n",
      "Pandas(Index=213, code='sh.600593', code_name='大连圣亚', pct_chg=8.3221, var=0.1088706179894187)\n",
      "Pandas(Index=214, code='sz.300326', code_name='凯利泰', pct_chg=3.321, var=0.10900693306878337)\n",
      "Pandas(Index=215, code='sh.688418', code_name='震有科技', pct_chg=6.0, var=0.10918679616402084)\n",
      "Pandas(Index=216, code='sh.603199', code_name='九华旅游', pct_chg=3.3333, var=0.1092576055555542)\n",
      "Pandas(Index=217, code='sz.000408', code_name='藏格控股', pct_chg=4.9871, var=0.11226413227513143)\n",
      "Pandas(Index=218, code='sh.600515', code_name='*ST基础', pct_chg=4.9669, var=0.11235300529100477)\n",
      "Pandas(Index=219, code='sz.000615', code_name='奥园美谷', pct_chg=10.0157, var=0.12412370251322782)\n",
      "Pandas(Index=220, code='sz.300672', code_name='国科微', pct_chg=13.061, var=0.1320477781746054)\n",
      "Pandas(Index=221, code='sh.688028', code_name='沃尔德', pct_chg=4.6584, var=0.1328029814814837)\n",
      "Pandas(Index=222, code='sh.688005', code_name='容百科技', pct_chg=8.375, var=0.14338697671957953)\n",
      "Pandas(Index=223, code='sh.688520', code_name='神州细胞', pct_chg=6.8227, var=0.15250357910053722)\n",
      "Pandas(Index=224, code='sz.002932', code_name='明德生物', pct_chg=4.1726, var=0.15326126746031368)\n",
      "Pandas(Index=225, code='sz.000928', code_name='中钢国际', pct_chg=8.2902, var=0.15405242076719547)\n",
      "Pandas(Index=226, code='sh.600110', code_name='诺德股份', pct_chg=3.1414, var=0.15709193492063328)\n",
      "Pandas(Index=227, code='sh.603811', code_name='诚意药业', pct_chg=3.1799, var=0.16957877076719613)\n",
      "Pandas(Index=228, code='sh.603025', code_name='大豪科技', pct_chg=10.0, var=0.17114009166666452)\n",
      "Pandas(Index=229, code='sh.600085', code_name='同仁堂', pct_chg=7.1479, var=0.17386153187830572)\n",
      "Pandas(Index=230, code='sh.600223', code_name='鲁商发展', pct_chg=10.0341, var=0.17764583465608516)\n",
      "Pandas(Index=231, code='sh.600793', code_name='宜宾纸业', pct_chg=10.0184, var=0.19118689325396893)\n",
      "Pandas(Index=232, code='sz.300706', code_name='阿石创', pct_chg=3.2122, var=0.19477154417989168)\n",
      "Pandas(Index=233, code='sz.002378', code_name='章源钨业', pct_chg=4.8015, var=0.20332438227513355)\n",
      "Pandas(Index=234, code='sz.002645', code_name='华宏科技', pct_chg=10.0, var=0.2065193457671942)\n",
      "Pandas(Index=235, code='sh.603987', code_name='康德莱', pct_chg=5.3571, var=0.2166078433862401)\n",
      "Pandas(Index=236, code='sz.300538', code_name='同益股份', pct_chg=5.0, var=0.2337992818783069)\n",
      "Pandas(Index=237, code='sz.002626', code_name='金达威', pct_chg=10.0, var=0.23676026084655974)\n",
      "Pandas(Index=238, code='sz.300146', code_name='汤臣倍健', pct_chg=5.8252, var=0.2386040600529085)\n",
      "Pandas(Index=239, code='sz.300400', code_name='劲拓股份', pct_chg=3.0617, var=0.25339956150793586)\n",
      "Pandas(Index=240, code='sz.002581', code_name='未名医药', pct_chg=9.9871, var=0.2582496071428573)\n",
      "Pandas(Index=241, code='sh.600132', code_name='重庆啤酒', pct_chg=4.934, var=0.25991948584656194)\n",
      "Pandas(Index=242, code='sz.002738', code_name='中矿资源', pct_chg=5.4446, var=0.2692726619047584)\n",
      "Pandas(Index=243, code='sz.300046', code_name='台基股份', pct_chg=6.9485, var=0.2711868948412698)\n",
      "Pandas(Index=244, code='sh.605006', code_name='山东玻纤', pct_chg=4.5907, var=0.27773006521164195)\n",
      "Pandas(Index=245, code='sz.300463', code_name='迈克生物', pct_chg=4.0035, var=0.31317645992063925)\n",
      "Pandas(Index=246, code='sz.000739', code_name='普洛药业', pct_chg=3.3223, var=0.33847351746032106)\n",
      "Pandas(Index=247, code='sz.300244', code_name='迪安诊断', pct_chg=3.6132, var=0.3613423691798896)\n",
      "Pandas(Index=248, code='sz.300737', code_name='科顺股份', pct_chg=3.443, var=0.3723343457671917)\n",
      "Pandas(Index=249, code='sh.603990', code_name='麦迪科技', pct_chg=9.9905, var=0.37329724325396507)\n",
      "Pandas(Index=250, code='sz.300755', code_name='华致酒行', pct_chg=3.9587, var=0.37943595079365344)\n",
      "Pandas(Index=251, code='sz.002900', code_name='哈三联', pct_chg=10.0275, var=0.3832092015873016)\n",
      "Pandas(Index=252, code='sz.003025', code_name='思进智能', pct_chg=3.2507, var=0.3915242433862372)\n",
      "Pandas(Index=253, code='sz.300871', code_name='回盛生物', pct_chg=6.0521, var=0.4020834552910048)\n",
      "Pandas(Index=254, code='sh.603707', code_name='健友股份', pct_chg=5.0411, var=0.41867832910053054)\n",
      "Pandas(Index=255, code='sh.603588', code_name='高能环境', pct_chg=4.8668, var=0.4232146219576724)\n",
      "Pandas(Index=256, code='sh.603776', code_name='永安行', pct_chg=10.0039, var=0.46775542314815094)\n",
      "Pandas(Index=257, code='sh.603260', code_name='合盛硅业', pct_chg=4.2757, var=0.4693436414021203)\n",
      "Pandas(Index=258, code='sh.600196', code_name='复星医药', pct_chg=10.0073, var=0.4828674378306883)\n",
      "Pandas(Index=259, code='sz.300450', code_name='先导智能', pct_chg=3.6464, var=0.4975390652116205)\n",
      "Pandas(Index=260, code='sz.002158', code_name='汉钟精机', pct_chg=10.0, var=0.5838844231481495)\n",
      "Pandas(Index=261, code='sz.002156', code_name='通富微电', pct_chg=3.9903, var=0.6013462932539694)\n",
      "Pandas(Index=262, code='sh.688116', code_name='天奈科技', pct_chg=5.4675, var=0.6142975600529137)\n",
      "Pandas(Index=263, code='sz.003021', code_name='兆威机电', pct_chg=3.0601, var=0.6294607457671964)\n",
      "Pandas(Index=264, code='sh.600438', code_name='通威股份', pct_chg=3.4048, var=0.6621014679894193)\n",
      "Pandas(Index=265, code='sz.000869', code_name='张裕A', pct_chg=4.912, var=0.7219405202380804)\n",
      "Pandas(Index=266, code='sz.002497', code_name='雅化集团', pct_chg=3.352, var=0.7933736664021245)\n",
      "Pandas(Index=267, code='sz.300171', code_name='东富龙', pct_chg=3.5868, var=0.7999830136243335)\n",
      "Pandas(Index=268, code='sh.603589', code_name='口子窖', pct_chg=3.9933, var=0.8033190263227439)\n",
      "Pandas(Index=269, code='sz.002756', code_name='永兴材料', pct_chg=6.1939, var=0.8150828997354573)\n",
      "Pandas(Index=270, code='sz.300487', code_name='蓝晓科技', pct_chg=16.1009, var=0.8346280025132146)\n",
      "Pandas(Index=271, code='sh.603806', code_name='福斯特', pct_chg=5.8932, var=0.8480296365079283)\n",
      "Pandas(Index=272, code='sh.600882', code_name='妙可蓝多', pct_chg=8.1512, var=0.8502529210317521)\n",
      "Pandas(Index=273, code='sz.300357', code_name='我武生物', pct_chg=4.0857, var=0.8707171350529235)\n",
      "Pandas(Index=274, code='sh.600521', code_name='华海药业', pct_chg=4.9275, var=0.9719600064814908)\n",
      "Pandas(Index=275, code='sz.300858', code_name='科拓生物', pct_chg=7.7707, var=1.0932349513227615)\n",
      "Pandas(Index=276, code='sh.600511', code_name='国药股份', pct_chg=6.7149, var=1.1919206164021132)\n",
      "Pandas(Index=277, code='sh.603396', code_name='金辰股份', pct_chg=5.1777, var=1.2551964552910024)\n",
      "Pandas(Index=278, code='sz.002833', code_name='弘亚数控', pct_chg=5.3711, var=1.334798659656076)\n",
      "Pandas(Index=279, code='sz.300922', code_name='天秦装备', pct_chg=3.7026, var=1.433047113624359)\n",
      "Pandas(Index=280, code='sz.300087', code_name='荃银高科', pct_chg=5.4788, var=1.4403403972222164)\n",
      "Pandas(Index=281, code='sh.688155', code_name='先惠技术', pct_chg=4.6236, var=1.5319919710317442)\n",
      "Pandas(Index=282, code='sz.003026', code_name='中晶科技', pct_chg=4.0859, var=1.6589029544973382)\n",
      "Pandas(Index=283, code='sz.300073', code_name='当升科技', pct_chg=3.3075, var=1.7063663064814902)\n",
      "Pandas(Index=284, code='sz.002414', code_name='高德红外', pct_chg=4.8722, var=1.844519990608484)\n",
      "Pandas(Index=285, code='sh.600211', code_name='西藏药业', pct_chg=4.2572, var=1.8478951794973573)\n",
      "Pandas(Index=286, code='sz.000963', code_name='华东医药', pct_chg=10.0104, var=2.024234829100525)\n",
      "Pandas(Index=287, code='sh.688356', code_name='键凯科技', pct_chg=20.0032, var=2.0291862392857194)\n",
      "Pandas(Index=288, code='sh.688029', code_name='南微医学', pct_chg=3.4024, var=2.3113144818783)\n",
      "Pandas(Index=289, code='sz.300142', code_name='沃森生物', pct_chg=6.3468, var=2.3516660592592604)\n",
      "Pandas(Index=290, code='sh.603799', code_name='华友钴业', pct_chg=5.81, var=2.5191428656084764)\n",
      "Pandas(Index=291, code='sz.300274', code_name='阳光电源', pct_chg=9.2611, var=2.6986666388888647)\n",
      "Pandas(Index=292, code='sz.300859', code_name='*ST西域', pct_chg=3.6355, var=2.7616528210317384)\n",
      "Pandas(Index=293, code='sh.689009', code_name='九号公司', pct_chg=12.659, var=2.8318827643274758)\n",
      "Pandas(Index=294, code='sh.603378', code_name='亚士创能', pct_chg=8.1815, var=2.986908143386253)\n",
      "Pandas(Index=295, code='sz.300601', code_name='康泰生物', pct_chg=8.4178, var=3.529247148809552)\n",
      "Pandas(Index=296, code='sh.601127', code_name='小康股份', pct_chg=10.0114, var=3.572669454497344)\n",
      "Pandas(Index=297, code='sz.002901', code_name='大博医疗', pct_chg=4.0777, var=3.7992526179894304)\n",
      "Pandas(Index=298, code='sz.002612', code_name='朗姿股份', pct_chg=4.627, var=3.895320818386234)\n",
      "Pandas(Index=299, code='sz.002773', code_name='康弘药业', pct_chg=4.5521, var=3.9045922100528725)\n",
      "Pandas(Index=300, code='sh.688298', code_name='东方生物', pct_chg=8.5858, var=3.94614749880956)\n",
      "Pandas(Index=301, code='sz.300014', code_name='亿纬锂能', pct_chg=3.7439999999999998, var=3.951040909920609)\n",
      "Pandas(Index=302, code='sz.002709', code_name='天赐材料', pct_chg=4.9844, var=4.043169866402071)\n",
      "Pandas(Index=303, code='sh.601012', code_name='隆基股份', pct_chg=5.6323, var=4.233629580291057)\n",
      "Pandas(Index=304, code='sz.300769', code_name='德方纳米', pct_chg=4.9068, var=4.504668841402119)\n",
      "Pandas(Index=305, code='sh.688363', code_name='华熙生物', pct_chg=5.1809, var=5.366966958333316)\n",
      "Pandas(Index=306, code='sh.688308', code_name='欧科亿', pct_chg=8.0595, var=6.157451223544997)\n",
      "Pandas(Index=307, code='sh.603833', code_name='欧派家居', pct_chg=8.6928, var=6.353598059259218)\n",
      "Pandas(Index=308, code='sh.603185', code_name='上机数控', pct_chg=5.5478, var=7.232933385846469)\n",
      "Pandas(Index=309, code='sh.600702', code_name='舍得酒业', pct_chg=5.0, var=7.598597530952334)\n",
      "Pandas(Index=310, code='sz.002049', code_name='紫光国微', pct_chg=3.4084, var=8.938457134259293)\n",
      "Pandas(Index=311, code='sz.002460', code_name='赣锋锂业', pct_chg=6.2185, var=10.106119362433887)\n",
      "Pandas(Index=312, code='sh.688366', code_name='昊海生科', pct_chg=5.1903, var=10.810502770767203)\n",
      "Pandas(Index=313, code='sz.300751', code_name='迈为股份', pct_chg=4.5051, var=12.032413533068972)\n",
      "Pandas(Index=314, code='sz.300760', code_name='迈瑞医疗', pct_chg=3.3348, var=12.581197971957822)\n",
      "Pandas(Index=315, code='sh.688399', code_name='硕世生物', pct_chg=4.7076, var=13.528299271031669)\n",
      "Pandas(Index=316, code='sh.688598', code_name='金博股份', pct_chg=8.0304, var=14.943799197619086)\n",
      "Pandas(Index=317, code='sz.300618', code_name='寒锐钴业', pct_chg=3.219, var=15.6516925322751)\n",
      "Pandas(Index=318, code='sh.688699', code_name='明微电子', pct_chg=4.0201, var=15.660619015608447)\n",
      "Pandas(Index=319, code='sh.688185', code_name='康希诺', pct_chg=8.0778, var=15.842928251719945)\n",
      "Pandas(Index=320, code='sz.300122', code_name='智飞生物', pct_chg=4.6172, var=18.13200245595253)\n",
      "Pandas(Index=321, code='sz.300829', code_name='金丹科技', pct_chg=3.8455, var=24.148146904100557)\n",
      "Pandas(Index=322, code='sh.688027', code_name='国盾量子', pct_chg=3.9151, var=42.90999085132262)\n",
      "Pandas(Index=323, code='sh.688536', code_name='思瑞浦', pct_chg=5.597, var=46.49820147195796)\n",
      "Pandas(Index=324, code='sh.603290', code_name='斯达半导', pct_chg=3.2038, var=50.86988684060874)\n",
      "Pandas(Index=325, code='sh.688368', code_name='晶丰明源', pct_chg=7.5848, var=62.70643821706352)\n",
      "Pandas(Index=326, code='sz.300677', code_name='英科医疗', pct_chg=3.6463, var=62.79135976362434)\n",
      "Pandas(Index=327, code='sh.688068', code_name='热景生物', pct_chg=4.3981, var=74.19295514973547)\n",
      "Pandas(Index=328, code='sh.688390', code_name='固德威', pct_chg=3.7046, var=80.05554441283091)\n",
      "Pandas(Index=329, code='sh.688200', code_name='华峰测控', pct_chg=10.0685, var=98.65183551560848)\n",
      "Pandas(Index=330, code='sh.688111', code_name='金山办公', pct_chg=9.7536, var=124.29425791084698)\n",
      "Pandas(Index=331, code='sh.688063', code_name='派能科技', pct_chg=3.2838, var=186.77602352949677)\n",
      "Pandas(Index=332, code='sz.300896', code_name='爱美客', pct_chg=3.3606, var=433.5837717793599)\n",
      "\n"
     ]
    }
   ],
   "source": [
    "stock_df = pd.read_csv(\"60日均线策略.csv\")\n",
    "start_date = \"2021-05-01\"\n",
    "end_date = datetime.datetime.now().strftime('%Y-%m-%d')\n",
    "\n",
    "mean_close = []\n",
    "for row in tqdm(stock_df.itertuples()):\n",
    "    code = row[1]\n",
    "    k_rs = bs.query_history_k_data_plus(code, \"close\", start_date, end_date)\n",
    "    data_df = k_rs.get_data()\n",
    "    mean_tmp = data_df['close'].rolling(5).mean().dropna()\n",
    "    tmp = row[1:]\n",
    "    tmp.extend(list(mean_tmp))\n",
    "    mean_close.append(tmp)"
   ]
  },
  {
   "cell_type": "code",
   "execution_count": 197,
   "metadata": {},
   "outputs": [],
   "source": [
    "var_tmp = data_df['close'].rolling(30).mean().dropna()"
   ]
  },
  {
   "cell_type": "code",
   "execution_count": 9,
   "metadata": {},
   "outputs": [
    {
     "output_type": "execute_result",
     "data": {
      "text/plain": [
       "   0  1\n",
       "0  1  2\n",
       "1  2  3"
      ],
      "text/html": "<div>\n<style scoped>\n    .dataframe tbody tr th:only-of-type {\n        vertical-align: middle;\n    }\n\n    .dataframe tbody tr th {\n        vertical-align: top;\n    }\n\n    .dataframe thead th {\n        text-align: right;\n    }\n</style>\n<table border=\"1\" class=\"dataframe\">\n  <thead>\n    <tr style=\"text-align: right;\">\n      <th></th>\n      <th>0</th>\n      <th>1</th>\n    </tr>\n  </thead>\n  <tbody>\n    <tr>\n      <th>0</th>\n      <td>1</td>\n      <td>2</td>\n    </tr>\n    <tr>\n      <th>1</th>\n      <td>2</td>\n      <td>3</td>\n    </tr>\n  </tbody>\n</table>\n</div>"
     },
     "metadata": {},
     "execution_count": 9
    }
   ],
   "source": [
    "a = [[1, 2], [2, 3]]\n",
    "b = pd.DataFrame(a)\n",
    "b"
   ]
  },
  {
   "cell_type": "code",
   "execution_count": 5,
   "metadata": {},
   "outputs": [
    {
     "output_type": "execute_result",
     "data": {
      "text/plain": [
       "   a\n",
       "0  1\n",
       "1  2"
      ],
      "text/html": "<div>\n<style scoped>\n    .dataframe tbody tr th:only-of-type {\n        vertical-align: middle;\n    }\n\n    .dataframe tbody tr th {\n        vertical-align: top;\n    }\n\n    .dataframe thead th {\n        text-align: right;\n    }\n</style>\n<table border=\"1\" class=\"dataframe\">\n  <thead>\n    <tr style=\"text-align: right;\">\n      <th></th>\n      <th>a</th>\n    </tr>\n  </thead>\n  <tbody>\n    <tr>\n      <th>0</th>\n      <td>1</td>\n    </tr>\n    <tr>\n      <th>1</th>\n      <td>2</td>\n    </tr>\n  </tbody>\n</table>\n</div>"
     },
     "metadata": {},
     "execution_count": 5
    }
   ],
   "source": []
  },
  {
   "cell_type": "code",
   "execution_count": 187,
   "metadata": {},
   "outputs": [
    {
     "output_type": "execute_result",
     "data": {
      "text/plain": [
       "          code code_name  pct_chg         var\n",
       "0    sh.600778      友好集团  10.1156    0.000029\n",
       "1    sh.600321      正源股份   7.7670    0.000030\n",
       "2    sh.600898      ST美讯   5.0360    0.000037\n",
       "3    sh.600865      百大集团   3.2765    0.000047\n",
       "4    sz.000677      恒天海龙   5.2239    0.000058\n",
       "..         ...       ...      ...         ...\n",
       "328  sh.688390       固德威   3.7046   80.055544\n",
       "329  sh.688200      华峰测控  10.0685   98.651836\n",
       "330  sh.688111      金山办公   9.7536  124.294258\n",
       "331  sh.688063      派能科技   3.2838  186.776024\n",
       "332  sz.300896       爱美客   3.3606  433.583772\n",
       "\n",
       "[333 rows x 4 columns]"
      ],
      "text/html": "<div>\n<style scoped>\n    .dataframe tbody tr th:only-of-type {\n        vertical-align: middle;\n    }\n\n    .dataframe tbody tr th {\n        vertical-align: top;\n    }\n\n    .dataframe thead th {\n        text-align: right;\n    }\n</style>\n<table border=\"1\" class=\"dataframe\">\n  <thead>\n    <tr style=\"text-align: right;\">\n      <th></th>\n      <th>code</th>\n      <th>code_name</th>\n      <th>pct_chg</th>\n      <th>var</th>\n    </tr>\n  </thead>\n  <tbody>\n    <tr>\n      <th>0</th>\n      <td>sh.600778</td>\n      <td>友好集团</td>\n      <td>10.1156</td>\n      <td>0.000029</td>\n    </tr>\n    <tr>\n      <th>1</th>\n      <td>sh.600321</td>\n      <td>正源股份</td>\n      <td>7.7670</td>\n      <td>0.000030</td>\n    </tr>\n    <tr>\n      <th>2</th>\n      <td>sh.600898</td>\n      <td>ST美讯</td>\n      <td>5.0360</td>\n      <td>0.000037</td>\n    </tr>\n    <tr>\n      <th>3</th>\n      <td>sh.600865</td>\n      <td>百大集团</td>\n      <td>3.2765</td>\n      <td>0.000047</td>\n    </tr>\n    <tr>\n      <th>4</th>\n      <td>sz.000677</td>\n      <td>恒天海龙</td>\n      <td>5.2239</td>\n      <td>0.000058</td>\n    </tr>\n    <tr>\n      <th>...</th>\n      <td>...</td>\n      <td>...</td>\n      <td>...</td>\n      <td>...</td>\n    </tr>\n    <tr>\n      <th>328</th>\n      <td>sh.688390</td>\n      <td>固德威</td>\n      <td>3.7046</td>\n      <td>80.055544</td>\n    </tr>\n    <tr>\n      <th>329</th>\n      <td>sh.688200</td>\n      <td>华峰测控</td>\n      <td>10.0685</td>\n      <td>98.651836</td>\n    </tr>\n    <tr>\n      <th>330</th>\n      <td>sh.688111</td>\n      <td>金山办公</td>\n      <td>9.7536</td>\n      <td>124.294258</td>\n    </tr>\n    <tr>\n      <th>331</th>\n      <td>sh.688063</td>\n      <td>派能科技</td>\n      <td>3.2838</td>\n      <td>186.776024</td>\n    </tr>\n    <tr>\n      <th>332</th>\n      <td>sz.300896</td>\n      <td>爱美客</td>\n      <td>3.3606</td>\n      <td>433.583772</td>\n    </tr>\n  </tbody>\n</table>\n<p>333 rows × 4 columns</p>\n</div>"
     },
     "metadata": {},
     "execution_count": 187
    }
   ],
   "source": [
    "data"
   ]
  },
  {
   "cell_type": "code",
   "execution_count": 133,
   "metadata": {},
   "outputs": [
    {
     "output_type": "stream",
     "name": "stdout",
     "text": [
      "login success!\n"
     ]
    },
    {
     "output_type": "execute_result",
     "data": {
      "text/plain": [
       "2.0150747238466404e-05"
      ]
     },
     "metadata": {},
     "execution_count": 133
    }
   ],
   "source": [
    "bs.login()\n",
    "code = 'sz.002069'\n",
    "k_rs = bs.query_history_k_data_plus(code, \"date, close\", start_date, end_date)\n",
    "data_df = k_rs.get_data()\n",
    "var_tmp = data_df['close'].rolling(60).mean().dropna().var()\n",
    "var_tmp"
   ]
  },
  {
   "cell_type": "code",
   "execution_count": 134,
   "metadata": {},
   "outputs": [
    {
     "output_type": "execute_result",
     "data": {
      "text/plain": [
       "          date   close\n",
       "0   2021-01-26  3.5000\n",
       "1   2021-01-27  3.4000\n",
       "2   2021-01-28  3.3600\n",
       "3   2021-01-29  3.2300\n",
       "4   2021-02-01  3.4100\n",
       "..         ...     ...\n",
       "73  2021-05-20  3.3200\n",
       "74  2021-05-21  3.3800\n",
       "75  2021-05-24  3.5200\n",
       "76  2021-05-25  3.4400\n",
       "77  2021-05-26  3.7000\n",
       "\n",
       "[78 rows x 2 columns]"
      ],
      "text/html": "<div>\n<style scoped>\n    .dataframe tbody tr th:only-of-type {\n        vertical-align: middle;\n    }\n\n    .dataframe tbody tr th {\n        vertical-align: top;\n    }\n\n    .dataframe thead th {\n        text-align: right;\n    }\n</style>\n<table border=\"1\" class=\"dataframe\">\n  <thead>\n    <tr style=\"text-align: right;\">\n      <th></th>\n      <th>date</th>\n      <th>close</th>\n    </tr>\n  </thead>\n  <tbody>\n    <tr>\n      <th>0</th>\n      <td>2021-01-26</td>\n      <td>3.5000</td>\n    </tr>\n    <tr>\n      <th>1</th>\n      <td>2021-01-27</td>\n      <td>3.4000</td>\n    </tr>\n    <tr>\n      <th>2</th>\n      <td>2021-01-28</td>\n      <td>3.3600</td>\n    </tr>\n    <tr>\n      <th>3</th>\n      <td>2021-01-29</td>\n      <td>3.2300</td>\n    </tr>\n    <tr>\n      <th>4</th>\n      <td>2021-02-01</td>\n      <td>3.4100</td>\n    </tr>\n    <tr>\n      <th>...</th>\n      <td>...</td>\n      <td>...</td>\n    </tr>\n    <tr>\n      <th>73</th>\n      <td>2021-05-20</td>\n      <td>3.3200</td>\n    </tr>\n    <tr>\n      <th>74</th>\n      <td>2021-05-21</td>\n      <td>3.3800</td>\n    </tr>\n    <tr>\n      <th>75</th>\n      <td>2021-05-24</td>\n      <td>3.5200</td>\n    </tr>\n    <tr>\n      <th>76</th>\n      <td>2021-05-25</td>\n      <td>3.4400</td>\n    </tr>\n    <tr>\n      <th>77</th>\n      <td>2021-05-26</td>\n      <td>3.7000</td>\n    </tr>\n  </tbody>\n</table>\n<p>78 rows × 2 columns</p>\n</div>"
     },
     "metadata": {},
     "execution_count": 134
    }
   ],
   "source": [
    "data_df"
   ]
  },
  {
   "cell_type": "code",
   "execution_count": 135,
   "metadata": {},
   "outputs": [
    {
     "output_type": "execute_result",
     "data": {
      "text/plain": [
       "'2021-05-26'"
      ]
     },
     "metadata": {},
     "execution_count": 135
    }
   ],
   "source": [
    "end_date"
   ]
  },
  {
   "cell_type": "code",
   "execution_count": 91,
   "metadata": {},
   "outputs": [
    {
     "output_type": "execute_result",
     "data": {
      "text/plain": [
       "839.6947128428986"
      ]
     },
     "metadata": {},
     "execution_count": 91
    }
   ],
   "source": [
    "var_tmp"
   ]
  },
  {
   "cell_type": "code",
   "execution_count": 3,
   "metadata": {},
   "outputs": [],
   "source": [
    "stock_code = \"300721.SZ\""
   ]
  },
  {
   "cell_type": "code",
   "execution_count": 11,
   "metadata": {},
   "outputs": [
    {
     "output_type": "stream",
     "name": "stdout",
     "text": [
      "login success!\nlogin respond error_code:0\nlogin respond  error_msg:success\nquery_history_k_data respond error_code:0\nquery_history_k_data respond  error_msg:success\n"
     ]
    }
   ],
   "source": [
    "# 下载数据\n",
    "lg = bs.login()\n",
    "# 显示登陆返回信息\n",
    "print('login respond error_code:'+ lg.error_code)\n",
    "print('login respond  error_msg:'+ lg.error_msg)\n",
    "\n",
    "\n",
    "\n",
    "rs = bs.query_history_k_data_plus(stock_code, \"date,close,tradeStatus,pctChg\", start_date=start_date, end_date=end_date, frequency=\"d\", adjustflag=\"3\")\n",
    "print('query_history_k_data respond error_code:'+rs.error_code)\n",
    "print('query_history_k_data respond  error_msg:'+rs.error_msg)\n",
    "\n",
    "#### 打印结果集 ####\n",
    "data_list = []\n",
    "while (rs.error_code == '0') & rs.next():  # 获取一条记录，将记录合并在一起\n",
    "    data_list.append(rs.get_row_data())\n",
    "result = pd.DataFrame(data_list, columns=rs.fields)\n",
    "result.to_csv(stock_code + \".csv\", encoding=\"gbk\", index=False)"
   ]
  },
  {
   "cell_type": "code",
   "execution_count": 5,
   "metadata": {},
   "outputs": [],
   "source": [
    "stock = result\n",
    "stock['avg_60d'] = stock['close'].rolling(60).mean()      "
   ]
  },
  {
   "cell_type": "code",
   "execution_count": 10,
   "metadata": {},
   "outputs": [
    {
     "output_type": "execute_result",
     "data": {
      "text/plain": [
       "[<matplotlib.lines.Line2D at 0x7fdb15eac550>]"
      ]
     },
     "metadata": {},
     "execution_count": 10
    },
    {
     "output_type": "display_data",
     "data": {
      "text/plain": "<Figure size 432x288 with 1 Axes>",
      "image/svg+xml": "<?xml version=\"1.0\" encoding=\"utf-8\" standalone=\"no\"?>\n<!DOCTYPE svg PUBLIC \"-//W3C//DTD SVG 1.1//EN\"\n  \"http://www.w3.org/Graphics/SVG/1.1/DTD/svg11.dtd\">\n<!-- Created with matplotlib (https://matplotlib.org/) -->\n<svg height=\"248.518125pt\" version=\"1.1\" viewBox=\"0 0 378.465625 248.518125\" width=\"378.465625pt\" xmlns=\"http://www.w3.org/2000/svg\" xmlns:xlink=\"http://www.w3.org/1999/xlink\">\n <metadata>\n  <rdf:RDF xmlns:cc=\"http://creativecommons.org/ns#\" xmlns:dc=\"http://purl.org/dc/elements/1.1/\" xmlns:rdf=\"http://www.w3.org/1999/02/22-rdf-syntax-ns#\">\n   <cc:Work>\n    <dc:type rdf:resource=\"http://purl.org/dc/dcmitype/StillImage\"/>\n    <dc:date>2021-05-27T17:00:57.039070</dc:date>\n    <dc:format>image/svg+xml</dc:format>\n    <dc:creator>\n     <cc:Agent>\n      <dc:title>Matplotlib v3.3.4, https://matplotlib.org/</dc:title>\n     </cc:Agent>\n    </dc:creator>\n   </cc:Work>\n  </rdf:RDF>\n </metadata>\n <defs>\n  <style type=\"text/css\">*{stroke-linecap:butt;stroke-linejoin:round;}</style>\n </defs>\n <g id=\"figure_1\">\n  <g id=\"patch_1\">\n   <path d=\"M 0 248.518125 \nL 378.465625 248.518125 \nL 378.465625 0 \nL 0 0 \nz\n\" style=\"fill:none;\"/>\n  </g>\n  <g id=\"axes_1\">\n   <g id=\"patch_2\">\n    <path d=\"M 36.465625 224.64 \nL 371.265625 224.64 \nL 371.265625 7.2 \nL 36.465625 7.2 \nz\n\" style=\"fill:#ffffff;\"/>\n   </g>\n   <g id=\"matplotlib.axis_1\">\n    <g id=\"xtick_1\">\n     <g id=\"line2d_1\">\n      <defs>\n       <path d=\"M 0 0 \nL 0 3.5 \n\" id=\"mc893760463\" style=\"stroke:#000000;stroke-width:0.8;\"/>\n      </defs>\n      <g>\n       <use style=\"stroke:#000000;stroke-width:0.8;\" x=\"51.683807\" xlink:href=\"#mc893760463\" y=\"224.64\"/>\n      </g>\n     </g>\n     <g id=\"text_1\">\n      <!-- 0.0 -->\n      <g transform=\"translate(43.732244 239.238438)scale(0.1 -0.1)\">\n       <defs>\n        <path d=\"M 31.78125 66.40625 \nQ 24.171875 66.40625 20.328125 58.90625 \nQ 16.5 51.421875 16.5 36.375 \nQ 16.5 21.390625 20.328125 13.890625 \nQ 24.171875 6.390625 31.78125 6.390625 \nQ 39.453125 6.390625 43.28125 13.890625 \nQ 47.125 21.390625 47.125 36.375 \nQ 47.125 51.421875 43.28125 58.90625 \nQ 39.453125 66.40625 31.78125 66.40625 \nz\nM 31.78125 74.21875 \nQ 44.046875 74.21875 50.515625 64.515625 \nQ 56.984375 54.828125 56.984375 36.375 \nQ 56.984375 17.96875 50.515625 8.265625 \nQ 44.046875 -1.421875 31.78125 -1.421875 \nQ 19.53125 -1.421875 13.0625 8.265625 \nQ 6.59375 17.96875 6.59375 36.375 \nQ 6.59375 54.828125 13.0625 64.515625 \nQ 19.53125 74.21875 31.78125 74.21875 \nz\n\" id=\"DejaVuSans-48\"/>\n        <path d=\"M 10.6875 12.40625 \nL 21 12.40625 \nL 21 0 \nL 10.6875 0 \nz\n\" id=\"DejaVuSans-46\"/>\n       </defs>\n       <use xlink:href=\"#DejaVuSans-48\"/>\n       <use x=\"63.623047\" xlink:href=\"#DejaVuSans-46\"/>\n       <use x=\"95.410156\" xlink:href=\"#DejaVuSans-48\"/>\n      </g>\n     </g>\n    </g>\n    <g id=\"xtick_2\">\n     <g id=\"line2d_2\">\n      <g>\n       <use style=\"stroke:#000000;stroke-width:0.8;\" x=\"93.956534\" xlink:href=\"#mc893760463\" y=\"224.64\"/>\n      </g>\n     </g>\n     <g id=\"text_2\">\n      <!-- 2.5 -->\n      <g transform=\"translate(86.004972 239.238438)scale(0.1 -0.1)\">\n       <defs>\n        <path d=\"M 19.1875 8.296875 \nL 53.609375 8.296875 \nL 53.609375 0 \nL 7.328125 0 \nL 7.328125 8.296875 \nQ 12.9375 14.109375 22.625 23.890625 \nQ 32.328125 33.6875 34.8125 36.53125 \nQ 39.546875 41.84375 41.421875 45.53125 \nQ 43.3125 49.21875 43.3125 52.78125 \nQ 43.3125 58.59375 39.234375 62.25 \nQ 35.15625 65.921875 28.609375 65.921875 \nQ 23.96875 65.921875 18.8125 64.3125 \nQ 13.671875 62.703125 7.8125 59.421875 \nL 7.8125 69.390625 \nQ 13.765625 71.78125 18.9375 73 \nQ 24.125 74.21875 28.421875 74.21875 \nQ 39.75 74.21875 46.484375 68.546875 \nQ 53.21875 62.890625 53.21875 53.421875 \nQ 53.21875 48.921875 51.53125 44.890625 \nQ 49.859375 40.875 45.40625 35.40625 \nQ 44.1875 33.984375 37.640625 27.21875 \nQ 31.109375 20.453125 19.1875 8.296875 \nz\n\" id=\"DejaVuSans-50\"/>\n        <path d=\"M 10.796875 72.90625 \nL 49.515625 72.90625 \nL 49.515625 64.59375 \nL 19.828125 64.59375 \nL 19.828125 46.734375 \nQ 21.96875 47.46875 24.109375 47.828125 \nQ 26.265625 48.1875 28.421875 48.1875 \nQ 40.625 48.1875 47.75 41.5 \nQ 54.890625 34.8125 54.890625 23.390625 \nQ 54.890625 11.625 47.5625 5.09375 \nQ 40.234375 -1.421875 26.90625 -1.421875 \nQ 22.3125 -1.421875 17.546875 -0.640625 \nQ 12.796875 0.140625 7.71875 1.703125 \nL 7.71875 11.625 \nQ 12.109375 9.234375 16.796875 8.0625 \nQ 21.484375 6.890625 26.703125 6.890625 \nQ 35.15625 6.890625 40.078125 11.328125 \nQ 45.015625 15.765625 45.015625 23.390625 \nQ 45.015625 31 40.078125 35.4375 \nQ 35.15625 39.890625 26.703125 39.890625 \nQ 22.75 39.890625 18.8125 39.015625 \nQ 14.890625 38.140625 10.796875 36.28125 \nz\n\" id=\"DejaVuSans-53\"/>\n       </defs>\n       <use xlink:href=\"#DejaVuSans-50\"/>\n       <use x=\"63.623047\" xlink:href=\"#DejaVuSans-46\"/>\n       <use x=\"95.410156\" xlink:href=\"#DejaVuSans-53\"/>\n      </g>\n     </g>\n    </g>\n    <g id=\"xtick_3\">\n     <g id=\"line2d_3\">\n      <g>\n       <use style=\"stroke:#000000;stroke-width:0.8;\" x=\"136.229261\" xlink:href=\"#mc893760463\" y=\"224.64\"/>\n      </g>\n     </g>\n     <g id=\"text_3\">\n      <!-- 5.0 -->\n      <g transform=\"translate(128.277699 239.238438)scale(0.1 -0.1)\">\n       <use xlink:href=\"#DejaVuSans-53\"/>\n       <use x=\"63.623047\" xlink:href=\"#DejaVuSans-46\"/>\n       <use x=\"95.410156\" xlink:href=\"#DejaVuSans-48\"/>\n      </g>\n     </g>\n    </g>\n    <g id=\"xtick_4\">\n     <g id=\"line2d_4\">\n      <g>\n       <use style=\"stroke:#000000;stroke-width:0.8;\" x=\"178.501989\" xlink:href=\"#mc893760463\" y=\"224.64\"/>\n      </g>\n     </g>\n     <g id=\"text_4\">\n      <!-- 7.5 -->\n      <g transform=\"translate(170.550426 239.238438)scale(0.1 -0.1)\">\n       <defs>\n        <path d=\"M 8.203125 72.90625 \nL 55.078125 72.90625 \nL 55.078125 68.703125 \nL 28.609375 0 \nL 18.3125 0 \nL 43.21875 64.59375 \nL 8.203125 64.59375 \nz\n\" id=\"DejaVuSans-55\"/>\n       </defs>\n       <use xlink:href=\"#DejaVuSans-55\"/>\n       <use x=\"63.623047\" xlink:href=\"#DejaVuSans-46\"/>\n       <use x=\"95.410156\" xlink:href=\"#DejaVuSans-53\"/>\n      </g>\n     </g>\n    </g>\n    <g id=\"xtick_5\">\n     <g id=\"line2d_5\">\n      <g>\n       <use style=\"stroke:#000000;stroke-width:0.8;\" x=\"220.774716\" xlink:href=\"#mc893760463\" y=\"224.64\"/>\n      </g>\n     </g>\n     <g id=\"text_5\">\n      <!-- 10.0 -->\n      <g transform=\"translate(209.641903 239.238438)scale(0.1 -0.1)\">\n       <defs>\n        <path d=\"M 12.40625 8.296875 \nL 28.515625 8.296875 \nL 28.515625 63.921875 \nL 10.984375 60.40625 \nL 10.984375 69.390625 \nL 28.421875 72.90625 \nL 38.28125 72.90625 \nL 38.28125 8.296875 \nL 54.390625 8.296875 \nL 54.390625 0 \nL 12.40625 0 \nz\n\" id=\"DejaVuSans-49\"/>\n       </defs>\n       <use xlink:href=\"#DejaVuSans-49\"/>\n       <use x=\"63.623047\" xlink:href=\"#DejaVuSans-48\"/>\n       <use x=\"127.246094\" xlink:href=\"#DejaVuSans-46\"/>\n       <use x=\"159.033203\" xlink:href=\"#DejaVuSans-48\"/>\n      </g>\n     </g>\n    </g>\n    <g id=\"xtick_6\">\n     <g id=\"line2d_6\">\n      <g>\n       <use style=\"stroke:#000000;stroke-width:0.8;\" x=\"263.047443\" xlink:href=\"#mc893760463\" y=\"224.64\"/>\n      </g>\n     </g>\n     <g id=\"text_6\">\n      <!-- 12.5 -->\n      <g transform=\"translate(251.914631 239.238438)scale(0.1 -0.1)\">\n       <use xlink:href=\"#DejaVuSans-49\"/>\n       <use x=\"63.623047\" xlink:href=\"#DejaVuSans-50\"/>\n       <use x=\"127.246094\" xlink:href=\"#DejaVuSans-46\"/>\n       <use x=\"159.033203\" xlink:href=\"#DejaVuSans-53\"/>\n      </g>\n     </g>\n    </g>\n    <g id=\"xtick_7\">\n     <g id=\"line2d_7\">\n      <g>\n       <use style=\"stroke:#000000;stroke-width:0.8;\" x=\"305.32017\" xlink:href=\"#mc893760463\" y=\"224.64\"/>\n      </g>\n     </g>\n     <g id=\"text_7\">\n      <!-- 15.0 -->\n      <g transform=\"translate(294.187358 239.238438)scale(0.1 -0.1)\">\n       <use xlink:href=\"#DejaVuSans-49\"/>\n       <use x=\"63.623047\" xlink:href=\"#DejaVuSans-53\"/>\n       <use x=\"127.246094\" xlink:href=\"#DejaVuSans-46\"/>\n       <use x=\"159.033203\" xlink:href=\"#DejaVuSans-48\"/>\n      </g>\n     </g>\n    </g>\n    <g id=\"xtick_8\">\n     <g id=\"line2d_8\">\n      <g>\n       <use style=\"stroke:#000000;stroke-width:0.8;\" x=\"347.592898\" xlink:href=\"#mc893760463\" y=\"224.64\"/>\n      </g>\n     </g>\n     <g id=\"text_8\">\n      <!-- 17.5 -->\n      <g transform=\"translate(336.460085 239.238438)scale(0.1 -0.1)\">\n       <use xlink:href=\"#DejaVuSans-49\"/>\n       <use x=\"63.623047\" xlink:href=\"#DejaVuSans-55\"/>\n       <use x=\"127.246094\" xlink:href=\"#DejaVuSans-46\"/>\n       <use x=\"159.033203\" xlink:href=\"#DejaVuSans-53\"/>\n      </g>\n     </g>\n    </g>\n   </g>\n   <g id=\"matplotlib.axis_2\">\n    <g id=\"ytick_1\">\n     <g id=\"line2d_9\">\n      <defs>\n       <path d=\"M 0 0 \nL -3.5 0 \n\" id=\"m2c57e0e096\" style=\"stroke:#000000;stroke-width:0.8;\"/>\n      </defs>\n      <g>\n       <use style=\"stroke:#000000;stroke-width:0.8;\" x=\"36.465625\" xlink:href=\"#m2c57e0e096\" y=\"213.759179\"/>\n      </g>\n     </g>\n     <g id=\"text_9\">\n      <!-- 34.0 -->\n      <g transform=\"translate(7.2 217.558397)scale(0.1 -0.1)\">\n       <defs>\n        <path d=\"M 40.578125 39.3125 \nQ 47.65625 37.796875 51.625 33 \nQ 55.609375 28.21875 55.609375 21.1875 \nQ 55.609375 10.40625 48.1875 4.484375 \nQ 40.765625 -1.421875 27.09375 -1.421875 \nQ 22.515625 -1.421875 17.65625 -0.515625 \nQ 12.796875 0.390625 7.625 2.203125 \nL 7.625 11.71875 \nQ 11.71875 9.328125 16.59375 8.109375 \nQ 21.484375 6.890625 26.8125 6.890625 \nQ 36.078125 6.890625 40.9375 10.546875 \nQ 45.796875 14.203125 45.796875 21.1875 \nQ 45.796875 27.640625 41.28125 31.265625 \nQ 36.765625 34.90625 28.71875 34.90625 \nL 20.21875 34.90625 \nL 20.21875 43.015625 \nL 29.109375 43.015625 \nQ 36.375 43.015625 40.234375 45.921875 \nQ 44.09375 48.828125 44.09375 54.296875 \nQ 44.09375 59.90625 40.109375 62.90625 \nQ 36.140625 65.921875 28.71875 65.921875 \nQ 24.65625 65.921875 20.015625 65.03125 \nQ 15.375 64.15625 9.8125 62.3125 \nL 9.8125 71.09375 \nQ 15.4375 72.65625 20.34375 73.4375 \nQ 25.25 74.21875 29.59375 74.21875 \nQ 40.828125 74.21875 47.359375 69.109375 \nQ 53.90625 64.015625 53.90625 55.328125 \nQ 53.90625 49.265625 50.4375 45.09375 \nQ 46.96875 40.921875 40.578125 39.3125 \nz\n\" id=\"DejaVuSans-51\"/>\n        <path d=\"M 37.796875 64.3125 \nL 12.890625 25.390625 \nL 37.796875 25.390625 \nz\nM 35.203125 72.90625 \nL 47.609375 72.90625 \nL 47.609375 25.390625 \nL 58.015625 25.390625 \nL 58.015625 17.1875 \nL 47.609375 17.1875 \nL 47.609375 0 \nL 37.796875 0 \nL 37.796875 17.1875 \nL 4.890625 17.1875 \nL 4.890625 26.703125 \nz\n\" id=\"DejaVuSans-52\"/>\n       </defs>\n       <use xlink:href=\"#DejaVuSans-51\"/>\n       <use x=\"63.623047\" xlink:href=\"#DejaVuSans-52\"/>\n       <use x=\"127.246094\" xlink:href=\"#DejaVuSans-46\"/>\n       <use x=\"159.033203\" xlink:href=\"#DejaVuSans-48\"/>\n      </g>\n     </g>\n    </g>\n    <g id=\"ytick_2\">\n     <g id=\"line2d_10\">\n      <g>\n       <use style=\"stroke:#000000;stroke-width:0.8;\" x=\"36.465625\" xlink:href=\"#m2c57e0e096\" y=\"167.735261\"/>\n      </g>\n     </g>\n     <g id=\"text_10\">\n      <!-- 34.1 -->\n      <g transform=\"translate(7.2 171.53448)scale(0.1 -0.1)\">\n       <use xlink:href=\"#DejaVuSans-51\"/>\n       <use x=\"63.623047\" xlink:href=\"#DejaVuSans-52\"/>\n       <use x=\"127.246094\" xlink:href=\"#DejaVuSans-46\"/>\n       <use x=\"159.033203\" xlink:href=\"#DejaVuSans-49\"/>\n      </g>\n     </g>\n    </g>\n    <g id=\"ytick_3\">\n     <g id=\"line2d_11\">\n      <g>\n       <use style=\"stroke:#000000;stroke-width:0.8;\" x=\"36.465625\" xlink:href=\"#m2c57e0e096\" y=\"121.711343\"/>\n      </g>\n     </g>\n     <g id=\"text_11\">\n      <!-- 34.2 -->\n      <g transform=\"translate(7.2 125.510562)scale(0.1 -0.1)\">\n       <use xlink:href=\"#DejaVuSans-51\"/>\n       <use x=\"63.623047\" xlink:href=\"#DejaVuSans-52\"/>\n       <use x=\"127.246094\" xlink:href=\"#DejaVuSans-46\"/>\n       <use x=\"159.033203\" xlink:href=\"#DejaVuSans-50\"/>\n      </g>\n     </g>\n    </g>\n    <g id=\"ytick_4\">\n     <g id=\"line2d_12\">\n      <g>\n       <use style=\"stroke:#000000;stroke-width:0.8;\" x=\"36.465625\" xlink:href=\"#m2c57e0e096\" y=\"75.687425\"/>\n      </g>\n     </g>\n     <g id=\"text_12\">\n      <!-- 34.3 -->\n      <g transform=\"translate(7.2 79.486644)scale(0.1 -0.1)\">\n       <use xlink:href=\"#DejaVuSans-51\"/>\n       <use x=\"63.623047\" xlink:href=\"#DejaVuSans-52\"/>\n       <use x=\"127.246094\" xlink:href=\"#DejaVuSans-46\"/>\n       <use x=\"159.033203\" xlink:href=\"#DejaVuSans-51\"/>\n      </g>\n     </g>\n    </g>\n    <g id=\"ytick_5\">\n     <g id=\"line2d_13\">\n      <g>\n       <use style=\"stroke:#000000;stroke-width:0.8;\" x=\"36.465625\" xlink:href=\"#m2c57e0e096\" y=\"29.663507\"/>\n      </g>\n     </g>\n     <g id=\"text_13\">\n      <!-- 34.4 -->\n      <g transform=\"translate(7.2 33.462726)scale(0.1 -0.1)\">\n       <use xlink:href=\"#DejaVuSans-51\"/>\n       <use x=\"63.623047\" xlink:href=\"#DejaVuSans-52\"/>\n       <use x=\"127.246094\" xlink:href=\"#DejaVuSans-46\"/>\n       <use x=\"159.033203\" xlink:href=\"#DejaVuSans-52\"/>\n      </g>\n     </g>\n    </g>\n   </g>\n   <g id=\"line2d_14\">\n    <path clip-path=\"url(#pa6f5444aa5)\" d=\"M 51.683807 201.869667 \nL 68.592898 214.756364 \nL 85.501989 212.8387 \nL 102.41108 206.088526 \nL 119.32017 203.403797 \nL 136.229261 203.480504 \nL 153.138352 189.289796 \nL 170.047443 177.246871 \nL 186.956534 146.027313 \nL 203.865625 114.654342 \nL 220.774716 83.588198 \nL 237.683807 56.817619 \nL 254.592898 30.123746 \nL 271.501989 17.083636 \nL 288.41108 21.609322 \nL 305.32017 30.890812 \nL 322.229261 41.553019 \nL 339.138352 55.130075 \nL 356.047443 59.579054 \n\" style=\"fill:none;stroke:#1f77b4;stroke-linecap:square;stroke-width:1.5;\"/>\n   </g>\n   <g id=\"patch_3\">\n    <path d=\"M 36.465625 224.64 \nL 36.465625 7.2 \n\" style=\"fill:none;stroke:#000000;stroke-linecap:square;stroke-linejoin:miter;stroke-width:0.8;\"/>\n   </g>\n   <g id=\"patch_4\">\n    <path d=\"M 371.265625 224.64 \nL 371.265625 7.2 \n\" style=\"fill:none;stroke:#000000;stroke-linecap:square;stroke-linejoin:miter;stroke-width:0.8;\"/>\n   </g>\n   <g id=\"patch_5\">\n    <path d=\"M 36.465625 224.64 \nL 371.265625 224.64 \n\" style=\"fill:none;stroke:#000000;stroke-linecap:square;stroke-linejoin:miter;stroke-width:0.8;\"/>\n   </g>\n   <g id=\"patch_6\">\n    <path d=\"M 36.465625 7.2 \nL 371.265625 7.2 \n\" style=\"fill:none;stroke:#000000;stroke-linecap:square;stroke-linejoin:miter;stroke-width:0.8;\"/>\n   </g>\n  </g>\n </g>\n <defs>\n  <clipPath id=\"pa6f5444aa5\">\n   <rect height=\"217.44\" width=\"334.8\" x=\"36.465625\" y=\"7.2\"/>\n  </clipPath>\n </defs>\n</svg>\n",
      "image/png": "[encoded data removed]"
     },
     "metadata": {
      "needs_background": "light"
     }
    }
   ],
   "source": [
    "plt.plot(stock[pd.notna(stock['avg_60d'])]['avg_60d'].reset_index(drop=True))"
   ]
  },
  {
   "cell_type": "code",
   "execution_count": 9,
   "metadata": {},
   "outputs": [
    {
     "output_type": "execute_result",
     "data": {
      "text/plain": [
       "0     34.025833\n",
       "1     33.997833\n",
       "2     34.002000\n",
       "3     34.016667\n",
       "4     34.022500\n",
       "5     34.022333\n",
       "6     34.053167\n",
       "7     34.079333\n",
       "8     34.147167\n",
       "9     34.215333\n",
       "10    34.282833\n",
       "11    34.341000\n",
       "12    34.399000\n",
       "13    34.427333\n",
       "14    34.417500\n",
       "15    34.397333\n",
       "16    34.374167\n",
       "17    34.344667\n",
       "18    34.335000\n",
       "Name: avg_60d, dtype: float64"
      ]
     },
     "metadata": {},
     "execution_count": 9
    }
   ],
   "source": [
    "stock[pd.notna(stock['avg_60d'])]['avg_60d'].reset_index(drop=True)"
   ]
  },
  {
   "cell_type": "code",
   "execution_count": 10,
   "metadata": {},
   "outputs": [
    {
     "output_type": "execute_result",
     "data": {
      "text/plain": [
       "date           object\n",
       "code           object\n",
       "open           object\n",
       "high           object\n",
       "low            object\n",
       "close          object\n",
       "preclose       object\n",
       "volume         object\n",
       "amount         object\n",
       "adjustflag     object\n",
       "turn           object\n",
       "tradestatus    object\n",
       "pctChg         object\n",
       "peTTM          object\n",
       "pbMRQ          object\n",
       "psTTM          object\n",
       "pcfNcfTTM      object\n",
       "isST           object\n",
       "dtype: object"
      ]
     },
     "metadata": {},
     "execution_count": 10
    }
   ],
   "source": [
    "result.dtypes"
   ]
  },
  {
   "cell_type": "code",
   "execution_count": 7,
   "metadata": {},
   "outputs": [
    {
     "output_type": "execute_result",
     "data": {
      "text/plain": [
       "         date       code     open     high      low    close preclose volume  \\\n",
       "0  2017-11-15  sz.300721  20.0500  24.0600  20.0500  24.0600  16.7100   8575   \n",
       "1  2017-11-16  sz.300721  26.4700  26.4700  26.4700  26.4700  24.0600   2640   \n",
       "2  2017-11-17  sz.300721  29.1200  29.1200  29.1200  29.1200  26.4700   3200   \n",
       "3  2017-11-20  sz.300721  32.0300  32.0300  32.0300  32.0300  29.1200   6625   \n",
       "4  2017-11-21  sz.300721  35.2300  35.2300  35.2300  35.2300  32.0300  22158   \n",
       "\n",
       "        amount adjustflag      turn tradestatus     pctChg      peTTM  \\\n",
       "0  205713.5000          3  0.042768           1  43.985640  30.657271   \n",
       "1   69880.8000          3  0.013167           1  10.016620  33.728095   \n",
       "2   93184.0000          3  0.015960           1  10.011340  37.104728   \n",
       "3  212198.7500          3  0.033042           1   9.993125  40.812652   \n",
       "4  780626.3400          3  0.110514           1   9.990636  44.890095   \n",
       "\n",
       "      pbMRQ     psTTM   pcfNcfTTM isST  \n",
       "0  3.573392  1.658425  -15.129562    0  \n",
       "1  3.931326  1.824543  -16.645034    0  \n",
       "2  4.324904  2.007204  -18.311424    0  \n",
       "3  4.757097  2.207786  -20.141308    0  \n",
       "4  5.232361  2.428358  -22.153553    0  "
      ],
      "text/html": "<div>\n<style scoped>\n    .dataframe tbody tr th:only-of-type {\n        vertical-align: middle;\n    }\n\n    .dataframe tbody tr th {\n        vertical-align: top;\n    }\n\n    .dataframe thead th {\n        text-align: right;\n    }\n</style>\n<table border=\"1\" class=\"dataframe\">\n  <thead>\n    <tr style=\"text-align: right;\">\n      <th></th>\n      <th>date</th>\n      <th>code</th>\n      <th>open</th>\n      <th>high</th>\n      <th>low</th>\n      <th>close</th>\n      <th>preclose</th>\n      <th>volume</th>\n      <th>amount</th>\n      <th>adjustflag</th>\n      <th>turn</th>\n      <th>tradestatus</th>\n      <th>pctChg</th>\n      <th>peTTM</th>\n      <th>pbMRQ</th>\n      <th>psTTM</th>\n      <th>pcfNcfTTM</th>\n      <th>isST</th>\n    </tr>\n  </thead>\n  <tbody>\n    <tr>\n      <th>0</th>\n      <td>2017-11-15</td>\n      <td>sz.300721</td>\n      <td>20.0500</td>\n      <td>24.0600</td>\n      <td>20.0500</td>\n      <td>24.0600</td>\n      <td>16.7100</td>\n      <td>8575</td>\n      <td>205713.5000</td>\n      <td>3</td>\n      <td>0.042768</td>\n      <td>1</td>\n      <td>43.985640</td>\n      <td>30.657271</td>\n      <td>3.573392</td>\n      <td>1.658425</td>\n      <td>-15.129562</td>\n      <td>0</td>\n    </tr>\n    <tr>\n      <th>1</th>\n      <td>2017-11-16</td>\n      <td>sz.300721</td>\n      <td>26.4700</td>\n      <td>26.4700</td>\n      <td>26.4700</td>\n      <td>26.4700</td>\n      <td>24.0600</td>\n      <td>2640</td>\n      <td>69880.8000</td>\n      <td>3</td>\n      <td>0.013167</td>\n      <td>1</td>\n      <td>10.016620</td>\n      <td>33.728095</td>\n      <td>3.931326</td>\n      <td>1.824543</td>\n      <td>-16.645034</td>\n      <td>0</td>\n    </tr>\n    <tr>\n      <th>2</th>\n      <td>2017-11-17</td>\n      <td>sz.300721</td>\n      <td>29.1200</td>\n      <td>29.1200</td>\n      <td>29.1200</td>\n      <td>29.1200</td>\n      <td>26.4700</td>\n      <td>3200</td>\n      <td>93184.0000</td>\n      <td>3</td>\n      <td>0.015960</td>\n      <td>1</td>\n      <td>10.011340</td>\n      <td>37.104728</td>\n      <td>4.324904</td>\n      <td>2.007204</td>\n      <td>-18.311424</td>\n      <td>0</td>\n    </tr>\n    <tr>\n      <th>3</th>\n      <td>2017-11-20</td>\n      <td>sz.300721</td>\n      <td>32.0300</td>\n      <td>32.0300</td>\n      <td>32.0300</td>\n      <td>32.0300</td>\n      <td>29.1200</td>\n      <td>6625</td>\n      <td>212198.7500</td>\n      <td>3</td>\n      <td>0.033042</td>\n      <td>1</td>\n      <td>9.993125</td>\n      <td>40.812652</td>\n      <td>4.757097</td>\n      <td>2.207786</td>\n      <td>-20.141308</td>\n      <td>0</td>\n    </tr>\n    <tr>\n      <th>4</th>\n      <td>2017-11-21</td>\n      <td>sz.300721</td>\n      <td>35.2300</td>\n      <td>35.2300</td>\n      <td>35.2300</td>\n      <td>35.2300</td>\n      <td>32.0300</td>\n      <td>22158</td>\n      <td>780626.3400</td>\n      <td>3</td>\n      <td>0.110514</td>\n      <td>1</td>\n      <td>9.990636</td>\n      <td>44.890095</td>\n      <td>5.232361</td>\n      <td>2.428358</td>\n      <td>-22.153553</td>\n      <td>0</td>\n    </tr>\n  </tbody>\n</table>\n</div>"
     },
     "metadata": {},
     "execution_count": 7
    }
   ],
   "source": [
    "result[0:5]"
   ]
  },
  {
   "cell_type": "code",
   "execution_count": 6,
   "metadata": {},
   "outputs": [
    {
     "output_type": "execute_result",
     "data": {
      "text/plain": [
       "         date    close\n",
       "0  2017-11-15  24.0600\n",
       "1  2017-11-16  26.4700\n",
       "2  2017-11-17  29.1200\n",
       "3  2017-11-20  32.0300\n",
       "4  2017-11-21  35.2300"
      ],
      "text/html": "<div>\n<style scoped>\n    .dataframe tbody tr th:only-of-type {\n        vertical-align: middle;\n    }\n\n    .dataframe tbody tr th {\n        vertical-align: top;\n    }\n\n    .dataframe thead th {\n        text-align: right;\n    }\n</style>\n<table border=\"1\" class=\"dataframe\">\n  <thead>\n    <tr style=\"text-align: right;\">\n      <th></th>\n      <th>date</th>\n      <th>close</th>\n    </tr>\n  </thead>\n  <tbody>\n    <tr>\n      <th>0</th>\n      <td>2017-11-15</td>\n      <td>24.0600</td>\n    </tr>\n    <tr>\n      <th>1</th>\n      <td>2017-11-16</td>\n      <td>26.4700</td>\n    </tr>\n    <tr>\n      <th>2</th>\n      <td>2017-11-17</td>\n      <td>29.1200</td>\n    </tr>\n    <tr>\n      <th>3</th>\n      <td>2017-11-20</td>\n      <td>32.0300</td>\n    </tr>\n    <tr>\n      <th>4</th>\n      <td>2017-11-21</td>\n      <td>35.2300</td>\n    </tr>\n  </tbody>\n</table>\n</div>"
     },
     "metadata": {},
     "execution_count": 6
    }
   ],
   "source": [
    "i = 0\n",
    "result[['date', 'close']][i:i+5]"
   ]
  },
  {
   "cell_type": "code",
   "execution_count": 5,
   "metadata": {},
   "outputs": [],
   "source": [
    "# 读取csv文件\n",
    "stock = pd.read_csv(stock_code + \".csv\")"
   ]
  },
  {
   "cell_type": "code",
   "execution_count": 6,
   "metadata": {},
   "outputs": [
    {
     "output_type": "execute_result",
     "data": {
      "text/plain": [
       "date            object\n",
       "code            object\n",
       "open           float64\n",
       "high           float64\n",
       "low            float64\n",
       "close          float64\n",
       "preclose       float64\n",
       "volume           int64\n",
       "amount         float64\n",
       "adjustflag       int64\n",
       "turn           float64\n",
       "tradestatus      int64\n",
       "pctChg         float64\n",
       "peTTM          float64\n",
       "pbMRQ          float64\n",
       "psTTM          float64\n",
       "pcfNcfTTM      float64\n",
       "isST             int64\n",
       "dtype: object"
      ]
     },
     "metadata": {},
     "execution_count": 6
    }
   ],
   "source": [
    "stock.dtypes"
   ]
  },
  {
   "cell_type": "code",
   "execution_count": 7,
   "metadata": {},
   "outputs": [
    {
     "output_type": "execute_result",
     "data": {
      "text/plain": [
       "0            NaN\n",
       "1      10.016625\n",
       "2      10.011334\n",
       "3       9.993132\n",
       "4       9.990634\n",
       "         ...    \n",
       "800    -0.377054\n",
       "801    -1.865369\n",
       "802    -0.055096\n",
       "803    -1.626240\n",
       "804    -6.976744\n",
       "Name: variation, Length: 805, dtype: float64"
      ]
     },
     "metadata": {},
     "execution_count": 7
    }
   ],
   "source": [
    "stock['variation'] = (stock['close'] - stock['close'].shift(1))/stock['close'].shift(1) * 100\n",
    "stock['variation'] "
   ]
  },
  {
   "cell_type": "code",
   "execution_count": 83,
   "metadata": {},
   "outputs": [
    {
     "output_type": "stream",
     "name": "stdout",
     "text": [
      "-20, -18, -16, -14, -12, -10, -8, -6, -4, -2, 0, 2, 4, 6, 8, 10, 12, 14, 16, 18, 20, "
     ]
    }
   ],
   "source": [
    "for i in range(-20, 21, 2):\n",
    "    print(i, end=', ')\n"
   ]
  },
  {
   "cell_type": "code",
   "execution_count": 89,
   "metadata": {},
   "outputs": [],
   "source": [
    "# https://blog.csdn.net/qq_41892229/article/details/109702038\n",
    "stock_bins = [-10, -5, -3, 3, 5, 10]\n",
    "stock_GEM_bins = [-20, -18, -16, -14, -12, -10, -8, -6, -4, -2, 0, 2, 4, 6, 8, 10, 12, 14, 16, 18, 20]   # 创业板\n",
    "labels = stock_GEM_bins.copy()\n",
    "labels.remove(0)\n",
    "a, b = pd.cut(x=stock['variation'], bins=stock_GEM_bins, retbins=True, right=True, labels= labels)"
   ]
  },
  {
   "cell_type": "code",
   "execution_count": 90,
   "metadata": {},
   "outputs": [
    {
     "output_type": "execute_result",
     "data": {
      "text/plain": [
       "-20      0\n",
       "-18      0\n",
       "-16      0\n",
       "-14      0\n",
       "-12      7\n",
       "-10     10\n",
       "-8      23\n",
       "-6      37\n",
       "-4     122\n",
       "-2     189\n",
       " 2     219\n",
       " 4     110\n",
       " 6      45\n",
       " 8       9\n",
       " 10     15\n",
       " 12     17\n",
       " 14      1\n",
       " 16      0\n",
       " 18      0\n",
       " 20      0\n",
       "Name: variation, dtype: int64"
      ]
     },
     "metadata": {},
     "execution_count": 90
    }
   ],
   "source": [
    "a.value_counts(sort=False)"
   ]
  },
  {
   "cell_type": "code",
   "execution_count": 91,
   "metadata": {},
   "outputs": [
    {
     "output_type": "execute_result",
     "data": {
      "text/plain": [
       "[<matplotlib.lines.Line2D at 0x1cf09d49348>]"
      ]
     },
     "metadata": {},
     "execution_count": 91
    },
    {
     "output_type": "display_data",
     "data": {
      "text/plain": "<Figure size 432x288 with 1 Axes>",
      "image/svg+xml": "<?xml version=\"1.0\" encoding=\"utf-8\" standalone=\"no\"?>\r\n<!DOCTYPE svg PUBLIC \"-//W3C//DTD SVG 1.1//EN\"\r\n  \"http://www.w3.org/Graphics/SVG/1.1/DTD/svg11.dtd\">\r\n<!-- Created with matplotlib (https://matplotlib.org/) -->\r\n<svg height=\"248.518125pt\" version=\"1.1\" viewBox=\"0 0 375.2875 248.518125\" width=\"375.2875pt\" xmlns=\"http://www.w3.org/2000/svg\" xmlns:xlink=\"http://www.w3.org/1999/xlink\">\r\n <metadata>\r\n  <rdf:RDF xmlns:cc=\"http://creativecommons.org/ns#\" xmlns:dc=\"http://purl.org/dc/elements/1.1/\" xmlns:rdf=\"http://www.w3.org/1999/02/22-rdf-syntax-ns#\">\r\n   <cc:Work>\r\n    <dc:type rdf:resource=\"http://purl.org/dc/dcmitype/StillImage\"/>\r\n    <dc:date>2021-03-10T23:17:54.962285</dc:date>\r\n    <dc:format>image/svg+xml</dc:format>\r\n    <dc:creator>\r\n     <cc:Agent>\r\n      <dc:title>Matplotlib v3.3.3, https://matplotlib.org/</dc:title>\r\n     </cc:Agent>\r\n    </dc:creator>\r\n   </cc:Work>\r\n  </rdf:RDF>\r\n </metadata>\r\n <defs>\r\n  <style type=\"text/css\">*{stroke-linecap:butt;stroke-linejoin:round;}</style>\r\n </defs>\r\n <g id=\"figure_1\">\r\n  <g id=\"patch_1\">\r\n   <path d=\"M 0 248.518125 \r\nL 375.2875 248.518125 \r\nL 375.2875 0 \r\nL 0 0 \r\nz\r\n\" style=\"fill:none;\"/>\r\n  </g>\r\n  <g id=\"axes_1\">\r\n   <g id=\"patch_2\">\r\n    <path d=\"M 33.2875 224.64 \r\nL 368.0875 224.64 \r\nL 368.0875 7.2 \r\nL 33.2875 7.2 \r\nz\r\n\" style=\"fill:#ffffff;\"/>\r\n   </g>\r\n   <g id=\"matplotlib.axis_1\">\r\n    <g id=\"xtick_1\">\r\n     <g id=\"line2d_1\">\r\n      <defs>\r\n       <path d=\"M 0 0 \r\nL 0 3.5 \r\n\" id=\"mb1382a0636\" style=\"stroke:#000000;stroke-width:0.8;\"/>\r\n      </defs>\r\n      <g>\r\n       <use style=\"stroke:#000000;stroke-width:0.8;\" x=\"48.505682\" xlink:href=\"#mb1382a0636\" y=\"224.64\"/>\r\n      </g>\r\n     </g>\r\n     <g id=\"text_1\">\r\n      <!-- −20 -->\r\n      <g transform=\"translate(37.953338 239.238437)scale(0.1 -0.1)\">\r\n       <defs>\r\n        <path d=\"M 10.59375 35.5 \r\nL 73.1875 35.5 \r\nL 73.1875 27.203125 \r\nL 10.59375 27.203125 \r\nz\r\n\" id=\"DejaVuSans-8722\"/>\r\n        <path d=\"M 19.1875 8.296875 \r\nL 53.609375 8.296875 \r\nL 53.609375 0 \r\nL 7.328125 0 \r\nL 7.328125 8.296875 \r\nQ 12.9375 14.109375 22.625 23.890625 \r\nQ 32.328125 33.6875 34.8125 36.53125 \r\nQ 39.546875 41.84375 41.421875 45.53125 \r\nQ 43.3125 49.21875 43.3125 52.78125 \r\nQ 43.3125 58.59375 39.234375 62.25 \r\nQ 35.15625 65.921875 28.609375 65.921875 \r\nQ 23.96875 65.921875 18.8125 64.3125 \r\nQ 13.671875 62.703125 7.8125 59.421875 \r\nL 7.8125 69.390625 \r\nQ 13.765625 71.78125 18.9375 73 \r\nQ 24.125 74.21875 28.421875 74.21875 \r\nQ 39.75 74.21875 46.484375 68.546875 \r\nQ 53.21875 62.890625 53.21875 53.421875 \r\nQ 53.21875 48.921875 51.53125 44.890625 \r\nQ 49.859375 40.875 45.40625 35.40625 \r\nQ 44.1875 33.984375 37.640625 27.21875 \r\nQ 31.109375 20.453125 19.1875 8.296875 \r\nz\r\n\" id=\"DejaVuSans-50\"/>\r\n        <path d=\"M 31.78125 66.40625 \r\nQ 24.171875 66.40625 20.328125 58.90625 \r\nQ 16.5 51.421875 16.5 36.375 \r\nQ 16.5 21.390625 20.328125 13.890625 \r\nQ 24.171875 6.390625 31.78125 6.390625 \r\nQ 39.453125 6.390625 43.28125 13.890625 \r\nQ 47.125 21.390625 47.125 36.375 \r\nQ 47.125 51.421875 43.28125 58.90625 \r\nQ 39.453125 66.40625 31.78125 66.40625 \r\nz\r\nM 31.78125 74.21875 \r\nQ 44.046875 74.21875 50.515625 64.515625 \r\nQ 56.984375 54.828125 56.984375 36.375 \r\nQ 56.984375 17.96875 50.515625 8.265625 \r\nQ 44.046875 -1.421875 31.78125 -1.421875 \r\nQ 19.53125 -1.421875 13.0625 8.265625 \r\nQ 6.59375 17.96875 6.59375 36.375 \r\nQ 6.59375 54.828125 13.0625 64.515625 \r\nQ 19.53125 74.21875 31.78125 74.21875 \r\nz\r\n\" id=\"DejaVuSans-48\"/>\r\n       </defs>\r\n       <use xlink:href=\"#DejaVuSans-8722\"/>\r\n       <use x=\"83.789062\" xlink:href=\"#DejaVuSans-50\"/>\r\n       <use x=\"147.412109\" xlink:href=\"#DejaVuSans-48\"/>\r\n      </g>\r\n     </g>\r\n    </g>\r\n    <g id=\"xtick_2\">\r\n     <g id=\"line2d_2\">\r\n      <g>\r\n       <use style=\"stroke:#000000;stroke-width:0.8;\" x=\"86.551136\" xlink:href=\"#mb1382a0636\" y=\"224.64\"/>\r\n      </g>\r\n     </g>\r\n     <g id=\"text_2\">\r\n      <!-- −15 -->\r\n      <g transform=\"translate(75.998793 239.238437)scale(0.1 -0.1)\">\r\n       <defs>\r\n        <path d=\"M 12.40625 8.296875 \r\nL 28.515625 8.296875 \r\nL 28.515625 63.921875 \r\nL 10.984375 60.40625 \r\nL 10.984375 69.390625 \r\nL 28.421875 72.90625 \r\nL 38.28125 72.90625 \r\nL 38.28125 8.296875 \r\nL 54.390625 8.296875 \r\nL 54.390625 0 \r\nL 12.40625 0 \r\nz\r\n\" id=\"DejaVuSans-49\"/>\r\n        <path d=\"M 10.796875 72.90625 \r\nL 49.515625 72.90625 \r\nL 49.515625 64.59375 \r\nL 19.828125 64.59375 \r\nL 19.828125 46.734375 \r\nQ 21.96875 47.46875 24.109375 47.828125 \r\nQ 26.265625 48.1875 28.421875 48.1875 \r\nQ 40.625 48.1875 47.75 41.5 \r\nQ 54.890625 34.8125 54.890625 23.390625 \r\nQ 54.890625 11.625 47.5625 5.09375 \r\nQ 40.234375 -1.421875 26.90625 -1.421875 \r\nQ 22.3125 -1.421875 17.546875 -0.640625 \r\nQ 12.796875 0.140625 7.71875 1.703125 \r\nL 7.71875 11.625 \r\nQ 12.109375 9.234375 16.796875 8.0625 \r\nQ 21.484375 6.890625 26.703125 6.890625 \r\nQ 35.15625 6.890625 40.078125 11.328125 \r\nQ 45.015625 15.765625 45.015625 23.390625 \r\nQ 45.015625 31 40.078125 35.4375 \r\nQ 35.15625 39.890625 26.703125 39.890625 \r\nQ 22.75 39.890625 18.8125 39.015625 \r\nQ 14.890625 38.140625 10.796875 36.28125 \r\nz\r\n\" id=\"DejaVuSans-53\"/>\r\n       </defs>\r\n       <use xlink:href=\"#DejaVuSans-8722\"/>\r\n       <use x=\"83.789062\" xlink:href=\"#DejaVuSans-49\"/>\r\n       <use x=\"147.412109\" xlink:href=\"#DejaVuSans-53\"/>\r\n      </g>\r\n     </g>\r\n    </g>\r\n    <g id=\"xtick_3\">\r\n     <g id=\"line2d_3\">\r\n      <g>\r\n       <use style=\"stroke:#000000;stroke-width:0.8;\" x=\"124.596591\" xlink:href=\"#mb1382a0636\" y=\"224.64\"/>\r\n      </g>\r\n     </g>\r\n     <g id=\"text_3\">\r\n      <!-- −10 -->\r\n      <g transform=\"translate(114.044247 239.238437)scale(0.1 -0.1)\">\r\n       <use xlink:href=\"#DejaVuSans-8722\"/>\r\n       <use x=\"83.789062\" xlink:href=\"#DejaVuSans-49\"/>\r\n       <use x=\"147.412109\" xlink:href=\"#DejaVuSans-48\"/>\r\n      </g>\r\n     </g>\r\n    </g>\r\n    <g id=\"xtick_4\">\r\n     <g id=\"line2d_4\">\r\n      <g>\r\n       <use style=\"stroke:#000000;stroke-width:0.8;\" x=\"162.642045\" xlink:href=\"#mb1382a0636\" y=\"224.64\"/>\r\n      </g>\r\n     </g>\r\n     <g id=\"text_4\">\r\n      <!-- −5 -->\r\n      <g transform=\"translate(155.270952 239.238437)scale(0.1 -0.1)\">\r\n       <use xlink:href=\"#DejaVuSans-8722\"/>\r\n       <use x=\"83.789062\" xlink:href=\"#DejaVuSans-53\"/>\r\n      </g>\r\n     </g>\r\n    </g>\r\n    <g id=\"xtick_5\">\r\n     <g id=\"line2d_5\">\r\n      <g>\r\n       <use style=\"stroke:#000000;stroke-width:0.8;\" x=\"200.6875\" xlink:href=\"#mb1382a0636\" y=\"224.64\"/>\r\n      </g>\r\n     </g>\r\n     <g id=\"text_5\">\r\n      <!-- 0 -->\r\n      <g transform=\"translate(197.50625 239.238437)scale(0.1 -0.1)\">\r\n       <use xlink:href=\"#DejaVuSans-48\"/>\r\n      </g>\r\n     </g>\r\n    </g>\r\n    <g id=\"xtick_6\">\r\n     <g id=\"line2d_6\">\r\n      <g>\r\n       <use style=\"stroke:#000000;stroke-width:0.8;\" x=\"238.732955\" xlink:href=\"#mb1382a0636\" y=\"224.64\"/>\r\n      </g>\r\n     </g>\r\n     <g id=\"text_6\">\r\n      <!-- 5 -->\r\n      <g transform=\"translate(235.551705 239.238437)scale(0.1 -0.1)\">\r\n       <use xlink:href=\"#DejaVuSans-53\"/>\r\n      </g>\r\n     </g>\r\n    </g>\r\n    <g id=\"xtick_7\">\r\n     <g id=\"line2d_7\">\r\n      <g>\r\n       <use style=\"stroke:#000000;stroke-width:0.8;\" x=\"276.778409\" xlink:href=\"#mb1382a0636\" y=\"224.64\"/>\r\n      </g>\r\n     </g>\r\n     <g id=\"text_7\">\r\n      <!-- 10 -->\r\n      <g transform=\"translate(270.415909 239.238437)scale(0.1 -0.1)\">\r\n       <use xlink:href=\"#DejaVuSans-49\"/>\r\n       <use x=\"63.623047\" xlink:href=\"#DejaVuSans-48\"/>\r\n      </g>\r\n     </g>\r\n    </g>\r\n    <g id=\"xtick_8\">\r\n     <g id=\"line2d_8\">\r\n      <g>\r\n       <use style=\"stroke:#000000;stroke-width:0.8;\" x=\"314.823864\" xlink:href=\"#mb1382a0636\" y=\"224.64\"/>\r\n      </g>\r\n     </g>\r\n     <g id=\"text_8\">\r\n      <!-- 15 -->\r\n      <g transform=\"translate(308.461364 239.238437)scale(0.1 -0.1)\">\r\n       <use xlink:href=\"#DejaVuSans-49\"/>\r\n       <use x=\"63.623047\" xlink:href=\"#DejaVuSans-53\"/>\r\n      </g>\r\n     </g>\r\n    </g>\r\n    <g id=\"xtick_9\">\r\n     <g id=\"line2d_9\">\r\n      <g>\r\n       <use style=\"stroke:#000000;stroke-width:0.8;\" x=\"352.869318\" xlink:href=\"#mb1382a0636\" y=\"224.64\"/>\r\n      </g>\r\n     </g>\r\n     <g id=\"text_9\">\r\n      <!-- 20 -->\r\n      <g transform=\"translate(346.506818 239.238437)scale(0.1 -0.1)\">\r\n       <use xlink:href=\"#DejaVuSans-50\"/>\r\n       <use x=\"63.623047\" xlink:href=\"#DejaVuSans-48\"/>\r\n      </g>\r\n     </g>\r\n    </g>\r\n   </g>\r\n   <g id=\"matplotlib.axis_2\">\r\n    <g id=\"ytick_1\">\r\n     <g id=\"line2d_10\">\r\n      <defs>\r\n       <path d=\"M 0 0 \r\nL -3.5 0 \r\n\" id=\"mc1ab44e0e6\" style=\"stroke:#000000;stroke-width:0.8;\"/>\r\n      </defs>\r\n      <g>\r\n       <use style=\"stroke:#000000;stroke-width:0.8;\" x=\"33.2875\" xlink:href=\"#mc1ab44e0e6\" y=\"214.756364\"/>\r\n      </g>\r\n     </g>\r\n     <g id=\"text_10\">\r\n      <!-- 0 -->\r\n      <g transform=\"translate(19.925 218.555582)scale(0.1 -0.1)\">\r\n       <use xlink:href=\"#DejaVuSans-48\"/>\r\n      </g>\r\n     </g>\r\n    </g>\r\n    <g id=\"ytick_2\">\r\n     <g id=\"line2d_11\">\r\n      <g>\r\n       <use style=\"stroke:#000000;stroke-width:0.8;\" x=\"33.2875\" xlink:href=\"#mc1ab44e0e6\" y=\"169.625604\"/>\r\n      </g>\r\n     </g>\r\n     <g id=\"text_11\">\r\n      <!-- 50 -->\r\n      <g transform=\"translate(13.5625 173.424823)scale(0.1 -0.1)\">\r\n       <use xlink:href=\"#DejaVuSans-53\"/>\r\n       <use x=\"63.623047\" xlink:href=\"#DejaVuSans-48\"/>\r\n      </g>\r\n     </g>\r\n    </g>\r\n    <g id=\"ytick_3\">\r\n     <g id=\"line2d_12\">\r\n      <g>\r\n       <use style=\"stroke:#000000;stroke-width:0.8;\" x=\"33.2875\" xlink:href=\"#mc1ab44e0e6\" y=\"124.494844\"/>\r\n      </g>\r\n     </g>\r\n     <g id=\"text_12\">\r\n      <!-- 100 -->\r\n      <g transform=\"translate(7.2 128.294063)scale(0.1 -0.1)\">\r\n       <use xlink:href=\"#DejaVuSans-49\"/>\r\n       <use x=\"63.623047\" xlink:href=\"#DejaVuSans-48\"/>\r\n       <use x=\"127.246094\" xlink:href=\"#DejaVuSans-48\"/>\r\n      </g>\r\n     </g>\r\n    </g>\r\n    <g id=\"ytick_4\">\r\n     <g id=\"line2d_13\">\r\n      <g>\r\n       <use style=\"stroke:#000000;stroke-width:0.8;\" x=\"33.2875\" xlink:href=\"#mc1ab44e0e6\" y=\"79.364085\"/>\r\n      </g>\r\n     </g>\r\n     <g id=\"text_13\">\r\n      <!-- 150 -->\r\n      <g transform=\"translate(7.2 83.163303)scale(0.1 -0.1)\">\r\n       <use xlink:href=\"#DejaVuSans-49\"/>\r\n       <use x=\"63.623047\" xlink:href=\"#DejaVuSans-53\"/>\r\n       <use x=\"127.246094\" xlink:href=\"#DejaVuSans-48\"/>\r\n      </g>\r\n     </g>\r\n    </g>\r\n    <g id=\"ytick_5\">\r\n     <g id=\"line2d_14\">\r\n      <g>\r\n       <use style=\"stroke:#000000;stroke-width:0.8;\" x=\"33.2875\" xlink:href=\"#mc1ab44e0e6\" y=\"34.233325\"/>\r\n      </g>\r\n     </g>\r\n     <g id=\"text_14\">\r\n      <!-- 200 -->\r\n      <g transform=\"translate(7.2 38.032544)scale(0.1 -0.1)\">\r\n       <use xlink:href=\"#DejaVuSans-50\"/>\r\n       <use x=\"63.623047\" xlink:href=\"#DejaVuSans-48\"/>\r\n       <use x=\"127.246094\" xlink:href=\"#DejaVuSans-48\"/>\r\n      </g>\r\n     </g>\r\n    </g>\r\n   </g>\r\n   <g id=\"line2d_15\">\r\n    <path clip-path=\"url(#pb34af16a69)\" d=\"M 48.505682 214.756364 \r\nL 63.723864 214.756364 \r\nL 78.942045 214.756364 \r\nL 94.160227 214.756364 \r\nL 109.378409 208.438057 \r\nL 124.596591 205.730212 \r\nL 139.814773 193.996214 \r\nL 155.032955 181.359601 \r\nL 170.251136 104.63731 \r\nL 185.469318 44.162092 \r\nL 215.905682 17.083636 \r\nL 231.123864 115.468692 \r\nL 246.342045 174.13868 \r\nL 261.560227 206.632827 \r\nL 276.778409 201.217136 \r\nL 291.996591 199.411905 \r\nL 307.214773 213.853748 \r\nL 322.432955 214.756364 \r\nL 337.651136 214.756364 \r\nL 352.869318 214.756364 \r\n\" style=\"fill:none;stroke:#1f77b4;stroke-linecap:square;stroke-width:1.5;\"/>\r\n   </g>\r\n   <g id=\"patch_3\">\r\n    <path d=\"M 33.2875 224.64 \r\nL 33.2875 7.2 \r\n\" style=\"fill:none;stroke:#000000;stroke-linecap:square;stroke-linejoin:miter;stroke-width:0.8;\"/>\r\n   </g>\r\n   <g id=\"patch_4\">\r\n    <path d=\"M 368.0875 224.64 \r\nL 368.0875 7.2 \r\n\" style=\"fill:none;stroke:#000000;stroke-linecap:square;stroke-linejoin:miter;stroke-width:0.8;\"/>\r\n   </g>\r\n   <g id=\"patch_5\">\r\n    <path d=\"M 33.2875 224.64 \r\nL 368.0875 224.64 \r\n\" style=\"fill:none;stroke:#000000;stroke-linecap:square;stroke-linejoin:miter;stroke-width:0.8;\"/>\r\n   </g>\r\n   <g id=\"patch_6\">\r\n    <path d=\"M 33.2875 7.2 \r\nL 368.0875 7.2 \r\n\" style=\"fill:none;stroke:#000000;stroke-linecap:square;stroke-linejoin:miter;stroke-width:0.8;\"/>\r\n   </g>\r\n  </g>\r\n </g>\r\n <defs>\r\n  <clipPath id=\"pb34af16a69\">\r\n   <rect height=\"217.44\" width=\"334.8\" x=\"33.2875\" y=\"7.2\"/>\r\n  </clipPath>\r\n </defs>\r\n</svg>\r\n",
      "image/png": "[encoded data removed]"
     },
     "metadata": {
      "needs_background": "light"
     }
    }
   ],
   "source": [
    "plt.plot(a.value_counts(sort=False).index, a.value_counts(sort=False).values)"
   ]
  },
  {
   "cell_type": "code",
   "execution_count": 86,
   "metadata": {},
   "outputs": [
    {
     "output_type": "execute_result",
     "data": {
      "text/plain": [
       "[]"
      ]
     },
     "metadata": {},
     "execution_count": 86
    }
   ],
   "source": []
  },
  {
   "cell_type": "code",
   "execution_count": null,
   "metadata": {},
   "outputs": [],
   "source": []
  }
 ]
}