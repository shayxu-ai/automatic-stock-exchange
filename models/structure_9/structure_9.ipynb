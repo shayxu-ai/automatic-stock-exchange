{
 "cells": [
  {
   "cell_type": "code",
   "execution_count": 2,
   "source": [
    "import baostock as bs\r\n",
    "import pandas as pd\r\n",
    "\r\n",
    "import datetime\r\n",
    "from tqdm import tqdm"
   ],
   "outputs": [],
   "metadata": {}
  },
  {
   "cell_type": "code",
   "execution_count": 6,
   "source": [
    "# 参数设置\r\n",
    "history_days = 15     # 历史股票天数\r\n",
    "set_date = \"\"         # 设置日期"
   ],
   "outputs": [],
   "metadata": {}
  },
  {
   "cell_type": "code",
   "execution_count": 8,
   "source": [
    "# 计算日期\r\n",
    "if not set_date:\r\n",
    "    now = datetime.datetime.now()\r\n",
    "    if now.hour <= 17 and now.minute <= 30:\r\n",
    "        now -= datetime.timedelta(days=1)\r\n",
    "else:\r\n",
    "    now = datetime.datetime.strptime(set_date, '%Y-%m-%d')\r\n",
    "end_date = now.strftime('%Y-%m-%d')\r\n",
    "start_date = (now - datetime.timedelta(days=history_days)).strftime('%Y-%m-%d')\r\n",
    "print(start_date, end_date)"
   ],
   "outputs": [
    {
     "output_type": "stream",
     "name": "stdout",
     "text": [
      "2021-08-10 2021-08-25\n"
     ]
    }
   ],
   "metadata": {}
  },
  {
   "cell_type": "code",
   "execution_count": 9,
   "source": [
    "bs.login()\r\n",
    "\r\n",
    "# 查询\r\n",
    "stock_rs = bs.query_all_stock(end_date)     # 指定日期的全部股票和指数\r\n",
    "stock_df  = stock_rs.get_data()\r\n",
    "stock_df  =  stock_df [stock_df ['tradeStatus'] == '1'].reset_index(drop =  True)   # 去除停牌股票\r\n",
    "\r\n",
    "data_df = pd.DataFrame()\r\n",
    "structure_9 = []\r\n",
    "for row in tqdm(stock_df.itertuples()):\r\n",
    "    code = row[1]\r\n",
    "    code_name = row[3]\r\n",
    "    k_rs = bs.query_history_k_data_plus(code, \"date,close\", start_date, end_date)\r\n",
    "    data_df = k_rs.get_data()\r\n",
    "    data_types_dict = {'close': float}\r\n",
    "    data_df = data_df.astype(data_types_dict)\r\n",
    "\r\n",
    "    data_df.rolling(9)\r\n",
    "    # print(code, data_df.iloc[-2][0] - data_df.iloc[-3][1], data_df.iloc[-2][0] - data_df.iloc[-1][1])\r\n",
    "    if len(data_df) >= 3 and data_df.iloc[-2][0] < data_df.iloc[-3][1] and data_df.iloc[-2][0] < data_df.iloc[-1][1]:\r\n",
    "        date = data_df.iloc[-1][2]\r\n",
    "        close = data_df.iloc[-1][3]\r\n",
    "        structure_9.append([code, code_name, date, close])\r\n",
    "        \r\n",
    "bs.logout()\r\n",
    "result = pd.DataFrame(structure_9, columns=['code', 'code_name', 'date', 'close'])\r\n",
    "# result = result.reset_index(drop=True)\r\n",
    "result.to_csv(\"结构9买入.csv\", index=False)"
   ],
   "outputs": [
    {
     "output_type": "stream",
     "name": "stdout",
     "text": [
      "login success!\n",
      "logout success!\n"
     ]
    },
    {
     "output_type": "execute_result",
     "data": {
      "text/plain": [
       "<baostock.data.resultset.ResultData at 0x162fe642fc8>"
      ]
     },
     "metadata": {},
     "execution_count": 9
    }
   ],
   "metadata": {}
  }
 ],
 "metadata": {
  "orig_nbformat": 4,
  "language_info": {
   "name": "python",
   "version": "3.7.8",
   "mimetype": "text/x-python",
   "codemirror_mode": {
    "name": "ipython",
    "version": 3
   },
   "pygments_lexer": "ipython3",
   "nbconvert_exporter": "python",
   "file_extension": ".py"
  },
  "kernelspec": {
   "name": "python3",
   "display_name": "Python 3.7.8 64-bit"
  },
  "interpreter": {
   "hash": "87e4668eb327ab3c4ab758a072c7ead37fffe33bf1bf61467c1b402e157a0e55"
  }
 },
 "nbformat": 4,
 "nbformat_minor": 2
}