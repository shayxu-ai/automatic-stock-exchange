{
 "metadata": {
  "language_info": {
   "codemirror_mode": {
    "name": "ipython",
    "version": 3
   },
   "file_extension": ".py",
   "mimetype": "text/x-python",
   "name": "python",
   "nbconvert_exporter": "python",
   "pygments_lexer": "ipython3",
   "version": "3.7.8-final"
  },
  "orig_nbformat": 2,
  "kernelspec": {
   "name": "python3",
   "display_name": "Python 3.7.8 64-bit",
   "metadata": {
    "interpreter": {
     "hash": "87e4668eb327ab3c4ab758a072c7ead37fffe33bf1bf61467c1b402e157a0e55"
    }
   }
  }
 },
 "nbformat": 4,
 "nbformat_minor": 2,
 "cells": [
  {
   "cell_type": "code",
   "execution_count": 17,
   "metadata": {},
   "outputs": [],
   "source": [
    "import tensorflow as tf \n",
    "import numpy as np \n",
    "import matplotlib. pyplot as plt \n",
    "import pandas as pd\n",
    "from tensorflow.keras.models import Sequential\n",
    "from tensorflow.keras.layers import Dense,Flatten,Reshape,Dropout,Activation\n",
    "from tensorflow.keras.layers import Conv2D,MaxPooling2D\n",
    "from tensorflow.keras.layers import Conv1D,MaxPooling1D\n",
    "from tensorflow.keras.optimizers import SGD\n",
    "from sklearn.model_selection import train_test_split\n",
    "\n"
   ]
  },
  {
   "cell_type": "code",
   "execution_count": 18,
   "metadata": {},
   "outputs": [
    {
     "output_type": "stream",
     "name": "stdout",
     "text": [
      "Model: \"sequential_3\"\n_________________________________________________________________\nLayer (type)                 Output Shape              Param #   \n=================================================================\nconv1d_3 (Conv1D)            (None, 20, 50)            250       \n_________________________________________________________________\nmax_pooling1d_3 (MaxPooling1 (None, 10, 50)            0         \n_________________________________________________________________\nflatten_3 (Flatten)          (None, 500)               0         \n_________________________________________________________________\ndense_6 (Dense)              (None, 20)                10020     \n_________________________________________________________________\ndropout_3 (Dropout)          (None, 20)                0         \n_________________________________________________________________\nactivation_6 (Activation)    (None, 20)                0         \n_________________________________________________________________\ndense_7 (Dense)              (None, 1)                 21        \n_________________________________________________________________\nactivation_7 (Activation)    (None, 1)                 0         \n=================================================================\nTotal params: 10,291\nTrainable params: 10,291\nNon-trainable params: 0\n_________________________________________________________________\n"
     ]
    }
   ],
   "source": [
    "# https://blog.csdn.net/weixin_43873671/article/details/113554721\n",
    "df = pd.read_csv('AAPL.csv')  #读取APPLE 公司股票文件\n",
    "\n",
    "#df.head()  #显示前五行的股票数据\n",
    "x0 =df['Adj Close'].values  #取出所需的Adj Close列,此时已经转化为了arrdy数组\n",
    "#len(x0)#查看x0的行数\n",
    "\n",
    "#数据预处理,将所有的x0数据都转化为0-1之间的数字，并查看前十个数字\n",
    "m=max(x0)\n",
    "x0=x0/m\n",
    "x0[:10]\n",
    "\n",
    "n=len(x0)#此时的n是x0的个数，p是每20天即预测一次开盘的频率\n",
    "p=20\n",
    "\n",
    "x=np.array([x0[k:k+p]for k in range(n-p+1)])#将每个K以后20天的值都对应好\n",
    "x.shape\n",
    "\n",
    "y=np.array(x0[p:])#y是20天预测的数据\n",
    "y.shape\n",
    "\n",
    "X=x[:-1]#X是实际可以预测到的数量，比给的数量应当少一笔\n",
    "X=X[:,:,np.newaxis]#给X赋值，np.newaxis的功能:插入新维度\n",
    "X.shape\n",
    "\n",
    "x_train, x_test, y_train, y_test=train_test_split(X,y,test_size=0.2,shuffle=False)  #拆分数据集，将test集为0.2，参数不同\n",
    "x_train.shape\n",
    "\n",
    "model=Sequential()#选择贯序模型\n",
    "\n",
    "\n",
    "#添加一维卷积层，卷积核数量为50个4维的，补0策略为same,保留卷积后的边界，激活函数为relu,输入的尺寸形状为（20，1）\n",
    "model.add(Conv1D(50,4,padding='same',activation='relu',input_shape=(p,1)))\n",
    "\n",
    "model.add(MaxPooling1D(2))#添加一维池化层，选择最大池化，（池化层大小是2，每两个数字留一个）\n",
    "\n",
    "model.add(Flatten()) #添加Flatten层，Flatten层用来将输入“压平”，即把多维的输入一维化，常用在从卷积层到全连接层的过渡。\n",
    "\n",
    "model.add(Dense(20))#20个神经元的全连接层\n",
    "model.add(Dropout(0.2))#dropout是CNN中防止过拟合提高效果的一个大杀器，隐含节点dropout率设置为0.2\n",
    "model.add(Activation('relu'))\n",
    "\n",
    "model.add(Dense(1))#输出层\n",
    "model.add(Activation('relu'))\n",
    "\n",
    "model.compile(loss='mse',optimizer=SGD(lr=0.2),metrics=['accuracy'])#编译模型，损失函数、优化器、学习率、评价函数\n",
    "model.summary()#查看神经网络模型结构\n",
    "\n",
    "\n"
   ]
  },
  {
   "cell_type": "code",
   "execution_count": 19,
   "metadata": {},
   "outputs": [
    {
     "output_type": "stream",
     "name": "stdout",
     "text": [
      "Epoch 1/50\n",
      "6/6 [==============================] - 0s 1ms/step - loss: 0.3379 - accuracy: 0.0000e+00\n",
      "Epoch 2/50\n",
      "6/6 [==============================] - 0s 1ms/step - loss: 0.5319 - accuracy: 0.0000e+00\n",
      "Epoch 3/50\n",
      "6/6 [==============================] - 0s 1ms/step - loss: 0.5184 - accuracy: 0.0000e+00\n",
      "Epoch 4/50\n",
      "6/6 [==============================] - 0s 1ms/step - loss: 0.5208 - accuracy: 0.0000e+00\n",
      "Epoch 5/50\n",
      "6/6 [==============================] - 0s 1ms/step - loss: 0.5396 - accuracy: 0.0000e+00\n",
      "Epoch 6/50\n",
      "6/6 [==============================] - 0s 1ms/step - loss: 0.5241 - accuracy: 0.0000e+00\n",
      "Epoch 7/50\n",
      "6/6 [==============================] - 0s 1ms/step - loss: 0.5216 - accuracy: 0.0000e+00\n",
      "Epoch 8/50\n",
      "6/6 [==============================] - 0s 1ms/step - loss: 0.5276 - accuracy: 0.0000e+00\n",
      "Epoch 9/50\n",
      "6/6 [==============================] - 0s 1ms/step - loss: 0.5114 - accuracy: 0.0000e+00\n",
      "Epoch 10/50\n",
      "6/6 [==============================] - 0s 942us/step - loss: 0.5336 - accuracy: 0.0000e+00\n",
      "Epoch 11/50\n",
      "6/6 [==============================] - 0s 1ms/step - loss: 0.5187 - accuracy: 0.0000e+00\n",
      "Epoch 12/50\n",
      "6/6 [==============================] - 0s 1ms/step - loss: 0.5460 - accuracy: 0.0000e+00\n",
      "Epoch 13/50\n",
      "6/6 [==============================] - 0s 1ms/step - loss: 0.5355 - accuracy: 0.0000e+00\n",
      "Epoch 14/50\n",
      "6/6 [==============================] - 0s 1ms/step - loss: 0.5136 - accuracy: 0.0000e+00\n",
      "Epoch 15/50\n",
      "6/6 [==============================] - 0s 1ms/step - loss: 0.5357 - accuracy: 0.0000e+00\n",
      "Epoch 16/50\n",
      "6/6 [==============================] - 0s 1ms/step - loss: 0.5382 - accuracy: 0.0000e+00\n",
      "Epoch 17/50\n",
      "6/6 [==============================] - 0s 1ms/step - loss: 0.5470 - accuracy: 0.0000e+00\n",
      "Epoch 18/50\n",
      "6/6 [==============================] - 0s 1ms/step - loss: 0.5326 - accuracy: 0.0000e+00\n",
      "Epoch 19/50\n",
      "6/6 [==============================] - 0s 1ms/step - loss: 0.5246 - accuracy: 0.0000e+00\n",
      "Epoch 20/50\n",
      "6/6 [==============================] - 0s 1ms/step - loss: 0.5548 - accuracy: 0.0000e+00\n",
      "Epoch 21/50\n",
      "6/6 [==============================] - 0s 1ms/step - loss: 0.5160 - accuracy: 0.0000e+00\n",
      "Epoch 22/50\n",
      "6/6 [==============================] - 0s 1ms/step - loss: 0.5295 - accuracy: 0.0000e+00\n",
      "Epoch 23/50\n",
      "6/6 [==============================] - 0s 1ms/step - loss: 0.5181 - accuracy: 0.0000e+00\n",
      "Epoch 24/50\n",
      "6/6 [==============================] - 0s 1ms/step - loss: 0.5434 - accuracy: 0.0000e+00\n",
      "Epoch 25/50\n",
      "6/6 [==============================] - 0s 1ms/step - loss: 0.5319 - accuracy: 0.0000e+00\n",
      "Epoch 26/50\n",
      "6/6 [==============================] - 0s 1ms/step - loss: 0.5363 - accuracy: 0.0000e+00\n",
      "Epoch 27/50\n",
      "6/6 [==============================] - 0s 1ms/step - loss: 0.5304 - accuracy: 0.0000e+00\n",
      "Epoch 28/50\n",
      "6/6 [==============================] - 0s 1ms/step - loss: 0.5477 - accuracy: 0.0000e+00\n",
      "Epoch 29/50\n",
      "6/6 [==============================] - 0s 1ms/step - loss: 0.5493 - accuracy: 0.0000e+00\n",
      "Epoch 30/50\n",
      "6/6 [==============================] - 0s 1ms/step - loss: 0.5262 - accuracy: 0.0000e+00\n",
      "Epoch 31/50\n",
      "6/6 [==============================] - 0s 1ms/step - loss: 0.5294 - accuracy: 0.0000e+00\n",
      "Epoch 32/50\n",
      "6/6 [==============================] - 0s 1ms/step - loss: 0.5363 - accuracy: 0.0000e+00\n",
      "Epoch 33/50\n",
      "6/6 [==============================] - 0s 1ms/step - loss: 0.5427 - accuracy: 0.0000e+00\n",
      "Epoch 34/50\n",
      "6/6 [==============================] - 0s 1ms/step - loss: 0.5333 - accuracy: 0.0000e+00\n",
      "Epoch 35/50\n",
      "6/6 [==============================] - 0s 1ms/step - loss: 0.5249 - accuracy: 0.0000e+00\n",
      "Epoch 36/50\n",
      "6/6 [==============================] - 0s 1ms/step - loss: 0.5204 - accuracy: 0.0000e+00\n",
      "Epoch 37/50\n",
      "6/6 [==============================] - 0s 1ms/step - loss: 0.5249 - accuracy: 0.0000e+00\n",
      "Epoch 38/50\n",
      "6/6 [==============================] - 0s 1ms/step - loss: 0.5340 - accuracy: 0.0000e+00\n",
      "Epoch 39/50\n",
      "6/6 [==============================] - 0s 1ms/step - loss: 0.5377 - accuracy: 0.0000e+00\n",
      "Epoch 40/50\n",
      "6/6 [==============================] - 0s 1ms/step - loss: 0.5225 - accuracy: 0.0000e+00\n",
      "Epoch 41/50\n",
      "6/6 [==============================] - 0s 1ms/step - loss: 0.5496 - accuracy: 0.0000e+00\n",
      "Epoch 42/50\n",
      "6/6 [==============================] - 0s 1ms/step - loss: 0.5467 - accuracy: 0.0000e+00\n",
      "Epoch 43/50\n",
      "6/6 [==============================] - 0s 1ms/step - loss: 0.5281 - accuracy: 0.0000e+00\n",
      "Epoch 44/50\n",
      "6/6 [==============================] - 0s 1ms/step - loss: 0.5256 - accuracy: 0.0000e+00\n",
      "Epoch 45/50\n",
      "6/6 [==============================] - 0s 1ms/step - loss: 0.5092 - accuracy: 0.0000e+00\n",
      "Epoch 46/50\n",
      "6/6 [==============================] - 0s 2ms/step - loss: 0.5362 - accuracy: 0.0000e+00\n",
      "Epoch 47/50\n",
      "6/6 [==============================] - 0s 1ms/step - loss: 0.5388 - accuracy: 0.0000e+00\n",
      "Epoch 48/50\n",
      "6/6 [==============================] - 0s 1ms/step - loss: 0.5261 - accuracy: 0.0000e+00\n",
      "Epoch 49/50\n",
      "6/6 [==============================] - 0s 1ms/step - loss: 0.5413 - accuracy: 0.0000e+00\n",
      "Epoch 50/50\n",
      "6/6 [==============================] - 0s 1ms/step - loss: 0.5260 - accuracy: 0.0000e+00\n"
     ]
    },
    {
     "output_type": "execute_result",
     "data": {
      "text/plain": [
       "<tensorflow.python.keras.callbacks.History at 0x16209b374c8>"
      ]
     },
     "metadata": {},
     "execution_count": 19
    }
   ],
   "source": [
    "#训练模型+++++++++++++++++++++++++++++++++++++++++++++++++++++++++++++++++++++++++\n",
    "model.fit(x_train,y_train,epochs=50,batch_size=32)#训练50回合，每次30个样本"
   ]
  },
  {
   "cell_type": "code",
   "execution_count": 20,
   "metadata": {},
   "outputs": [
    {
     "output_type": "execute_result",
     "data": {
      "text/plain": [
       "[<matplotlib.lines.Line2D at 0x16209af9bc8>]"
      ]
     },
     "metadata": {},
     "execution_count": 20
    },
    {
     "output_type": "display_data",
     "data": {
      "text/plain": "<Figure size 432x288 with 1 Axes>",
      "image/svg+xml": "<?xml version=\"1.0\" encoding=\"utf-8\" standalone=\"no\"?>\r\n<!DOCTYPE svg PUBLIC \"-//W3C//DTD SVG 1.1//EN\"\r\n  \"http://www.w3.org/Graphics/SVG/1.1/DTD/svg11.dtd\">\r\n<!-- Created with matplotlib (https://matplotlib.org/) -->\r\n<svg height=\"248.518125pt\" version=\"1.1\" viewBox=\"0 0 372.103125 248.518125\" width=\"372.103125pt\" xmlns=\"http://www.w3.org/2000/svg\" xmlns:xlink=\"http://www.w3.org/1999/xlink\">\r\n <metadata>\r\n  <rdf:RDF xmlns:cc=\"http://creativecommons.org/ns#\" xmlns:dc=\"http://purl.org/dc/elements/1.1/\" xmlns:rdf=\"http://www.w3.org/1999/02/22-rdf-syntax-ns#\">\r\n   <cc:Work>\r\n    <dc:type rdf:resource=\"http://purl.org/dc/dcmitype/StillImage\"/>\r\n    <dc:date>2021-03-10T00:21:30.457041</dc:date>\r\n    <dc:format>image/svg+xml</dc:format>\r\n    <dc:creator>\r\n     <cc:Agent>\r\n      <dc:title>Matplotlib v3.3.3, https://matplotlib.org/</dc:title>\r\n     </cc:Agent>\r\n    </dc:creator>\r\n   </cc:Work>\r\n  </rdf:RDF>\r\n </metadata>\r\n <defs>\r\n  <style type=\"text/css\">*{stroke-linecap:butt;stroke-linejoin:round;}</style>\r\n </defs>\r\n <g id=\"figure_1\">\r\n  <g id=\"patch_1\">\r\n   <path d=\"M 0 248.518125 \r\nL 372.103125 248.518125 \r\nL 372.103125 0 \r\nL 0 0 \r\nz\r\n\" style=\"fill:none;\"/>\r\n  </g>\r\n  <g id=\"axes_1\">\r\n   <g id=\"patch_2\">\r\n    <path d=\"M 30.103125 224.64 \r\nL 364.903125 224.64 \r\nL 364.903125 7.2 \r\nL 30.103125 7.2 \r\nz\r\n\" style=\"fill:#ffffff;\"/>\r\n   </g>\r\n   <g id=\"matplotlib.axis_1\">\r\n    <g id=\"xtick_1\">\r\n     <g id=\"line2d_1\">\r\n      <defs>\r\n       <path d=\"M 0 0 \r\nL 0 3.5 \r\n\" id=\"me31a463bf2\" style=\"stroke:#000000;stroke-width:0.8;\"/>\r\n      </defs>\r\n      <g>\r\n       <use style=\"stroke:#000000;stroke-width:0.8;\" x=\"45.321307\" xlink:href=\"#me31a463bf2\" y=\"224.64\"/>\r\n      </g>\r\n     </g>\r\n     <g id=\"text_1\">\r\n      <!-- 0 -->\r\n      <g transform=\"translate(42.140057 239.238437)scale(0.1 -0.1)\">\r\n       <defs>\r\n        <path d=\"M 31.78125 66.40625 \r\nQ 24.171875 66.40625 20.328125 58.90625 \r\nQ 16.5 51.421875 16.5 36.375 \r\nQ 16.5 21.390625 20.328125 13.890625 \r\nQ 24.171875 6.390625 31.78125 6.390625 \r\nQ 39.453125 6.390625 43.28125 13.890625 \r\nQ 47.125 21.390625 47.125 36.375 \r\nQ 47.125 51.421875 43.28125 58.90625 \r\nQ 39.453125 66.40625 31.78125 66.40625 \r\nz\r\nM 31.78125 74.21875 \r\nQ 44.046875 74.21875 50.515625 64.515625 \r\nQ 56.984375 54.828125 56.984375 36.375 \r\nQ 56.984375 17.96875 50.515625 8.265625 \r\nQ 44.046875 -1.421875 31.78125 -1.421875 \r\nQ 19.53125 -1.421875 13.0625 8.265625 \r\nQ 6.59375 17.96875 6.59375 36.375 \r\nQ 6.59375 54.828125 13.0625 64.515625 \r\nQ 19.53125 74.21875 31.78125 74.21875 \r\nz\r\n\" id=\"DejaVuSans-48\"/>\r\n       </defs>\r\n       <use xlink:href=\"#DejaVuSans-48\"/>\r\n      </g>\r\n     </g>\r\n    </g>\r\n    <g id=\"xtick_2\">\r\n     <g id=\"line2d_2\">\r\n      <g>\r\n       <use style=\"stroke:#000000;stroke-width:0.8;\" x=\"111.487315\" xlink:href=\"#me31a463bf2\" y=\"224.64\"/>\r\n      </g>\r\n     </g>\r\n     <g id=\"text_2\">\r\n      <!-- 10 -->\r\n      <g transform=\"translate(105.124815 239.238437)scale(0.1 -0.1)\">\r\n       <defs>\r\n        <path d=\"M 12.40625 8.296875 \r\nL 28.515625 8.296875 \r\nL 28.515625 63.921875 \r\nL 10.984375 60.40625 \r\nL 10.984375 69.390625 \r\nL 28.421875 72.90625 \r\nL 38.28125 72.90625 \r\nL 38.28125 8.296875 \r\nL 54.390625 8.296875 \r\nL 54.390625 0 \r\nL 12.40625 0 \r\nz\r\n\" id=\"DejaVuSans-49\"/>\r\n       </defs>\r\n       <use xlink:href=\"#DejaVuSans-49\"/>\r\n       <use x=\"63.623047\" xlink:href=\"#DejaVuSans-48\"/>\r\n      </g>\r\n     </g>\r\n    </g>\r\n    <g id=\"xtick_3\">\r\n     <g id=\"line2d_3\">\r\n      <g>\r\n       <use style=\"stroke:#000000;stroke-width:0.8;\" x=\"177.653323\" xlink:href=\"#me31a463bf2\" y=\"224.64\"/>\r\n      </g>\r\n     </g>\r\n     <g id=\"text_3\">\r\n      <!-- 20 -->\r\n      <g transform=\"translate(171.290823 239.238437)scale(0.1 -0.1)\">\r\n       <defs>\r\n        <path d=\"M 19.1875 8.296875 \r\nL 53.609375 8.296875 \r\nL 53.609375 0 \r\nL 7.328125 0 \r\nL 7.328125 8.296875 \r\nQ 12.9375 14.109375 22.625 23.890625 \r\nQ 32.328125 33.6875 34.8125 36.53125 \r\nQ 39.546875 41.84375 41.421875 45.53125 \r\nQ 43.3125 49.21875 43.3125 52.78125 \r\nQ 43.3125 58.59375 39.234375 62.25 \r\nQ 35.15625 65.921875 28.609375 65.921875 \r\nQ 23.96875 65.921875 18.8125 64.3125 \r\nQ 13.671875 62.703125 7.8125 59.421875 \r\nL 7.8125 69.390625 \r\nQ 13.765625 71.78125 18.9375 73 \r\nQ 24.125 74.21875 28.421875 74.21875 \r\nQ 39.75 74.21875 46.484375 68.546875 \r\nQ 53.21875 62.890625 53.21875 53.421875 \r\nQ 53.21875 48.921875 51.53125 44.890625 \r\nQ 49.859375 40.875 45.40625 35.40625 \r\nQ 44.1875 33.984375 37.640625 27.21875 \r\nQ 31.109375 20.453125 19.1875 8.296875 \r\nz\r\n\" id=\"DejaVuSans-50\"/>\r\n       </defs>\r\n       <use xlink:href=\"#DejaVuSans-50\"/>\r\n       <use x=\"63.623047\" xlink:href=\"#DejaVuSans-48\"/>\r\n      </g>\r\n     </g>\r\n    </g>\r\n    <g id=\"xtick_4\">\r\n     <g id=\"line2d_4\">\r\n      <g>\r\n       <use style=\"stroke:#000000;stroke-width:0.8;\" x=\"243.819331\" xlink:href=\"#me31a463bf2\" y=\"224.64\"/>\r\n      </g>\r\n     </g>\r\n     <g id=\"text_4\">\r\n      <!-- 30 -->\r\n      <g transform=\"translate(237.456831 239.238437)scale(0.1 -0.1)\">\r\n       <defs>\r\n        <path d=\"M 40.578125 39.3125 \r\nQ 47.65625 37.796875 51.625 33 \r\nQ 55.609375 28.21875 55.609375 21.1875 \r\nQ 55.609375 10.40625 48.1875 4.484375 \r\nQ 40.765625 -1.421875 27.09375 -1.421875 \r\nQ 22.515625 -1.421875 17.65625 -0.515625 \r\nQ 12.796875 0.390625 7.625 2.203125 \r\nL 7.625 11.71875 \r\nQ 11.71875 9.328125 16.59375 8.109375 \r\nQ 21.484375 6.890625 26.8125 6.890625 \r\nQ 36.078125 6.890625 40.9375 10.546875 \r\nQ 45.796875 14.203125 45.796875 21.1875 \r\nQ 45.796875 27.640625 41.28125 31.265625 \r\nQ 36.765625 34.90625 28.71875 34.90625 \r\nL 20.21875 34.90625 \r\nL 20.21875 43.015625 \r\nL 29.109375 43.015625 \r\nQ 36.375 43.015625 40.234375 45.921875 \r\nQ 44.09375 48.828125 44.09375 54.296875 \r\nQ 44.09375 59.90625 40.109375 62.90625 \r\nQ 36.140625 65.921875 28.71875 65.921875 \r\nQ 24.65625 65.921875 20.015625 65.03125 \r\nQ 15.375 64.15625 9.8125 62.3125 \r\nL 9.8125 71.09375 \r\nQ 15.4375 72.65625 20.34375 73.4375 \r\nQ 25.25 74.21875 29.59375 74.21875 \r\nQ 40.828125 74.21875 47.359375 69.109375 \r\nQ 53.90625 64.015625 53.90625 55.328125 \r\nQ 53.90625 49.265625 50.4375 45.09375 \r\nQ 46.96875 40.921875 40.578125 39.3125 \r\nz\r\n\" id=\"DejaVuSans-51\"/>\r\n       </defs>\r\n       <use xlink:href=\"#DejaVuSans-51\"/>\r\n       <use x=\"63.623047\" xlink:href=\"#DejaVuSans-48\"/>\r\n      </g>\r\n     </g>\r\n    </g>\r\n    <g id=\"xtick_5\">\r\n     <g id=\"line2d_5\">\r\n      <g>\r\n       <use style=\"stroke:#000000;stroke-width:0.8;\" x=\"309.985338\" xlink:href=\"#me31a463bf2\" y=\"224.64\"/>\r\n      </g>\r\n     </g>\r\n     <g id=\"text_5\">\r\n      <!-- 40 -->\r\n      <g transform=\"translate(303.622838 239.238437)scale(0.1 -0.1)\">\r\n       <defs>\r\n        <path d=\"M 37.796875 64.3125 \r\nL 12.890625 25.390625 \r\nL 37.796875 25.390625 \r\nz\r\nM 35.203125 72.90625 \r\nL 47.609375 72.90625 \r\nL 47.609375 25.390625 \r\nL 58.015625 25.390625 \r\nL 58.015625 17.1875 \r\nL 47.609375 17.1875 \r\nL 47.609375 0 \r\nL 37.796875 0 \r\nL 37.796875 17.1875 \r\nL 4.890625 17.1875 \r\nL 4.890625 26.703125 \r\nz\r\n\" id=\"DejaVuSans-52\"/>\r\n       </defs>\r\n       <use xlink:href=\"#DejaVuSans-52\"/>\r\n       <use x=\"63.623047\" xlink:href=\"#DejaVuSans-48\"/>\r\n      </g>\r\n     </g>\r\n    </g>\r\n   </g>\r\n   <g id=\"matplotlib.axis_2\">\r\n    <g id=\"ytick_1\">\r\n     <g id=\"line2d_6\">\r\n      <defs>\r\n       <path d=\"M 0 0 \r\nL -3.5 0 \r\n\" id=\"me93fe8355a\" style=\"stroke:#000000;stroke-width:0.8;\"/>\r\n      </defs>\r\n      <g>\r\n       <use style=\"stroke:#000000;stroke-width:0.8;\" x=\"30.103125\" xlink:href=\"#me93fe8355a\" y=\"214.756364\"/>\r\n      </g>\r\n     </g>\r\n     <g id=\"text_6\">\r\n      <!-- 0.0 -->\r\n      <g transform=\"translate(7.2 218.555582)scale(0.1 -0.1)\">\r\n       <defs>\r\n        <path d=\"M 10.6875 12.40625 \r\nL 21 12.40625 \r\nL 21 0 \r\nL 10.6875 0 \r\nz\r\n\" id=\"DejaVuSans-46\"/>\r\n       </defs>\r\n       <use xlink:href=\"#DejaVuSans-48\"/>\r\n       <use x=\"63.623047\" xlink:href=\"#DejaVuSans-46\"/>\r\n       <use x=\"95.410156\" xlink:href=\"#DejaVuSans-48\"/>\r\n      </g>\r\n     </g>\r\n    </g>\r\n    <g id=\"ytick_2\">\r\n     <g id=\"line2d_7\">\r\n      <g>\r\n       <use style=\"stroke:#000000;stroke-width:0.8;\" x=\"30.103125\" xlink:href=\"#me93fe8355a\" y=\"175.221818\"/>\r\n      </g>\r\n     </g>\r\n     <g id=\"text_7\">\r\n      <!-- 0.2 -->\r\n      <g transform=\"translate(7.2 179.021037)scale(0.1 -0.1)\">\r\n       <use xlink:href=\"#DejaVuSans-48\"/>\r\n       <use x=\"63.623047\" xlink:href=\"#DejaVuSans-46\"/>\r\n       <use x=\"95.410156\" xlink:href=\"#DejaVuSans-50\"/>\r\n      </g>\r\n     </g>\r\n    </g>\r\n    <g id=\"ytick_3\">\r\n     <g id=\"line2d_8\">\r\n      <g>\r\n       <use style=\"stroke:#000000;stroke-width:0.8;\" x=\"30.103125\" xlink:href=\"#me93fe8355a\" y=\"135.687273\"/>\r\n      </g>\r\n     </g>\r\n     <g id=\"text_8\">\r\n      <!-- 0.4 -->\r\n      <g transform=\"translate(7.2 139.486491)scale(0.1 -0.1)\">\r\n       <use xlink:href=\"#DejaVuSans-48\"/>\r\n       <use x=\"63.623047\" xlink:href=\"#DejaVuSans-46\"/>\r\n       <use x=\"95.410156\" xlink:href=\"#DejaVuSans-52\"/>\r\n      </g>\r\n     </g>\r\n    </g>\r\n    <g id=\"ytick_4\">\r\n     <g id=\"line2d_9\">\r\n      <g>\r\n       <use style=\"stroke:#000000;stroke-width:0.8;\" x=\"30.103125\" xlink:href=\"#me93fe8355a\" y=\"96.152727\"/>\r\n      </g>\r\n     </g>\r\n     <g id=\"text_9\">\r\n      <!-- 0.6 -->\r\n      <g transform=\"translate(7.2 99.951946)scale(0.1 -0.1)\">\r\n       <defs>\r\n        <path d=\"M 33.015625 40.375 \r\nQ 26.375 40.375 22.484375 35.828125 \r\nQ 18.609375 31.296875 18.609375 23.390625 \r\nQ 18.609375 15.53125 22.484375 10.953125 \r\nQ 26.375 6.390625 33.015625 6.390625 \r\nQ 39.65625 6.390625 43.53125 10.953125 \r\nQ 47.40625 15.53125 47.40625 23.390625 \r\nQ 47.40625 31.296875 43.53125 35.828125 \r\nQ 39.65625 40.375 33.015625 40.375 \r\nz\r\nM 52.59375 71.296875 \r\nL 52.59375 62.3125 \r\nQ 48.875 64.0625 45.09375 64.984375 \r\nQ 41.3125 65.921875 37.59375 65.921875 \r\nQ 27.828125 65.921875 22.671875 59.328125 \r\nQ 17.53125 52.734375 16.796875 39.40625 \r\nQ 19.671875 43.65625 24.015625 45.921875 \r\nQ 28.375 48.1875 33.59375 48.1875 \r\nQ 44.578125 48.1875 50.953125 41.515625 \r\nQ 57.328125 34.859375 57.328125 23.390625 \r\nQ 57.328125 12.15625 50.6875 5.359375 \r\nQ 44.046875 -1.421875 33.015625 -1.421875 \r\nQ 20.359375 -1.421875 13.671875 8.265625 \r\nQ 6.984375 17.96875 6.984375 36.375 \r\nQ 6.984375 53.65625 15.1875 63.9375 \r\nQ 23.390625 74.21875 37.203125 74.21875 \r\nQ 40.921875 74.21875 44.703125 73.484375 \r\nQ 48.484375 72.75 52.59375 71.296875 \r\nz\r\n\" id=\"DejaVuSans-54\"/>\r\n       </defs>\r\n       <use xlink:href=\"#DejaVuSans-48\"/>\r\n       <use x=\"63.623047\" xlink:href=\"#DejaVuSans-46\"/>\r\n       <use x=\"95.410156\" xlink:href=\"#DejaVuSans-54\"/>\r\n      </g>\r\n     </g>\r\n    </g>\r\n    <g id=\"ytick_5\">\r\n     <g id=\"line2d_10\">\r\n      <g>\r\n       <use style=\"stroke:#000000;stroke-width:0.8;\" x=\"30.103125\" xlink:href=\"#me93fe8355a\" y=\"56.618182\"/>\r\n      </g>\r\n     </g>\r\n     <g id=\"text_10\">\r\n      <!-- 0.8 -->\r\n      <g transform=\"translate(7.2 60.417401)scale(0.1 -0.1)\">\r\n       <defs>\r\n        <path d=\"M 31.78125 34.625 \r\nQ 24.75 34.625 20.71875 30.859375 \r\nQ 16.703125 27.09375 16.703125 20.515625 \r\nQ 16.703125 13.921875 20.71875 10.15625 \r\nQ 24.75 6.390625 31.78125 6.390625 \r\nQ 38.8125 6.390625 42.859375 10.171875 \r\nQ 46.921875 13.96875 46.921875 20.515625 \r\nQ 46.921875 27.09375 42.890625 30.859375 \r\nQ 38.875 34.625 31.78125 34.625 \r\nz\r\nM 21.921875 38.8125 \r\nQ 15.578125 40.375 12.03125 44.71875 \r\nQ 8.5 49.078125 8.5 55.328125 \r\nQ 8.5 64.0625 14.71875 69.140625 \r\nQ 20.953125 74.21875 31.78125 74.21875 \r\nQ 42.671875 74.21875 48.875 69.140625 \r\nQ 55.078125 64.0625 55.078125 55.328125 \r\nQ 55.078125 49.078125 51.53125 44.71875 \r\nQ 48 40.375 41.703125 38.8125 \r\nQ 48.828125 37.15625 52.796875 32.3125 \r\nQ 56.78125 27.484375 56.78125 20.515625 \r\nQ 56.78125 9.90625 50.3125 4.234375 \r\nQ 43.84375 -1.421875 31.78125 -1.421875 \r\nQ 19.734375 -1.421875 13.25 4.234375 \r\nQ 6.78125 9.90625 6.78125 20.515625 \r\nQ 6.78125 27.484375 10.78125 32.3125 \r\nQ 14.796875 37.15625 21.921875 38.8125 \r\nz\r\nM 18.3125 54.390625 \r\nQ 18.3125 48.734375 21.84375 45.5625 \r\nQ 25.390625 42.390625 31.78125 42.390625 \r\nQ 38.140625 42.390625 41.71875 45.5625 \r\nQ 45.3125 48.734375 45.3125 54.390625 \r\nQ 45.3125 60.0625 41.71875 63.234375 \r\nQ 38.140625 66.40625 31.78125 66.40625 \r\nQ 25.390625 66.40625 21.84375 63.234375 \r\nQ 18.3125 60.0625 18.3125 54.390625 \r\nz\r\n\" id=\"DejaVuSans-56\"/>\r\n       </defs>\r\n       <use xlink:href=\"#DejaVuSans-48\"/>\r\n       <use x=\"63.623047\" xlink:href=\"#DejaVuSans-46\"/>\r\n       <use x=\"95.410156\" xlink:href=\"#DejaVuSans-56\"/>\r\n      </g>\r\n     </g>\r\n    </g>\r\n    <g id=\"ytick_6\">\r\n     <g id=\"line2d_11\">\r\n      <g>\r\n       <use style=\"stroke:#000000;stroke-width:0.8;\" x=\"30.103125\" xlink:href=\"#me93fe8355a\" y=\"17.083636\"/>\r\n      </g>\r\n     </g>\r\n     <g id=\"text_11\">\r\n      <!-- 1.0 -->\r\n      <g transform=\"translate(7.2 20.882855)scale(0.1 -0.1)\">\r\n       <use xlink:href=\"#DejaVuSans-49\"/>\r\n       <use x=\"63.623047\" xlink:href=\"#DejaVuSans-46\"/>\r\n       <use x=\"95.410156\" xlink:href=\"#DejaVuSans-48\"/>\r\n      </g>\r\n     </g>\r\n    </g>\r\n   </g>\r\n   <g id=\"line2d_12\">\r\n    <path clip-path=\"url(#pf6ca3c97b2)\" d=\"M 45.321307 30.118223 \r\nL 51.937908 31.540419 \r\nL 58.554508 36.069377 \r\nL 65.171109 33.86015 \r\nL 71.78771 39.949387 \r\nL 78.404311 33.984411 \r\nL 85.020912 32.424132 \r\nL 91.637512 36.663125 \r\nL 98.254113 36.911668 \r\nL 104.870714 34.025832 \r\nL 111.487315 36.759765 \r\nL 118.103916 39.203768 \r\nL 124.720516 38.251025 \r\nL 131.337117 32.451752 \r\nL 137.953718 25.768768 \r\nL 144.570319 22.731028 \r\nL 151.186919 17.41502 \r\nL 157.80352 17.083636 \r\nL 164.420121 18.602495 \r\nL 171.036722 25.464983 \r\nL 177.653323 32.548393 \r\nL 184.269923 29.538295 \r\nL 190.886524 28.36462 \r\nL 197.503125 29.814438 \r\nL 204.119726 25.050758 \r\nL 210.736327 25.638471 \r\nL 217.352927 25.431032 \r\nL 223.969528 26.675605 \r\nL 230.586129 27.532963 \r\nL 237.20273 27.892495 \r\nL 243.819331 27.560626 \r\nL 250.435931 30.575218 \r\nL 257.052532 33.824913 \r\nL 263.669133 35.387512 \r\nL 270.285734 35.166274 \r\nL 276.902334 40.517878 \r\nL 283.518935 40.711474 \r\nL 290.135536 41.41673 \r\nL 296.752137 47.445934 \r\nL 303.368738 47.072561 \r\nL 309.985338 38.042583 \r\nL 316.601939 41.734777 \r\nL 323.21854 45.96629 \r\nL 329.835141 48.635183 \r\nL 336.451742 46.851311 \r\nL 343.068342 53.848503 \r\nL 349.684943 46.975761 \r\n\" style=\"fill:none;stroke:#1f77b4;stroke-linecap:square;stroke-width:1.5;\"/>\r\n   </g>\r\n   <g id=\"line2d_13\">\r\n    <path clip-path=\"url(#pf6ca3c97b2)\" d=\"M 45.321307 214.756364 \r\nL 51.937908 214.756364 \r\nL 58.554508 214.756364 \r\nL 65.171109 214.756364 \r\nL 71.78771 214.756364 \r\nL 78.404311 214.756364 \r\nL 85.020912 214.756364 \r\nL 91.637512 214.756364 \r\nL 98.254113 214.756364 \r\nL 104.870714 214.756364 \r\nL 111.487315 214.756364 \r\nL 118.103916 214.756364 \r\nL 124.720516 214.756364 \r\nL 131.337117 214.756364 \r\nL 137.953718 214.756364 \r\nL 144.570319 214.756364 \r\nL 151.186919 214.756364 \r\nL 157.80352 214.756364 \r\nL 164.420121 214.756364 \r\nL 171.036722 214.756364 \r\nL 177.653323 214.756364 \r\nL 184.269923 214.756364 \r\nL 190.886524 214.756364 \r\nL 197.503125 214.756364 \r\nL 204.119726 214.756364 \r\nL 210.736327 214.756364 \r\nL 217.352927 214.756364 \r\nL 223.969528 214.756364 \r\nL 230.586129 214.756364 \r\nL 237.20273 214.756364 \r\nL 243.819331 214.756364 \r\nL 250.435931 214.756364 \r\nL 257.052532 214.756364 \r\nL 263.669133 214.756364 \r\nL 270.285734 214.756364 \r\nL 276.902334 214.756364 \r\nL 283.518935 214.756364 \r\nL 290.135536 214.756364 \r\nL 296.752137 214.756364 \r\nL 303.368738 214.756364 \r\nL 309.985338 214.756364 \r\nL 316.601939 214.756364 \r\nL 323.21854 214.756364 \r\nL 329.835141 214.756364 \r\nL 336.451742 214.756364 \r\nL 343.068342 214.756364 \r\nL 349.684943 214.756364 \r\n\" style=\"fill:none;stroke:#ff0000;stroke-linecap:square;stroke-width:1.5;\"/>\r\n   </g>\r\n   <g id=\"patch_3\">\r\n    <path d=\"M 30.103125 224.64 \r\nL 30.103125 7.2 \r\n\" style=\"fill:none;stroke:#000000;stroke-linecap:square;stroke-linejoin:miter;stroke-width:0.8;\"/>\r\n   </g>\r\n   <g id=\"patch_4\">\r\n    <path d=\"M 364.903125 224.64 \r\nL 364.903125 7.2 \r\n\" style=\"fill:none;stroke:#000000;stroke-linecap:square;stroke-linejoin:miter;stroke-width:0.8;\"/>\r\n   </g>\r\n   <g id=\"patch_5\">\r\n    <path d=\"M 30.103125 224.64 \r\nL 364.903125 224.64 \r\n\" style=\"fill:none;stroke:#000000;stroke-linecap:square;stroke-linejoin:miter;stroke-width:0.8;\"/>\r\n   </g>\r\n   <g id=\"patch_6\">\r\n    <path d=\"M 30.103125 7.2 \r\nL 364.903125 7.2 \r\n\" style=\"fill:none;stroke:#000000;stroke-linecap:square;stroke-linejoin:miter;stroke-width:0.8;\"/>\r\n   </g>\r\n  </g>\r\n </g>\r\n <defs>\r\n  <clipPath id=\"pf6ca3c97b2\">\r\n   <rect height=\"217.44\" width=\"334.8\" x=\"30.103125\" y=\"7.2\"/>\r\n  </clipPath>\r\n </defs>\r\n</svg>\r\n",
      "image/png": "[encoded data removed]"
     },
     "metadata": {
      "needs_background": "light"
     }
    }
   ],
   "source": [
    "#模型预测=======================================================================================================\n",
    "y_predict=model(x_test)#输入测试集进行预测\n",
    "\n",
    "plt.plot(y_test[:100])\n",
    "plt.plot(y_predict[:100],'r')"
   ]
  },
  {
   "cell_type": "code",
   "execution_count": 16,
   "metadata": {},
   "outputs": [
    {
     "output_type": "execute_result",
     "data": {
      "text/plain": [
       "<tf.Tensor: shape=(47, 1), dtype=float32, numpy=\n",
       "array([[0.],\n",
       "       [0.],\n",
       "       [0.],\n",
       "       [0.],\n",
       "       [0.],\n",
       "       [0.],\n",
       "       [0.],\n",
       "       [0.],\n",
       "       [0.],\n",
       "       [0.],\n",
       "       [0.],\n",
       "       [0.],\n",
       "       [0.],\n",
       "       [0.],\n",
       "       [0.],\n",
       "       [0.],\n",
       "       [0.],\n",
       "       [0.],\n",
       "       [0.],\n",
       "       [0.],\n",
       "       [0.],\n",
       "       [0.],\n",
       "       [0.],\n",
       "       [0.],\n",
       "       [0.],\n",
       "       [0.],\n",
       "       [0.],\n",
       "       [0.],\n",
       "       [0.],\n",
       "       [0.],\n",
       "       [0.],\n",
       "       [0.],\n",
       "       [0.],\n",
       "       [0.],\n",
       "       [0.],\n",
       "       [0.],\n",
       "       [0.],\n",
       "       [0.],\n",
       "       [0.],\n",
       "       [0.],\n",
       "       [0.],\n",
       "       [0.],\n",
       "       [0.],\n",
       "       [0.],\n",
       "       [0.],\n",
       "       [0.],\n",
       "       [0.]], dtype=float32)>"
      ]
     },
     "metadata": {},
     "execution_count": 16
    }
   ],
   "source": [
    "y_predict"
   ]
  },
  {
   "cell_type": "code",
   "execution_count": null,
   "metadata": {},
   "outputs": [],
   "source": []
  },
  {
   "cell_type": "code",
   "execution_count": 1,
   "metadata": {},
   "outputs": [],
   "source": [
    "import baostock as bs\n",
    "import numpy as np\n",
    "import pandas as pd\n",
    "\n",
    "import tensorflow as tf\n",
    "from tensorflow import keras"
   ]
  },
  {
   "cell_type": "code",
   "execution_count": 3,
   "metadata": {},
   "outputs": [
    {
     "output_type": "stream",
     "name": "stdout",
     "text": [
      "login success!\n",
      "login respond error_code:0\n",
      "login respond  error_msg:success\n",
      "query_history_k_data respond error_code:0\n",
      "query_history_k_data respond  error_msg:success\n"
     ]
    }
   ],
   "source": [
    "lg = bs.login()\n",
    "# 显示登陆返回信息\n",
    "print('login respond error_code:'+ lg.error_code)\n",
    "print('login respond  error_msg:'+ lg.error_msg)\n",
    "\n",
    "rs = bs.query_history_k_data(\"300721.SZ\", \"date,code,open,high,low,close,preclose,volume,amount,adjustflag,turn,tradestatus,pctChg,peTTM,pbMRQ,psTTM,pcfNcfTTM,isST\", start_date='2010-01-01', end_date='2021-03-09', frequency=\"d\", adjustflag=\"3\")\n",
    "print('query_history_k_data respond error_code:'+rs.error_code)\n",
    "print('query_history_k_data respond  error_msg:'+rs.error_msg)\n",
    "\n",
    "#### 打印结果集 ####\n",
    "data_list = []\n",
    "while (rs.error_code == '0') & rs.next():  # 获取一条记录，将记录合并在一起\n",
    "    data_list.append(rs.get_row_data())\n",
    "result = pd.DataFrame(data_list, columns=rs.fields)"
   ]
  },
  {
   "cell_type": "code",
   "execution_count": 4,
   "metadata": {},
   "outputs": [
    {
     "output_type": "execute_result",
     "data": {
      "text/plain": [
       "           date       code     open     high      low    close preclose  \\\n",
       "0    2017-11-15  sz.300721  20.0500  24.0600  20.0500  24.0600  16.7100   \n",
       "1    2017-11-16  sz.300721  26.4700  26.4700  26.4700  26.4700  24.0600   \n",
       "2    2017-11-17  sz.300721  29.1200  29.1200  29.1200  29.1200  26.4700   \n",
       "3    2017-11-20  sz.300721  32.0300  32.0300  32.0300  32.0300  29.1200   \n",
       "4    2017-11-21  sz.300721  35.2300  35.2300  35.2300  35.2300  32.0300   \n",
       "..          ...        ...      ...      ...      ...      ...      ...   \n",
       "800  2021-03-03  sz.300721  36.8500  37.2300  36.3000  36.9900  37.1300   \n",
       "801  2021-03-04  sz.300721  36.9000  37.3600  36.1000  36.3000  36.9900   \n",
       "802  2021-03-05  sz.300721  35.9600  36.7500  35.9000  36.2800  36.3000   \n",
       "803  2021-03-08  sz.300721  36.5000  37.2600  35.6900  35.6900  36.2800   \n",
       "804  2021-03-09  sz.300721  35.5000  36.3800  33.1900  33.2000  35.6900   \n",
       "\n",
       "      volume         amount adjustflag      turn tradestatus     pctChg  \\\n",
       "0       8575    205713.5000          3  0.042768           1  43.985640   \n",
       "1       2640     69880.8000          3  0.013167           1  10.016620   \n",
       "2       3200     93184.0000          3  0.015960           1  10.011340   \n",
       "3       6625    212198.7500          3  0.033042           1   9.993125   \n",
       "4      22158    780626.3400          3  0.110514           1   9.990636   \n",
       "..       ...            ...        ...       ...         ...        ...   \n",
       "800  1185380  43522407.6000          3  1.493900           1  -0.377100   \n",
       "801  1243800  45556710.7200          3  1.567500           1  -1.865400   \n",
       "802   926368  33786622.0400          3  1.167400           1  -0.055100   \n",
       "803  1316400  48238437.0000          3  1.659000           1  -1.626200   \n",
       "804  2618300  90946127.0000          3  3.299700           1  -6.976700   \n",
       "\n",
       "           peTTM     pbMRQ     psTTM   pcfNcfTTM isST  \n",
       "0      30.657271  3.573392  1.658425  -15.129562    0  \n",
       "1      33.728095  3.931326  1.824543  -16.645034    0  \n",
       "2      37.104728  4.324904  2.007204  -18.311424    0  \n",
       "3      40.812652  4.757097  2.207786  -20.141308    0  \n",
       "4      44.890095  5.232361  2.428358  -22.153553    0  \n",
       "..           ...       ...       ...         ...  ...  \n",
       "800  -404.037624  3.806287  3.251413   56.558233    0  \n",
       "801  -396.500831  3.735286  3.190762   55.503213    0  \n",
       "802  -396.282373  3.733228  3.189004   55.472633    0  \n",
       "803  -389.837870  3.672517  3.137143   54.570515    0  \n",
       "804  -362.639879  3.416294  2.918273   50.763270    0  \n",
       "\n",
       "[805 rows x 18 columns]"
      ],
      "text/html": "<div>\n<style scoped>\n    .dataframe tbody tr th:only-of-type {\n        vertical-align: middle;\n    }\n\n    .dataframe tbody tr th {\n        vertical-align: top;\n    }\n\n    .dataframe thead th {\n        text-align: right;\n    }\n</style>\n<table border=\"1\" class=\"dataframe\">\n  <thead>\n    <tr style=\"text-align: right;\">\n      <th></th>\n      <th>date</th>\n      <th>code</th>\n      <th>open</th>\n      <th>high</th>\n      <th>low</th>\n      <th>close</th>\n      <th>preclose</th>\n      <th>volume</th>\n      <th>amount</th>\n      <th>adjustflag</th>\n      <th>turn</th>\n      <th>tradestatus</th>\n      <th>pctChg</th>\n      <th>peTTM</th>\n      <th>pbMRQ</th>\n      <th>psTTM</th>\n      <th>pcfNcfTTM</th>\n      <th>isST</th>\n    </tr>\n  </thead>\n  <tbody>\n    <tr>\n      <th>0</th>\n      <td>2017-11-15</td>\n      <td>sz.300721</td>\n      <td>20.0500</td>\n      <td>24.0600</td>\n      <td>20.0500</td>\n      <td>24.0600</td>\n      <td>16.7100</td>\n      <td>8575</td>\n      <td>205713.5000</td>\n      <td>3</td>\n      <td>0.042768</td>\n      <td>1</td>\n      <td>43.985640</td>\n      <td>30.657271</td>\n      <td>3.573392</td>\n      <td>1.658425</td>\n      <td>-15.129562</td>\n      <td>0</td>\n    </tr>\n    <tr>\n      <th>1</th>\n      <td>2017-11-16</td>\n      <td>sz.300721</td>\n      <td>26.4700</td>\n      <td>26.4700</td>\n      <td>26.4700</td>\n      <td>26.4700</td>\n      <td>24.0600</td>\n      <td>2640</td>\n      <td>69880.8000</td>\n      <td>3</td>\n      <td>0.013167</td>\n      <td>1</td>\n      <td>10.016620</td>\n      <td>33.728095</td>\n      <td>3.931326</td>\n      <td>1.824543</td>\n      <td>-16.645034</td>\n      <td>0</td>\n    </tr>\n    <tr>\n      <th>2</th>\n      <td>2017-11-17</td>\n      <td>sz.300721</td>\n      <td>29.1200</td>\n      <td>29.1200</td>\n      <td>29.1200</td>\n      <td>29.1200</td>\n      <td>26.4700</td>\n      <td>3200</td>\n      <td>93184.0000</td>\n      <td>3</td>\n      <td>0.015960</td>\n      <td>1</td>\n      <td>10.011340</td>\n      <td>37.104728</td>\n      <td>4.324904</td>\n      <td>2.007204</td>\n      <td>-18.311424</td>\n      <td>0</td>\n    </tr>\n    <tr>\n      <th>3</th>\n      <td>2017-11-20</td>\n      <td>sz.300721</td>\n      <td>32.0300</td>\n      <td>32.0300</td>\n      <td>32.0300</td>\n      <td>32.0300</td>\n      <td>29.1200</td>\n      <td>6625</td>\n      <td>212198.7500</td>\n      <td>3</td>\n      <td>0.033042</td>\n      <td>1</td>\n      <td>9.993125</td>\n      <td>40.812652</td>\n      <td>4.757097</td>\n      <td>2.207786</td>\n      <td>-20.141308</td>\n      <td>0</td>\n    </tr>\n    <tr>\n      <th>4</th>\n      <td>2017-11-21</td>\n      <td>sz.300721</td>\n      <td>35.2300</td>\n      <td>35.2300</td>\n      <td>35.2300</td>\n      <td>35.2300</td>\n      <td>32.0300</td>\n      <td>22158</td>\n      <td>780626.3400</td>\n      <td>3</td>\n      <td>0.110514</td>\n      <td>1</td>\n      <td>9.990636</td>\n      <td>44.890095</td>\n      <td>5.232361</td>\n      <td>2.428358</td>\n      <td>-22.153553</td>\n      <td>0</td>\n    </tr>\n    <tr>\n      <th>...</th>\n      <td>...</td>\n      <td>...</td>\n      <td>...</td>\n      <td>...</td>\n      <td>...</td>\n      <td>...</td>\n      <td>...</td>\n      <td>...</td>\n      <td>...</td>\n      <td>...</td>\n      <td>...</td>\n      <td>...</td>\n      <td>...</td>\n      <td>...</td>\n      <td>...</td>\n      <td>...</td>\n      <td>...</td>\n      <td>...</td>\n    </tr>\n    <tr>\n      <th>800</th>\n      <td>2021-03-03</td>\n      <td>sz.300721</td>\n      <td>36.8500</td>\n      <td>37.2300</td>\n      <td>36.3000</td>\n      <td>36.9900</td>\n      <td>37.1300</td>\n      <td>1185380</td>\n      <td>43522407.6000</td>\n      <td>3</td>\n      <td>1.493900</td>\n      <td>1</td>\n      <td>-0.377100</td>\n      <td>-404.037624</td>\n      <td>3.806287</td>\n      <td>3.251413</td>\n      <td>56.558233</td>\n      <td>0</td>\n    </tr>\n    <tr>\n      <th>801</th>\n      <td>2021-03-04</td>\n      <td>sz.300721</td>\n      <td>36.9000</td>\n      <td>37.3600</td>\n      <td>36.1000</td>\n      <td>36.3000</td>\n      <td>36.9900</td>\n      <td>1243800</td>\n      <td>45556710.7200</td>\n      <td>3</td>\n      <td>1.567500</td>\n      <td>1</td>\n      <td>-1.865400</td>\n      <td>-396.500831</td>\n      <td>3.735286</td>\n      <td>3.190762</td>\n      <td>55.503213</td>\n      <td>0</td>\n    </tr>\n    <tr>\n      <th>802</th>\n      <td>2021-03-05</td>\n      <td>sz.300721</td>\n      <td>35.9600</td>\n      <td>36.7500</td>\n      <td>35.9000</td>\n      <td>36.2800</td>\n      <td>36.3000</td>\n      <td>926368</td>\n      <td>33786622.0400</td>\n      <td>3</td>\n      <td>1.167400</td>\n      <td>1</td>\n      <td>-0.055100</td>\n      <td>-396.282373</td>\n      <td>3.733228</td>\n      <td>3.189004</td>\n      <td>55.472633</td>\n      <td>0</td>\n    </tr>\n    <tr>\n      <th>803</th>\n      <td>2021-03-08</td>\n      <td>sz.300721</td>\n      <td>36.5000</td>\n      <td>37.2600</td>\n      <td>35.6900</td>\n      <td>35.6900</td>\n      <td>36.2800</td>\n      <td>1316400</td>\n      <td>48238437.0000</td>\n      <td>3</td>\n      <td>1.659000</td>\n      <td>1</td>\n      <td>-1.626200</td>\n      <td>-389.837870</td>\n      <td>3.672517</td>\n      <td>3.137143</td>\n      <td>54.570515</td>\n      <td>0</td>\n    </tr>\n    <tr>\n      <th>804</th>\n      <td>2021-03-09</td>\n      <td>sz.300721</td>\n      <td>35.5000</td>\n      <td>36.3800</td>\n      <td>33.1900</td>\n      <td>33.2000</td>\n      <td>35.6900</td>\n      <td>2618300</td>\n      <td>90946127.0000</td>\n      <td>3</td>\n      <td>3.299700</td>\n      <td>1</td>\n      <td>-6.976700</td>\n      <td>-362.639879</td>\n      <td>3.416294</td>\n      <td>2.918273</td>\n      <td>50.763270</td>\n      <td>0</td>\n    </tr>\n  </tbody>\n</table>\n<p>805 rows × 18 columns</p>\n</div>"
     },
     "metadata": {},
     "execution_count": 4
    }
   ],
   "source": [
    "result"
   ]
  },
  {
   "cell_type": "code",
   "execution_count": 7,
   "metadata": {},
   "outputs": [
    {
     "output_type": "execute_result",
     "data": {
      "text/plain": [
       "          date    close\n",
       "0   2017-11-15  24.0600\n",
       "1   2017-11-16  26.4700\n",
       "2   2017-11-17  29.1200\n",
       "3   2017-11-20  32.0300\n",
       "4   2017-11-21  35.2300\n",
       "5   2017-11-22  38.7500\n",
       "6   2017-11-23  42.6300\n",
       "7   2017-11-24  38.3700\n",
       "8   2017-11-27  34.5300\n",
       "9   2017-11-28  34.6900\n",
       "10  2017-11-29  36.3500\n",
       "11  2017-11-30  39.6800\n",
       "12  2017-12-01  37.5900\n",
       "13  2017-12-04  33.8300\n",
       "14  2017-12-05  34.8000\n",
       "15  2017-12-06  35.6100\n",
       "16  2017-12-07  34.0000\n",
       "17  2017-12-08  36.1800\n",
       "18  2017-12-11  36.7100\n",
       "19  2017-12-12  34.0900\n",
       "20  2017-12-13  37.5000\n",
       "21  2017-12-14  38.9600\n",
       "22  2017-12-15  38.3000\n",
       "23  2017-12-18  39.1000\n",
       "24  2017-12-19  41.0000\n",
       "25  2017-12-20  39.6700\n",
       "26  2017-12-21  43.0100\n",
       "27  2017-12-22  43.0300\n",
       "28  2017-12-25  42.3400\n",
       "29  2017-12-26  42.3300"
      ],
      "text/html": "<div>\n<style scoped>\n    .dataframe tbody tr th:only-of-type {\n        vertical-align: middle;\n    }\n\n    .dataframe tbody tr th {\n        vertical-align: top;\n    }\n\n    .dataframe thead th {\n        text-align: right;\n    }\n</style>\n<table border=\"1\" class=\"dataframe\">\n  <thead>\n    <tr style=\"text-align: right;\">\n      <th></th>\n      <th>date</th>\n      <th>close</th>\n    </tr>\n  </thead>\n  <tbody>\n    <tr>\n      <th>0</th>\n      <td>2017-11-15</td>\n      <td>24.0600</td>\n    </tr>\n    <tr>\n      <th>1</th>\n      <td>2017-11-16</td>\n      <td>26.4700</td>\n    </tr>\n    <tr>\n      <th>2</th>\n      <td>2017-11-17</td>\n      <td>29.1200</td>\n    </tr>\n    <tr>\n      <th>3</th>\n      <td>2017-11-20</td>\n      <td>32.0300</td>\n    </tr>\n    <tr>\n      <th>4</th>\n      <td>2017-11-21</td>\n      <td>35.2300</td>\n    </tr>\n    <tr>\n      <th>5</th>\n      <td>2017-11-22</td>\n      <td>38.7500</td>\n    </tr>\n    <tr>\n      <th>6</th>\n      <td>2017-11-23</td>\n      <td>42.6300</td>\n    </tr>\n    <tr>\n      <th>7</th>\n      <td>2017-11-24</td>\n      <td>38.3700</td>\n    </tr>\n    <tr>\n      <th>8</th>\n      <td>2017-11-27</td>\n      <td>34.5300</td>\n    </tr>\n    <tr>\n      <th>9</th>\n      <td>2017-11-28</td>\n      <td>34.6900</td>\n    </tr>\n    <tr>\n      <th>10</th>\n      <td>2017-11-29</td>\n      <td>36.3500</td>\n    </tr>\n    <tr>\n      <th>11</th>\n      <td>2017-11-30</td>\n      <td>39.6800</td>\n    </tr>\n    <tr>\n      <th>12</th>\n      <td>2017-12-01</td>\n      <td>37.5900</td>\n    </tr>\n    <tr>\n      <th>13</th>\n      <td>2017-12-04</td>\n      <td>33.8300</td>\n    </tr>\n    <tr>\n      <th>14</th>\n      <td>2017-12-05</td>\n      <td>34.8000</td>\n    </tr>\n    <tr>\n      <th>15</th>\n      <td>2017-12-06</td>\n      <td>35.6100</td>\n    </tr>\n    <tr>\n      <th>16</th>\n      <td>2017-12-07</td>\n      <td>34.0000</td>\n    </tr>\n    <tr>\n      <th>17</th>\n      <td>2017-12-08</td>\n      <td>36.1800</td>\n    </tr>\n    <tr>\n      <th>18</th>\n      <td>2017-12-11</td>\n      <td>36.7100</td>\n    </tr>\n    <tr>\n      <th>19</th>\n      <td>2017-12-12</td>\n      <td>34.0900</td>\n    </tr>\n    <tr>\n      <th>20</th>\n      <td>2017-12-13</td>\n      <td>37.5000</td>\n    </tr>\n    <tr>\n      <th>21</th>\n      <td>2017-12-14</td>\n      <td>38.9600</td>\n    </tr>\n    <tr>\n      <th>22</th>\n      <td>2017-12-15</td>\n      <td>38.3000</td>\n    </tr>\n    <tr>\n      <th>23</th>\n      <td>2017-12-18</td>\n      <td>39.1000</td>\n    </tr>\n    <tr>\n      <th>24</th>\n      <td>2017-12-19</td>\n      <td>41.0000</td>\n    </tr>\n    <tr>\n      <th>25</th>\n      <td>2017-12-20</td>\n      <td>39.6700</td>\n    </tr>\n    <tr>\n      <th>26</th>\n      <td>2017-12-21</td>\n      <td>43.0100</td>\n    </tr>\n    <tr>\n      <th>27</th>\n      <td>2017-12-22</td>\n      <td>43.0300</td>\n    </tr>\n    <tr>\n      <th>28</th>\n      <td>2017-12-25</td>\n      <td>42.3400</td>\n    </tr>\n    <tr>\n      <th>29</th>\n      <td>2017-12-26</td>\n      <td>42.3300</td>\n    </tr>\n  </tbody>\n</table>\n</div>"
     },
     "metadata": {},
     "execution_count": 7
    }
   ],
   "source": [
    "i = 0\n",
    "result[['date', 'close']][i:i+30]"
   ]
  },
  {
   "cell_type": "code",
   "execution_count": null,
   "metadata": {},
   "outputs": [],
   "source": []
  }
 ]
}